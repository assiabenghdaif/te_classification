{
 "cells": [
  {
   "cell_type": "markdown",
   "metadata": {
    "id": "JYRP1ADzL8Nr",
    "jp-MarkdownHeadingCollapsed": true
   },
   "source": [
    "## Importation"
   ]
  },
  {
   "cell_type": "code",
   "execution_count": null,
   "metadata": {
    "execution": {
     "iopub.status.busy": "2024-08-07T19:21:06.480776Z",
     "iopub.status.idle": "2024-08-07T19:21:06.481198Z",
     "shell.execute_reply": "2024-08-07T19:21:06.481001Z",
     "shell.execute_reply.started": "2024-08-07T19:21:06.480984Z"
    }
   },
   "outputs": [],
   "source": [
    "from sklearn.tree import DecisionTreeClassifier"
   ]
  },
  {
   "cell_type": "code",
   "execution_count": null,
   "metadata": {
    "execution": {
     "iopub.status.busy": "2024-08-07T19:21:06.483060Z",
     "iopub.status.idle": "2024-08-07T19:21:06.483496Z",
     "shell.execute_reply": "2024-08-07T19:21:06.483293Z",
     "shell.execute_reply.started": "2024-08-07T19:21:06.483277Z"
    },
    "id": "yx7BW1bm1kRP"
   },
   "outputs": [],
   "source": [
    "from tensorflow.keras.preprocessing.text import Tokenizer\n",
    "from tensorflow.keras.preprocessing.sequence import pad_sequences\n",
    "from tensorflow.keras.models import Sequential\n",
    "from tensorflow.keras.layers import Embedding, LSTM, Dense, Dropout\n",
    "from tensorflow.keras.callbacks import EarlyStopping"
   ]
  },
  {
   "cell_type": "code",
   "execution_count": null,
   "metadata": {
    "execution": {
     "iopub.status.busy": "2024-08-07T19:21:06.484708Z",
     "iopub.status.idle": "2024-08-07T19:21:06.485105Z",
     "shell.execute_reply": "2024-08-07T19:21:06.484926Z",
     "shell.execute_reply.started": "2024-08-07T19:21:06.484909Z"
    }
   },
   "outputs": [],
   "source": [
    "from sklearn.model_selection import GridSearchCV,StratifiedKFold\n",
    "from sklearn.preprocessing import MinMaxScaler\n",
    "from sklearn.ensemble import ExtraTreesClassifier\n",
    "from imblearn.over_sampling import SMOTE\n",
    "import pickle"
   ]
  },
  {
   "cell_type": "code",
   "execution_count": 2,
   "metadata": {
    "execution": {
     "iopub.execute_input": "2024-08-07T19:21:06.570821Z",
     "iopub.status.busy": "2024-08-07T19:21:06.570377Z",
     "iopub.status.idle": "2024-08-07T19:21:27.004819Z",
     "shell.execute_reply": "2024-08-07T19:21:27.003251Z",
     "shell.execute_reply.started": "2024-08-07T19:21:06.570789Z"
    },
    "id": "P04AdVwKRAva",
    "outputId": "87ea2ef5-3a3a-490c-c722-6f3ed97d47be"
   },
   "outputs": [
    {
     "name": "stdout",
     "output_type": "stream",
     "text": [
      "Collecting Bio\n",
      "  Downloading bio-1.7.1-py3-none-any.whl.metadata (5.7 kB)\n",
      "Collecting biopython>=1.80 (from Bio)\n",
      "  Downloading biopython-1.84-cp310-cp310-manylinux_2_17_x86_64.manylinux2014_x86_64.whl.metadata (12 kB)\n",
      "Collecting gprofiler-official (from Bio)\n",
      "  Downloading gprofiler_official-1.0.0-py3-none-any.whl.metadata (11 kB)\n",
      "Collecting mygene (from Bio)\n",
      "  Downloading mygene-3.2.2-py2.py3-none-any.whl.metadata (10 kB)\n",
      "Requirement already satisfied: pandas in /opt/conda/lib/python3.10/site-packages (from Bio) (2.2.2)\n",
      "Requirement already satisfied: pooch in /opt/conda/lib/python3.10/site-packages (from Bio) (1.8.2)\n",
      "Requirement already satisfied: requests in /opt/conda/lib/python3.10/site-packages (from Bio) (2.32.3)\n",
      "Requirement already satisfied: tqdm in /opt/conda/lib/python3.10/site-packages (from Bio) (4.66.4)\n",
      "Requirement already satisfied: numpy in /opt/conda/lib/python3.10/site-packages (from biopython>=1.80->Bio) (1.26.4)\n",
      "Collecting biothings-client>=0.2.6 (from mygene->Bio)\n",
      "  Downloading biothings_client-0.3.1-py2.py3-none-any.whl.metadata (9.8 kB)\n",
      "Requirement already satisfied: python-dateutil>=2.8.2 in /opt/conda/lib/python3.10/site-packages (from pandas->Bio) (2.9.0.post0)\n",
      "Requirement already satisfied: pytz>=2020.1 in /opt/conda/lib/python3.10/site-packages (from pandas->Bio) (2023.3.post1)\n",
      "Requirement already satisfied: tzdata>=2022.7 in /opt/conda/lib/python3.10/site-packages (from pandas->Bio) (2023.4)\n",
      "Requirement already satisfied: platformdirs>=2.5.0 in /opt/conda/lib/python3.10/site-packages (from pooch->Bio) (3.11.0)\n",
      "Requirement already satisfied: packaging>=20.0 in /opt/conda/lib/python3.10/site-packages (from pooch->Bio) (21.3)\n",
      "Requirement already satisfied: charset-normalizer<4,>=2 in /opt/conda/lib/python3.10/site-packages (from requests->Bio) (3.3.2)\n",
      "Requirement already satisfied: idna<4,>=2.5 in /opt/conda/lib/python3.10/site-packages (from requests->Bio) (3.6)\n",
      "Requirement already satisfied: urllib3<3,>=1.21.1 in /opt/conda/lib/python3.10/site-packages (from requests->Bio) (1.26.18)\n",
      "Requirement already satisfied: certifi>=2017.4.17 in /opt/conda/lib/python3.10/site-packages (from requests->Bio) (2024.7.4)\n",
      "Requirement already satisfied: pyparsing!=3.0.5,>=2.0.2 in /opt/conda/lib/python3.10/site-packages (from packaging>=20.0->pooch->Bio) (3.1.1)\n",
      "Requirement already satisfied: six>=1.5 in /opt/conda/lib/python3.10/site-packages (from python-dateutil>=2.8.2->pandas->Bio) (1.16.0)\n",
      "Downloading bio-1.7.1-py3-none-any.whl (280 kB)\n",
      "\u001b[2K   \u001b[90m━━━━━━━━━━━━━━━━━━━━━━━━━━━━━━━━━━━━━━━━\u001b[0m \u001b[32m281.0/281.0 kB\u001b[0m \u001b[31m2.5 MB/s\u001b[0m eta \u001b[36m0:00:00\u001b[0m00:01\u001b[0m00:01\u001b[0m\n",
      "\u001b[?25hDownloading biopython-1.84-cp310-cp310-manylinux_2_17_x86_64.manylinux2014_x86_64.whl (3.2 MB)\n",
      "\u001b[2K   \u001b[90m━━━━━━━━━━━━━━━━━━━━━━━━━━━━━━━━━━━━━━━━\u001b[0m \u001b[32m3.2/3.2 MB\u001b[0m \u001b[31m21.3 MB/s\u001b[0m eta \u001b[36m0:00:00\u001b[0m00:01\u001b[0m00:01\u001b[0m\n",
      "\u001b[?25hDownloading gprofiler_official-1.0.0-py3-none-any.whl (9.3 kB)\n",
      "Downloading mygene-3.2.2-py2.py3-none-any.whl (5.4 kB)\n",
      "Downloading biothings_client-0.3.1-py2.py3-none-any.whl (29 kB)\n",
      "Installing collected packages: biopython, gprofiler-official, biothings-client, mygene, Bio\n",
      "Successfully installed Bio-1.7.1 biopython-1.84 biothings-client-0.3.1 gprofiler-official-1.0.0 mygene-3.2.2\n",
      "Note: you may need to restart the kernel to use updated packages.\n"
     ]
    }
   ],
   "source": [
    "%pip install Bio"
   ]
  },
  {
   "cell_type": "code",
   "execution_count": 3,
   "metadata": {
    "execution": {
     "iopub.execute_input": "2024-08-07T19:21:27.009198Z",
     "iopub.status.busy": "2024-08-07T19:21:27.008662Z",
     "iopub.status.idle": "2024-08-07T19:21:42.578707Z",
     "shell.execute_reply": "2024-08-07T19:21:42.577568Z",
     "shell.execute_reply.started": "2024-08-07T19:21:27.009143Z"
    },
    "id": "jRy_IkdBzjeh"
   },
   "outputs": [],
   "source": [
    "from sklearn.feature_extraction.text import CountVectorizer\n",
    "from gensim.models import Word2Vec"
   ]
  },
  {
   "cell_type": "code",
   "execution_count": 4,
   "metadata": {
    "execution": {
     "iopub.execute_input": "2024-08-07T19:21:42.586505Z",
     "iopub.status.busy": "2024-08-07T19:21:42.586051Z",
     "iopub.status.idle": "2024-08-07T19:21:57.425310Z",
     "shell.execute_reply": "2024-08-07T19:21:57.424282Z",
     "shell.execute_reply.started": "2024-08-07T19:21:42.586456Z"
    },
    "id": "xI1TFqz0dA42"
   },
   "outputs": [
    {
     "name": "stderr",
     "output_type": "stream",
     "text": [
      "2024-08-07 19:21:44.771715: E external/local_xla/xla/stream_executor/cuda/cuda_dnn.cc:9261] Unable to register cuDNN factory: Attempting to register factory for plugin cuDNN when one has already been registered\n",
      "2024-08-07 19:21:44.771852: E external/local_xla/xla/stream_executor/cuda/cuda_fft.cc:607] Unable to register cuFFT factory: Attempting to register factory for plugin cuFFT when one has already been registered\n",
      "2024-08-07 19:21:44.947100: E external/local_xla/xla/stream_executor/cuda/cuda_blas.cc:1515] Unable to register cuBLAS factory: Attempting to register factory for plugin cuBLAS when one has already been registered\n"
     ]
    }
   ],
   "source": [
    "from tensorflow.keras.layers import Dense, Flatten, Reshape\n",
    "from tensorflow.keras.optimizers import Adam\n",
    "from sklearn.svm import SVC"
   ]
  },
  {
   "cell_type": "code",
   "execution_count": 5,
   "metadata": {
    "execution": {
     "iopub.execute_input": "2024-08-07T19:21:57.427728Z",
     "iopub.status.busy": "2024-08-07T19:21:57.426827Z",
     "iopub.status.idle": "2024-08-07T19:21:58.104721Z",
     "shell.execute_reply": "2024-08-07T19:21:58.103606Z",
     "shell.execute_reply.started": "2024-08-07T19:21:57.427693Z"
    },
    "id": "C8m2mBLysrgf"
   },
   "outputs": [],
   "source": [
    "from sklearn.naive_bayes import MultinomialNB\n",
    "from sklearn.metrics import accuracy_score, classification_report, log_loss\n",
    "from sklearn import metrics\n",
    "from sklearn.ensemble import RandomForestClassifier\n",
    "from sklearn.metrics import classification_report, confusion_matrix\n",
    "from sklearn.model_selection import train_test_split,cross_val_score\n",
    "import seaborn as sns\n",
    "from keras.regularizers import l2\n",
    "import matplotlib.pyplot as plt\n",
    "from tensorflow.keras.utils import to_categorical"
   ]
  },
  {
   "cell_type": "code",
   "execution_count": 6,
   "metadata": {
    "execution": {
     "iopub.execute_input": "2024-08-07T19:21:58.106637Z",
     "iopub.status.busy": "2024-08-07T19:21:58.106226Z",
     "iopub.status.idle": "2024-08-07T19:21:58.117766Z",
     "shell.execute_reply": "2024-08-07T19:21:58.116328Z",
     "shell.execute_reply.started": "2024-08-07T19:21:58.106604Z"
    },
    "id": "YU2mBp4aFGGB"
   },
   "outputs": [],
   "source": [
    "from joblib import load,dump\n",
    "import tensorflow as tf\n",
    "from tensorflow.keras.models import Sequential\n",
    "from tensorflow.keras.layers import SimpleRNN, Embedding\n",
    "from tensorflow.keras.preprocessing.sequence import pad_sequences\n",
    "from sklearn.model_selection import train_test_split,cross_val_score\n",
    "from tensorflow import keras\n",
    "from tensorflow.keras.layers import Dense, Activation, Dropout, Conv2D, Flatten, MaxPooling2D,Conv1D, MaxPooling1D\n",
    "from tensorflow.keras import regularizers"
   ]
  },
  {
   "cell_type": "code",
   "execution_count": 7,
   "metadata": {
    "execution": {
     "iopub.execute_input": "2024-08-07T19:21:58.120296Z",
     "iopub.status.busy": "2024-08-07T19:21:58.119862Z",
     "iopub.status.idle": "2024-08-07T19:22:13.679144Z",
     "shell.execute_reply": "2024-08-07T19:22:13.677522Z",
     "shell.execute_reply.started": "2024-08-07T19:21:58.120247Z"
    },
    "id": "JdO0rZL1bJ4P"
   },
   "outputs": [
    {
     "name": "stdout",
     "output_type": "stream",
     "text": [
      "Collecting lazypredict\n",
      "  Downloading lazypredict-0.2.12-py2.py3-none-any.whl.metadata (12 kB)\n",
      "Requirement already satisfied: click in /opt/conda/lib/python3.10/site-packages (from lazypredict) (8.1.7)\n",
      "Requirement already satisfied: scikit-learn in /opt/conda/lib/python3.10/site-packages (from lazypredict) (1.2.2)\n",
      "Requirement already satisfied: pandas in /opt/conda/lib/python3.10/site-packages (from lazypredict) (2.2.2)\n",
      "Requirement already satisfied: tqdm in /opt/conda/lib/python3.10/site-packages (from lazypredict) (4.66.4)\n",
      "Requirement already satisfied: joblib in /opt/conda/lib/python3.10/site-packages (from lazypredict) (1.4.2)\n",
      "Requirement already satisfied: lightgbm in /opt/conda/lib/python3.10/site-packages (from lazypredict) (4.2.0)\n",
      "Requirement already satisfied: xgboost in /opt/conda/lib/python3.10/site-packages (from lazypredict) (2.0.3)\n",
      "Requirement already satisfied: numpy in /opt/conda/lib/python3.10/site-packages (from lightgbm->lazypredict) (1.26.4)\n",
      "Requirement already satisfied: scipy in /opt/conda/lib/python3.10/site-packages (from lightgbm->lazypredict) (1.11.4)\n",
      "Requirement already satisfied: python-dateutil>=2.8.2 in /opt/conda/lib/python3.10/site-packages (from pandas->lazypredict) (2.9.0.post0)\n",
      "Requirement already satisfied: pytz>=2020.1 in /opt/conda/lib/python3.10/site-packages (from pandas->lazypredict) (2023.3.post1)\n",
      "Requirement already satisfied: tzdata>=2022.7 in /opt/conda/lib/python3.10/site-packages (from pandas->lazypredict) (2023.4)\n",
      "Requirement already satisfied: threadpoolctl>=2.0.0 in /opt/conda/lib/python3.10/site-packages (from scikit-learn->lazypredict) (3.2.0)\n",
      "Requirement already satisfied: six>=1.5 in /opt/conda/lib/python3.10/site-packages (from python-dateutil>=2.8.2->pandas->lazypredict) (1.16.0)\n",
      "Downloading lazypredict-0.2.12-py2.py3-none-any.whl (12 kB)\n",
      "Installing collected packages: lazypredict\n",
      "Successfully installed lazypredict-0.2.12\n",
      "Note: you may need to restart the kernel to use updated packages.\n"
     ]
    }
   ],
   "source": [
    "# import torch\n",
    "# from torch.utils.data import DataLoader, TensorDataset\n",
    "# from transformers import BertTokenizer, BertForSequenceClassification, AdamW\n",
    "%pip install lazypredict"
   ]
  },
  {
   "cell_type": "code",
   "execution_count": 8,
   "metadata": {
    "execution": {
     "iopub.execute_input": "2024-08-07T19:22:13.681933Z",
     "iopub.status.busy": "2024-08-07T19:22:13.681406Z",
     "iopub.status.idle": "2024-08-07T19:22:15.886574Z",
     "shell.execute_reply": "2024-08-07T19:22:15.885351Z",
     "shell.execute_reply.started": "2024-08-07T19:22:13.681869Z"
    },
    "id": "r7b0q-C2A6u-"
   },
   "outputs": [],
   "source": [
    "from Bio import SeqIO\n",
    "from lazypredict.Supervised import LazyClassifier\n",
    "import pandas as pd\n",
    "import numpy as np\n",
    "import matplotlib.pyplot as plt\n",
    "# from yellowbrick.cluster import KElbowVisualizer\n",
    "from sklearn.cluster import KMeans\n",
    "# from yellowbrick.cluster import KElbowVisualizer\n",
    "from sklearn.feature_extraction.text import TfidfVectorizer\n"
   ]
  },
  {
   "cell_type": "code",
   "execution_count": 9,
   "metadata": {
    "execution": {
     "iopub.execute_input": "2024-08-07T19:22:15.888865Z",
     "iopub.status.busy": "2024-08-07T19:22:15.888088Z",
     "iopub.status.idle": "2024-08-07T19:22:31.026797Z",
     "shell.execute_reply": "2024-08-07T19:22:31.025272Z",
     "shell.execute_reply.started": "2024-08-07T19:22:15.888829Z"
    },
    "id": "-IfQpl2OKVrO",
    "outputId": "05f74585-1fd5-49bd-8b56-f7db43ad0165"
   },
   "outputs": [
    {
     "name": "stdout",
     "output_type": "stream",
     "text": [
      "Requirement already satisfied: biopython in /opt/conda/lib/python3.10/site-packages (1.84)\n",
      "Requirement already satisfied: numpy in /opt/conda/lib/python3.10/site-packages (from biopython) (1.26.4)\n",
      "Note: you may need to restart the kernel to use updated packages.\n"
     ]
    }
   ],
   "source": [
    "pip install biopython"
   ]
  },
  {
   "cell_type": "code",
   "execution_count": 10,
   "metadata": {
    "execution": {
     "iopub.execute_input": "2024-08-07T19:22:31.033572Z",
     "iopub.status.busy": "2024-08-07T19:22:31.032373Z",
     "iopub.status.idle": "2024-08-07T19:22:31.042604Z",
     "shell.execute_reply": "2024-08-07T19:22:31.041091Z",
     "shell.execute_reply.started": "2024-08-07T19:22:31.033509Z"
    },
    "id": "pb40baVYaJrl"
   },
   "outputs": [],
   "source": [
    "path=\"data/\"\n",
    "ET_f=\"element_transposable.fasta\"\n",
    "EnT_f=\"Elements_non_transposables\""
   ]
  },
  {
   "cell_type": "markdown",
   "metadata": {
    "id": "pO0Czb59MAgf"
   },
   "source": [
    "## read/visualisation dataset"
   ]
  },
  {
   "cell_type": "markdown",
   "metadata": {
    "id": "v1_VisysVaMe",
    "jp-MarkdownHeadingCollapsed": true
   },
   "source": [
    "### Function Read data"
   ]
  },
  {
   "cell_type": "code",
   "execution_count": 11,
   "metadata": {
    "execution": {
     "iopub.execute_input": "2024-08-07T19:22:31.045555Z",
     "iopub.status.busy": "2024-08-07T19:22:31.045031Z",
     "iopub.status.idle": "2024-08-07T19:22:31.067197Z",
     "shell.execute_reply": "2024-08-07T19:22:31.065882Z",
     "shell.execute_reply.started": "2024-08-07T19:22:31.045502Z"
    },
    "id": "1at6NuVOCntP"
   },
   "outputs": [],
   "source": [
    "import pandas as pd\n",
    "\n",
    "def read_fasta(file_path, dataclass, classname):\n",
    "    with open(file_path, 'r') as file:\n",
    "        # Read lines from the file\n",
    "        lines = file.readlines()\n",
    "\n",
    "    # Initialize empty lists to store sequence IDs and sequences\n",
    "    sequence_ids = []\n",
    "    sequences = []\n",
    "    labels = []\n",
    "    names = []\n",
    "    lengths = []\n",
    "\n",
    "    # Initialize variables to store the current sequence ID and sequence\n",
    "    current_sequence_id = None\n",
    "    current_sequence = []\n",
    "\n",
    "    # Iterate through the lines in the file\n",
    "    for line in lines:\n",
    "        line = line.strip().lower()\n",
    "\n",
    "        # Check if the line is a header line (starts with '>')\n",
    "        if line.startswith('>'):\n",
    "            # If a sequence is already being processed, store it\n",
    "            if current_sequence_id is not None:\n",
    "                full_sequence = ''.join(current_sequence)\n",
    "                sequence_ids.append(current_sequence_id)\n",
    "                sequences.append(full_sequence)\n",
    "                labels.append(dataclass)\n",
    "                names.append(classname)\n",
    "                lengths.append(len(full_sequence))\n",
    "\n",
    "            # Update current sequence ID\n",
    "            current_sequence_id = line[1:]\n",
    "            # Reset current sequence\n",
    "            current_sequence = []\n",
    "        else:\n",
    "            # Append the sequence line to the current sequence\n",
    "            current_sequence.append(line)\n",
    "\n",
    "    # Add the last sequence to the lists\n",
    "    if current_sequence_id is not None:\n",
    "        full_sequence = ''.join(current_sequence)\n",
    "        sequence_ids.append(current_sequence_id)\n",
    "        sequences.append(full_sequence)\n",
    "        labels.append(dataclass)\n",
    "        names.append(classname)\n",
    "        lengths.append(len(full_sequence))\n",
    "\n",
    "    # Create a DataFrame with sequence IDs and sequences\n",
    "    df = pd.DataFrame({'Sequence_ID': sequence_ids, 'Sequence': sequences, 'Label': labels, 'Classname': names, 'Sequence Length': lengths})\n",
    "    return df\n"
   ]
  },
  {
   "cell_type": "code",
   "execution_count": 12,
   "metadata": {
    "execution": {
     "iopub.execute_input": "2024-08-07T19:22:31.069471Z",
     "iopub.status.busy": "2024-08-07T19:22:31.068960Z",
     "iopub.status.idle": "2024-08-07T19:22:31.087645Z",
     "shell.execute_reply": "2024-08-07T19:22:31.086303Z",
     "shell.execute_reply.started": "2024-08-07T19:22:31.069433Z"
    },
    "id": "J5Hr0uWJ3iWN"
   },
   "outputs": [],
   "source": [
    "import pandas as pd\n",
    "\n",
    "def read_fasta2(file_path, dataclass, classname):\n",
    "    with open(file_path, 'r') as file:\n",
    "        # Read lines from the file\n",
    "        lines = file.readlines()\n",
    "\n",
    "    # Initialize empty lists to store sequence IDs and sequences\n",
    "    sequence_ids = []\n",
    "    sequences = []\n",
    "    labels = []\n",
    "    names = []\n",
    "    lengths = []\n",
    "\n",
    "    # Initialize variables to store the current sequence ID and sequence\n",
    "    current_sequence_id = None\n",
    "    current_sequence = []\n",
    "\n",
    "    # Iterate through the lines in the file\n",
    "    for line in lines:\n",
    "        # line = line.strip().lower()\n",
    "\n",
    "        # Check if the line is a header line (starts with '>')\n",
    "        if line.startswith('>'):\n",
    "            # If a sequence is already being processed, store it\n",
    "            if current_sequence_id is not None:\n",
    "                full_sequence = ''.join(current_sequence)\n",
    "                sequence_ids.append(current_sequence_id)\n",
    "                sequences.append(full_sequence)\n",
    "                labels.append(dataclass)\n",
    "                names.append(classname)\n",
    "                lengths.append(len(full_sequence))\n",
    "\n",
    "            # Update current sequence ID\n",
    "            current_sequence_id = line[1:]\n",
    "            # Reset current sequence\n",
    "            current_sequence = []\n",
    "        else:\n",
    "            # Append the sequence line to the current sequence\n",
    "            current_sequence.append(line)\n",
    "\n",
    "    # Add the last sequence to the lists\n",
    "    if current_sequence_id is not None:\n",
    "        full_sequence = ''.join(current_sequence)\n",
    "        sequence_ids.append(current_sequence_id)\n",
    "        sequences.append(full_sequence)\n",
    "        labels.append(dataclass)\n",
    "        names.append(classname)\n",
    "        lengths.append(len(full_sequence))\n",
    "\n",
    "    # Create a DataFrame with sequence IDs and sequences\n",
    "    df = pd.DataFrame({'Sequence_ID': sequence_ids, 'Sequence': sequences, 'Label': labels, 'Classname': names, 'Sequence Length': lengths})\n",
    "    return df\n"
   ]
  },
  {
   "cell_type": "markdown",
   "metadata": {
    "id": "1_HTNnLvVgOp"
   },
   "source": [
    "### read data"
   ]
  },
  {
   "cell_type": "code",
   "execution_count": 13,
   "metadata": {
    "execution": {
     "iopub.execute_input": "2024-08-07T19:22:31.089989Z",
     "iopub.status.busy": "2024-08-07T19:22:31.089198Z",
     "iopub.status.idle": "2024-08-07T19:23:00.721447Z",
     "shell.execute_reply": "2024-08-07T19:23:00.720418Z",
     "shell.execute_reply.started": "2024-08-07T19:22:31.089953Z"
    },
    "id": "NeXFFrLSCqoL"
   },
   "outputs": [],
   "source": [
    "ET_d = read_fasta(\"/kaggle/input/dataetent1/element_transposable.fasta\",1,'ET') #for transposable elements label 1\n",
    "dataX=read_fasta2(\"/kaggle/input/dataetent1/repbaseclasse2.fa\",1, 'ET')\n",
    "EnT_d = read_fasta(\"/kaggle/input/dataetent1/Elements_non_transposables\",0,'EnT') #for NON transposable elements label 0\n",
    "EnT_d_2 = read_fasta(\"/kaggle/input/dataetent1/EnT.fasta\",0,'EnT')\n",
    "EnT_d_3 = read_fasta(\"/kaggle/input/dataetent1/EnT2.fasta\",0,'EnT')\n",
    "EnT_d_4 = read_fasta(\"/kaggle/input/dataetent2/EnT3.fasta\",0,'EnT')"
   ]
  },
  {
   "cell_type": "code",
   "execution_count": 14,
   "metadata": {
    "execution": {
     "iopub.execute_input": "2024-08-07T19:23:00.723325Z",
     "iopub.status.busy": "2024-08-07T19:23:00.722912Z",
     "iopub.status.idle": "2024-08-07T19:23:00.735331Z",
     "shell.execute_reply": "2024-08-07T19:23:00.733856Z",
     "shell.execute_reply.started": "2024-08-07T19:23:00.723293Z"
    },
    "id": "keGw7b1HEQCC",
    "outputId": "599aea91-464e-4e84-8a0a-d9ca8a68a003"
   },
   "outputs": [
    {
     "name": "stdout",
     "output_type": "stream",
     "text": [
      "ET_d.shape\t (5741, 5) \n",
      "EnT_d.shape\t (1373, 5) \n",
      "dataX.shape\t (9597, 5) \n",
      "EnT_d_2.shape\t (714, 5) \n",
      "EnT_d_3.shape\t (993, 5) \n",
      "EnT_d_4.shape\t (601792, 5)\n"
     ]
    }
   ],
   "source": [
    "print(\"ET_d.shape\\t\",ET_d.shape,\"\\nEnT_d.shape\\t\",EnT_d.shape,\"\\ndataX.shape\\t\",dataX.shape,\"\\nEnT_d_2.shape\\t\",EnT_d_2.shape,\"\\nEnT_d_3.shape\\t\",EnT_d_3.shape,\"\\nEnT_d_4.shape\\t\",EnT_d_4.shape)"
   ]
  },
  {
   "cell_type": "code",
   "execution_count": 15,
   "metadata": {
    "execution": {
     "iopub.execute_input": "2024-08-07T19:23:00.737569Z",
     "iopub.status.busy": "2024-08-07T19:23:00.737100Z",
     "iopub.status.idle": "2024-08-07T19:23:02.918905Z",
     "shell.execute_reply": "2024-08-07T19:23:02.917876Z",
     "shell.execute_reply.started": "2024-08-07T19:23:00.737534Z"
    }
   },
   "outputs": [],
   "source": [
    "p_element_d=read_fasta(\"/kaggle/input/familles2/p_MITE1.fasta\",1,'ET') #2 for P_MITE\n",
    "TC1_MARINER_d=read_fasta(\"/kaggle/input/familles2/TC1_MARINER_MITE.fasta\",1,'ET') #2 for P_MITE\n",
    "hAT_d=read_fasta(\"/kaggle/input/familles2/hAT.fasta\",1,'ET') #3 for HAT_MITE\n",
    "hAT_d_2=read_fasta(\"/kaggle/input/familles2/HAT_MITE.fasta\",1,'ET') #3 for HAT_MITE\n",
    "piggyBac_d=read_fasta(\"/kaggle/input/familles2/piggyBac.fasta\",1,'ET') #4 for PiggyBac\n",
    "piggyBac__d=read_fasta(\"/kaggle/input/familles2/piggyBac_.fasta\",1,'ET') #4 for PiggyBac\n",
    "piggyBac_d_2=read_fasta(\"/kaggle/input/familles2/PiggyBac1.fasta\",1,'ET') #4 for PiggyBac\n",
    "Merlin_d=read_fasta(\"/kaggle/input/familles2/merlindata.fasta\",1,'ET') # for merlin\n",
    "merlin_d_2=read_fasta(\"/kaggle/input/familles2/merlindata_2.fasta\",1,'ET') # for merlin\n",
    "P_element_d_2=read_fasta(\"/kaggle/input/familles2/P_MITE2.fasta\",1,'ET') #2 for P_MITE\n",
    "P_element_d_3=read_fasta(\"/kaggle/input/familles2/sequencesPelemnt.fasta\",1,'ET')\n",
    "PiggyBacNew_d=read_fasta(\"/kaggle/input/familles2/PiggyBacNew.fasta\",1,'ET') #2 for P_MITE\n",
    "MutatorNew_d=read_fasta(\"/kaggle/input/familles2/MutatorNew.fasta\",1,'ET') #2 for P_MITE\n",
    "CACTANew_d=read_fasta(\"/kaggle/input/familles2/CACTANew.fasta\",1,'ET') #2 for P_MITE\n",
    "ETDfam_d=read_fasta(\"/kaggle/input/dataetent3/ETDfam.fasta\",1,'ET') #2 for P_MITE\n",
    "ETDfam2_d=read_fasta(\"/kaggle/input/dataetent3/ETDfam10.fasta\",1,'ET') #2 for P_MITE\n",
    "ETDfam3_d=read_fasta(\"/kaggle/input/dataetent3/ETDfam2.fasta\",1,'ET') #2 for P_MITE\n",
    "ETDfam4_d=read_fasta(\"/kaggle/input/dataetent3/ETDfam3.fasta\",1,'ET') #2 for P_MITE\n",
    "ETDfam5_d=read_fasta(\"/kaggle/input/dataetent3/ETDfam4.fasta\",1,'ET') #2 for P_MITE\n",
    "ETDfam6_d=read_fasta(\"/kaggle/input/dataetent3/ETDfam5.fasta\",1,'ET') #2 for P_MITE\n",
    "ETDfam7_d=read_fasta(\"/kaggle/input/dataetent3/ETDfam6.fasta\",1,'ET') #2 for P_MITE\n",
    "ETDfam8_d=read_fasta(\"/kaggle/input/dataetent3/ETDfam7.fasta\",1,'ET') #2 for P_MITE\n",
    "ETDfam9_d=read_fasta(\"/kaggle/input/dataetent3/ETDfam8.fasta\",1,'ET') #2 for P_MITE\n",
    "ETDfam10_d=read_fasta(\"/kaggle/input/dataetent3/ETDfam9.fasta\",1,'ET') #2 for P_MITE\n",
    "p_ele_d=read_fasta(\"/kaggle/input/p-ele-d/p_ele_d.fasta\",1,'ET')"
   ]
  },
  {
   "cell_type": "code",
   "execution_count": 84,
   "metadata": {
    "execution": {
     "iopub.execute_input": "2024-08-07T19:42:27.537263Z",
     "iopub.status.busy": "2024-08-07T19:42:27.536760Z",
     "iopub.status.idle": "2024-08-07T19:42:27.575094Z",
     "shell.execute_reply": "2024-08-07T19:42:27.573841Z",
     "shell.execute_reply.started": "2024-08-07T19:42:27.537225Z"
    },
    "id": "ROK3L2JTvHTB"
   },
   "outputs": [],
   "source": [
    "ET_totalData=pd.concat([ET_d, \n",
    "                        dataX,p_ele_d,\n",
    "                        TC1_MARINER_d,hAT_d_2,\n",
    "                        p_element_d,\n",
    "                        hAT_d,piggyBac_d,piggyBac__d,\n",
    "                        Merlin_d, \n",
    "                        P_element_d_2,\n",
    "                        P_element_d_3,\n",
    "                        PiggyBacNew_d,piggyBac_d_2,MutatorNew_d,\n",
    "                        CACTANew_d,\n",
    "                        merlin_d_2,\n",
    "                        ETDfam_d,ETDfam2_d,ETDfam3_d,ETDfam4_d,ETDfam5_d,ETDfam6_d,ETDfam7_d,ETDfam8_d,ETDfam9_d,ETDfam10_d\n",
    "                        ], \n",
    "                       axis=0, ignore_index=True)"
   ]
  },
  {
   "cell_type": "code",
   "execution_count": 85,
   "metadata": {
    "execution": {
     "iopub.execute_input": "2024-08-07T19:42:30.725148Z",
     "iopub.status.busy": "2024-08-07T19:42:30.724713Z",
     "iopub.status.idle": "2024-08-07T19:42:30.732490Z",
     "shell.execute_reply": "2024-08-07T19:42:30.731278Z",
     "shell.execute_reply.started": "2024-08-07T19:42:30.725114Z"
    },
    "id": "epdQpG4TvOCM",
    "outputId": "f1f15a53-2999-4c92-92f2-bafba5fdd936"
   },
   "outputs": [
    {
     "data": {
      "text/plain": [
       "(139346, 5)"
      ]
     },
     "execution_count": 85,
     "metadata": {},
     "output_type": "execute_result"
    }
   ],
   "source": [
    "ET_totalData.shape"
   ]
  },
  {
   "cell_type": "code",
   "execution_count": 86,
   "metadata": {
    "execution": {
     "iopub.execute_input": "2024-08-07T19:42:35.068649Z",
     "iopub.status.busy": "2024-08-07T19:42:35.068145Z",
     "iopub.status.idle": "2024-08-07T19:42:35.139194Z",
     "shell.execute_reply": "2024-08-07T19:42:35.137903Z",
     "shell.execute_reply.started": "2024-08-07T19:42:35.068612Z"
    },
    "id": "K7Ik2OJWc1Oa"
   },
   "outputs": [],
   "source": [
    "EnT_totalData=pd.concat([EnT_d,\n",
    "                         EnT_d_2,\n",
    "                         EnT_d_3,EnT_d_4\n",
    "                        ], axis=0, ignore_index=True)"
   ]
  },
  {
   "cell_type": "code",
   "execution_count": 87,
   "metadata": {
    "execution": {
     "iopub.execute_input": "2024-08-07T19:42:37.689679Z",
     "iopub.status.busy": "2024-08-07T19:42:37.689231Z",
     "iopub.status.idle": "2024-08-07T19:42:37.697720Z",
     "shell.execute_reply": "2024-08-07T19:42:37.696376Z",
     "shell.execute_reply.started": "2024-08-07T19:42:37.689644Z"
    },
    "id": "r7FYsJj7mK_Y",
    "outputId": "edd29c4e-0f89-4ad6-d15f-cf446a6bf778"
   },
   "outputs": [
    {
     "data": {
      "text/plain": [
       "(604872, 5)"
      ]
     },
     "execution_count": 87,
     "metadata": {},
     "output_type": "execute_result"
    }
   ],
   "source": [
    "EnT_totalData.shape"
   ]
  },
  {
   "cell_type": "markdown",
   "metadata": {
    "id": "tdneKkYQMLBL",
    "jp-MarkdownHeadingCollapsed": true
   },
   "source": [
    "## Unbalanced dataset"
   ]
  },
  {
   "cell_type": "code",
   "execution_count": null,
   "metadata": {
    "collapsed": true,
    "id": "94rZcxUvaoC9",
    "jupyter": {
     "outputs_hidden": true,
     "source_hidden": true
    },
    "outputId": "f73c512b-5eb2-489c-f46b-b3040b67a8ae"
   },
   "outputs": [],
   "source": [
    "# as you can see the shapes are not equals we have a biased  or unbalanced dataset that can effect the model performance we had to\n",
    "#Rééchantilloner le jeux de donnees soit le undersimpling(Sous-échantillonnage) ou oversimpling(Sur-échantillonnage)\n",
    "\"\"\"Oversampling — Duplicating samples from the minority class\n",
    "Le sous-échantillonnage est généralement préférable lorsque la quantité de données disponibles est moindre ou lorsqu’un\n",
    "ensemble de données doit être simplifié. Il nécessite la collecte d’une quantité moindre de données, ce qui réduit le temps\n",
    "et les coûts1. De plus, il peut contribuer à réduire la complexité d’un ensemble de données, ce qui en facilite l’analyse. Cependant, le sous-échantillonnage\n",
    "peut entraîner une sous-représentation des points de données, ce qui peut conduire à des résultats inexacts\"\"\""
   ]
  },
  {
   "cell_type": "code",
   "execution_count": null,
   "metadata": {
    "id": "S33h8gZGj2MK",
    "jupyter": {
     "source_hidden": true
    }
   },
   "outputs": [],
   "source": [
    "from imblearn.under_sampling import RandomUnderSampler\n",
    "from imblearn.over_sampling import RandomOverSampler\n",
    "#creating the instance for random over sampler\n",
    "randomOverSampler = RandomOverSampler()\n",
    "\n",
    "#performing resampling\n",
    "X_over, y_over = randomOverSampler.fit_resample(X, y)\n",
    "Counter(y_over)\n",
    "\n",
    "# Sous-échantillonnage\n",
    "rus = RandomUnderSampler()\n",
    "X_rus, y_rus = rus.fit_resample(Labled_data['Sequence'], Labled_data['Label'])"
   ]
  },
  {
   "cell_type": "markdown",
   "metadata": {
    "id": "2zFX5LStMTqk"
   },
   "source": [
    "## Pre-processing"
   ]
  },
  {
   "cell_type": "markdown",
   "metadata": {
    "id": "tmKUuh5FV73M"
   },
   "source": [
    "### Pre-processing Functions"
   ]
  },
  {
   "cell_type": "code",
   "execution_count": 88,
   "metadata": {
    "execution": {
     "iopub.execute_input": "2024-08-07T19:42:42.149971Z",
     "iopub.status.busy": "2024-08-07T19:42:42.149515Z",
     "iopub.status.idle": "2024-08-07T19:42:42.168687Z",
     "shell.execute_reply": "2024-08-07T19:42:42.167202Z",
     "shell.execute_reply.started": "2024-08-07T19:42:42.149936Z"
    },
    "id": "2z4ay3iTw3D1"
   },
   "outputs": [],
   "source": [
    "def dataPreprocessing(data):\n",
    "  tc1=0\n",
    "  p=0\n",
    "  MuDR=0\n",
    "  hAT=0\n",
    "  PiggyBac=0\n",
    "  Merlin=0\n",
    "  CACTA=0\n",
    "\n",
    "  for i in data:\n",
    "    if  \"\\tmariner/tc1\".casefold() in i.casefold() :\n",
    "        tc1+=1\n",
    "    if  \"kw=DNA/TcMar-Mariner.\".casefold() in i.casefold() :\n",
    "        tc1+=1\n",
    "\n",
    "    if \"\\tP\\t\".casefold() in i.casefold() :\n",
    "        p+=1\n",
    "    if \"KW=DNA/P.\".casefold() in i.casefold() :\n",
    "        p+=1\n",
    "    if \"kw=dna/p-fungi.\".casefold() in i.casefold() :\n",
    "        p+=1\n",
    "\n",
    "    if \"\\tMuDR\\t\".casefold() in i.casefold() :\n",
    "        MuDR+=1\n",
    "    if \"KW=DNA/MULE-MuDR.\".casefold() in i.casefold() :\n",
    "        MuDR+=1\n",
    "    if \"KW=DNA/PiggyBac.\".casefold() in i.casefold() :\n",
    "        PiggyBac+=1\n",
    "    if \"\\thAT\\t\".casefold() in i.casefold() :\n",
    "        hAT+=1\n",
    "    if \"KW=DNA/hAT\".casefold() in i.casefold() :\n",
    "        hAT+=1\n",
    "    if \"tc1-mariner_mite\".casefold() in i.casefold() :\n",
    "        tc1+=1\n",
    "    if 'P_MITE'.casefold() in i.casefold() :\n",
    "        p+=1\n",
    "    if 'dna-transposon, tir, p'.casefold() in i.casefold() :\n",
    "        p+=1\n",
    "\n",
    "    if  'Mutator'.casefold()  in i.casefold() :\n",
    "        MuDR+=1\n",
    "    if  ' dna-transposon, tir, Mutator'.casefold()  in i.casefold() :\n",
    "        MuDR+=1\n",
    "    if \"\\tPiggyBac\\t\".casefold() in i.casefold():\n",
    "        PiggyBac+=1\n",
    "    if \" dna-transposon, tir, PiggyBac\".casefold() in i.casefold():\n",
    "        PiggyBac+=1\n",
    "    if \"\\tMerlin\\t\".casefold() in i.casefold():\n",
    "        Merlin+=1\n",
    "    if \"merlin\".casefold() in i.casefold():\n",
    "        Merlin+=1\n",
    "    if \"kw=DNA/Merlin.\".casefold() in i.casefold():\n",
    "        Merlin+=1\n",
    "    if \"Mer [organism=drosophila\".casefold() in i.casefold():\n",
    "        Merlin+=1\n",
    "    if \"CACTA\\t\".casefold() in i.casefold():\n",
    "        CACTA+=1\n",
    "    if \"DNA-transposon, TIR, CACTA\".casefold() in i.casefold():\n",
    "        CACTA+=1\n",
    "    \n",
    "\n",
    "  print(\"TC1_MARINER_MITE : \", tc1)\n",
    "  print(\"P : \", p)\n",
    "  print(\"HAT : \", hAT)\n",
    "  print(\"PiggyBac : \", PiggyBac)\n",
    "  print(\"Mutator : \", MuDR)\n",
    "  print(\"Merlin : \", Merlin)\n",
    "  print(\"CACTA : \", CACTA)"
   ]
  },
  {
   "cell_type": "code",
   "execution_count": 73,
   "metadata": {
    "execution": {
     "iopub.execute_input": "2024-08-07T19:39:21.983363Z",
     "iopub.status.busy": "2024-08-07T19:39:21.982884Z",
     "iopub.status.idle": "2024-08-07T19:39:21.990087Z",
     "shell.execute_reply": "2024-08-07T19:39:21.988457Z",
     "shell.execute_reply.started": "2024-08-07T19:39:21.983328Z"
    },
    "id": "mspMCTbMGpJ6"
   },
   "outputs": [],
   "source": [
    "def dropDuplicates(data):\n",
    "  print(\"old shape=\",data.shape)\n",
    "  df_unique = data.drop_duplicates(subset='Sequence')\n",
    "  print(\"new shape=\",df_unique.shape)\n",
    "  return df_unique"
   ]
  },
  {
   "cell_type": "code",
   "execution_count": 89,
   "metadata": {
    "execution": {
     "iopub.execute_input": "2024-08-07T19:42:46.026556Z",
     "iopub.status.busy": "2024-08-07T19:42:46.025690Z",
     "iopub.status.idle": "2024-08-07T19:42:46.049802Z",
     "shell.execute_reply": "2024-08-07T19:42:46.048354Z",
     "shell.execute_reply.started": "2024-08-07T19:42:46.026513Z"
    },
    "id": "pSjjZIK71MES"
   },
   "outputs": [],
   "source": [
    "import pandas as pd\n",
    "\n",
    "def eliminateDataless(data):\n",
    "\n",
    "    tc1 = 0\n",
    "    p = 0\n",
    "    MuDR = 0\n",
    "    hAT = 0\n",
    "    PiggyBac = 0\n",
    "    Merlin = 0\n",
    "    CACTA = 0\n",
    "    # Convert 'Sequence_ID' to lowercase for case-insensitive comparison\n",
    "    data['Sequence_ID_lower'] = data['Sequence_ID'].str.casefold()\n",
    "\n",
    "    # Define conditions for each category\n",
    "    conditions = {\n",
    "        \"TC1_Mariner\": (data['Sequence_ID_lower'].str.contains(\"\\tmariner/tc1\") & (data['Sequence Length'] >= 1300)) |\n",
    "                            (data['Sequence_ID_lower'].str.contains(\"tc1-mariner_mite\") & (data['Sequence Length'] >= 1300)) |\n",
    "        (data['Sequence_ID_lower'].str.contains(\"kw=dna/tcmar-mariner.\") & (data['Sequence Length'] >= 1300))  ,\n",
    "\n",
    "        \"P_Element\": (data['Sequence_ID_lower'].str.contains(\"\\tp\\t\") & (data['Sequence Length'] >= 2900)) |\n",
    "             (data['Sequence_ID_lower'].str.contains('p_mite') & (data['Sequence Length'] >= 2900)) |\n",
    "             (data['Sequence_ID_lower'].str.contains(' dna-transposon, tir, p') & (data['Sequence Length'] >= 2900)) |\n",
    "              (data['Sequence_ID_lower'].str.contains('kw=dna/p.') & (data['Sequence Length'] >= 2900)) |\n",
    "        (data['Sequence_ID_lower'].str.contains('kw=dna/p-fungi.') & (data['Sequence Length'] >= 2900))\n",
    "              ,\n",
    "\n",
    "        \"MuDR\": (data['Sequence_ID_lower'].str.contains(\"\\tmudr\\t\") & (data['Sequence Length'] >= 4000)) |\n",
    "                (data['Sequence_ID_lower'].str.contains('mutator') & (data['Sequence Length'] >= 4000)) |\n",
    "                (data['Sequence_ID_lower'].str.contains(\" dna-transposon, tir, mutator\")   & (data['Sequence Length'] >= 4000)) |\n",
    "                (data['Sequence_ID_lower'].str.contains(\"kw=dna/mule-mudr.\")   & (data['Sequence Length'] >= 4000)),\n",
    "\n",
    "        \"HAT\": (data['Sequence_ID_lower'].str.contains(\"\\that\\t\") & (data['Sequence Length'] >= 2000))|\n",
    "        (       data['Sequence_ID_lower'].str.contains(\"kw=dna/hat\") & (data['Sequence Length'] >= 2000)),\n",
    "\n",
    "        \"PiggyBac\": data['Sequence_ID_lower'].str.contains(\"\\tpiggybac\\t\") |\n",
    "                    data['Sequence_ID_lower'].str.contains(\" dna-transposon, tir, piggybac\") |\n",
    "                    data['Sequence_ID_lower'].str.contains(\"kw=dna/piggybac.c\"),\n",
    "\n",
    "        \"Merlin\": data['Sequence_ID_lower'].str.contains(\"\\tmerlin\\t\") |\n",
    "                  data['Sequence_ID_lower'].str.contains(\"mer \\[organism=drosophila\") |\n",
    "                  data['Sequence_ID_lower'].str.contains(\"merlin\") |\n",
    "                  data['Sequence_ID_lower'].str.contains(\"kw=dna/merlin.\"),\n",
    "\n",
    "        \"CACTA\":( data['Sequence_ID_lower'].str.contains(\"cacta\\t\") & (data['Sequence Length'] >= 3000))|\n",
    "                ( data['Sequence_ID_lower'].str.contains(\"dna-transposon, tir, casta\") & (data['Sequence Length'] >= 3000) )\n",
    "    }\n",
    "\n",
    "    # Filter the data based on conditions and add a new column for the category\n",
    "    filtered_data = pd.DataFrame()\n",
    "    for category, condition in conditions.items():\n",
    "        temp_data = data[condition].copy()\n",
    "        temp_data['Category'] = category\n",
    "        filtered_data = pd.concat([filtered_data, temp_data], ignore_index=True)\n",
    "\n",
    "    # Drop the auxiliary column used for case-insensitive matching\n",
    "    filtered_data.drop(columns=['Sequence_ID_lower'], inplace=True)\n",
    "    # Calculate counts for each condition\n",
    "    tc1 = data[conditions['TC1_Mariner']].shape[0]\n",
    "    p = data[conditions['P_Element']].shape[0]\n",
    "    MuDR = data[conditions['MuDR']].shape[0]\n",
    "    hAT = data[conditions['HAT']].shape[0]\n",
    "    PiggyBac = data[conditions['PiggyBac']].shape[0]\n",
    "    Merlin = data[conditions['Merlin']].shape[0]\n",
    "    CACTA = data[conditions['CACTA']].shape[0]\n",
    "\n",
    "    # Print results\n",
    "    print(\"TC1_Mariner : \", tc1)\n",
    "    print(\"P_Element : \", p)\n",
    "    print(\"HAT : \", hAT)\n",
    "    print(\"PiggyBac : \", PiggyBac)\n",
    "    print(\"Mutator/MuDR : \", MuDR)\n",
    "    print(\"Merlin : \", Merlin)\n",
    "    print(\"CACTA : \", CACTA)\n",
    "\n",
    "    return filtered_data\n",
    "\n",
    "\n"
   ]
  },
  {
   "cell_type": "code",
   "execution_count": 28,
   "metadata": {
    "execution": {
     "iopub.execute_input": "2024-08-07T19:24:29.423077Z",
     "iopub.status.busy": "2024-08-07T19:24:29.422637Z",
     "iopub.status.idle": "2024-08-07T19:24:29.430892Z",
     "shell.execute_reply": "2024-08-07T19:24:29.429497Z",
     "shell.execute_reply.started": "2024-08-07T19:24:29.423045Z"
    },
    "id": "-jEWqINzucSm"
   },
   "outputs": [],
   "source": [
    "def substituer_nucl(seqs) :\n",
    "  new_seqs = []\n",
    "  for seq in seqs :\n",
    "    s = list(seq)\n",
    "    for i in range(0, len(s)) :\n",
    "        if s[i] not in ['a','t','c','g'] :\n",
    "            s[i] = 'z'\n",
    "    new_seqs.append(''.join(s))\n",
    "  return new_seqs"
   ]
  },
  {
   "cell_type": "code",
   "execution_count": 29,
   "metadata": {
    "execution": {
     "iopub.execute_input": "2024-08-07T19:24:30.546600Z",
     "iopub.status.busy": "2024-08-07T19:24:30.546111Z",
     "iopub.status.idle": "2024-08-07T19:24:30.552865Z",
     "shell.execute_reply": "2024-08-07T19:24:30.551730Z",
     "shell.execute_reply.started": "2024-08-07T19:24:30.546565Z"
    },
    "id": "O1kMTuYtzm_6"
   },
   "outputs": [],
   "source": [
    "\n",
    "def Kmers_funct(seq, size):\n",
    "    return [seq[x:x+size].lower() for x in range(len(seq) - size + 1)]"
   ]
  },
  {
   "cell_type": "code",
   "execution_count": 30,
   "metadata": {
    "execution": {
     "iopub.execute_input": "2024-08-07T19:24:31.663758Z",
     "iopub.status.busy": "2024-08-07T19:24:31.663311Z",
     "iopub.status.idle": "2024-08-07T19:24:31.670098Z",
     "shell.execute_reply": "2024-08-07T19:24:31.668734Z",
     "shell.execute_reply.started": "2024-08-07T19:24:31.663726Z"
    },
    "id": "LlQ_a6oPznAE"
   },
   "outputs": [],
   "source": [
    "\n",
    "def join_kmers(seqs) :\n",
    "  x = seqs\n",
    "  for item in range(len(seqs)):\n",
    "      x[item] = ' '.join(x[item])\n",
    "  return x"
   ]
  },
  {
   "cell_type": "markdown",
   "metadata": {
    "id": "NL4dPMeMWGkC",
    "jp-MarkdownHeadingCollapsed": true
   },
   "source": [
    "### Data pre-processing\n"
   ]
  },
  {
   "cell_type": "code",
   "execution_count": 90,
   "metadata": {
    "execution": {
     "iopub.execute_input": "2024-08-07T19:42:51.842588Z",
     "iopub.status.busy": "2024-08-07T19:42:51.842138Z",
     "iopub.status.idle": "2024-08-07T19:42:52.612235Z",
     "shell.execute_reply": "2024-08-07T19:42:52.611035Z",
     "shell.execute_reply.started": "2024-08-07T19:42:51.842554Z"
    },
    "id": "LUe50ZvJuM87",
    "outputId": "5eb10244-e499-4260-cbd7-89210c817bd6"
   },
   "outputs": [
    {
     "name": "stdout",
     "output_type": "stream",
     "text": [
      "TC1_MARINER_MITE :  9138\n",
      "P :  6589\n",
      "HAT :  109285\n",
      "PiggyBac :  5663\n",
      "Mutator :  3391\n",
      "Merlin :  4222\n",
      "CACTA :  1083\n"
     ]
    }
   ],
   "source": [
    "dataPreprocessing(ET_totalData['Sequence_ID'])"
   ]
  },
  {
   "cell_type": "code",
   "execution_count": 91,
   "metadata": {
    "execution": {
     "iopub.execute_input": "2024-08-07T19:42:55.054463Z",
     "iopub.status.busy": "2024-08-07T19:42:55.052835Z",
     "iopub.status.idle": "2024-08-07T19:42:55.136977Z",
     "shell.execute_reply": "2024-08-07T19:42:55.135645Z",
     "shell.execute_reply.started": "2024-08-07T19:42:55.054406Z"
    },
    "id": "vFISKxrgGUEg",
    "outputId": "cdeddb23-5fb5-43e4-ae7a-897eb8cbe1e3"
   },
   "outputs": [
    {
     "name": "stdout",
     "output_type": "stream",
     "text": [
      "old shape= (139346, 5)\n",
      "new shape= (132525, 5)\n"
     ]
    }
   ],
   "source": [
    "afterdropdup=dropDuplicates(ET_totalData)"
   ]
  },
  {
   "cell_type": "code",
   "execution_count": 92,
   "metadata": {
    "execution": {
     "iopub.execute_input": "2024-08-07T19:42:57.816404Z",
     "iopub.status.busy": "2024-08-07T19:42:57.815203Z",
     "iopub.status.idle": "2024-08-07T19:42:58.751369Z",
     "shell.execute_reply": "2024-08-07T19:42:58.749911Z",
     "shell.execute_reply.started": "2024-08-07T19:42:57.816332Z"
    },
    "id": "sfQwYqQh39Q7",
    "outputId": "1bf96918-ad21-48b4-a2c0-e06d652b66b4"
   },
   "outputs": [
    {
     "name": "stdout",
     "output_type": "stream",
     "text": [
      "old shape= (604872, 5)\n",
      "new shape= (604783, 5)\n"
     ]
    }
   ],
   "source": [
    "EnT_totalData=dropDuplicates(EnT_totalData)"
   ]
  },
  {
   "cell_type": "code",
   "execution_count": 93,
   "metadata": {
    "execution": {
     "iopub.execute_input": "2024-08-07T19:43:01.359340Z",
     "iopub.status.busy": "2024-08-07T19:43:01.358301Z",
     "iopub.status.idle": "2024-08-07T19:43:02.094662Z",
     "shell.execute_reply": "2024-08-07T19:43:02.093348Z",
     "shell.execute_reply.started": "2024-08-07T19:43:01.359297Z"
    },
    "id": "0tpVwUAfnnuR",
    "outputId": "98a1467d-4541-47ac-ecac-9b7a575a8d1c"
   },
   "outputs": [
    {
     "name": "stdout",
     "output_type": "stream",
     "text": [
      "TC1_MARINER_MITE :  7478\n",
      "P :  4043\n",
      "HAT :  107534\n",
      "PiggyBac :  5277\n",
      "Mutator :  3387\n",
      "Merlin :  3988\n",
      "CACTA :  1080\n"
     ]
    }
   ],
   "source": [
    "dataPreprocessing(afterdropdup['Sequence_ID'])"
   ]
  },
  {
   "cell_type": "code",
   "execution_count": 94,
   "metadata": {
    "execution": {
     "iopub.execute_input": "2024-08-07T19:43:04.093498Z",
     "iopub.status.busy": "2024-08-07T19:43:04.093029Z",
     "iopub.status.idle": "2024-08-07T19:43:05.759583Z",
     "shell.execute_reply": "2024-08-07T19:43:05.758333Z",
     "shell.execute_reply.started": "2024-08-07T19:43:04.093463Z"
    },
    "id": "ET7qTT8W1Q6V",
    "outputId": "4294772f-229b-4103-9279-d48cc38fa72a"
   },
   "outputs": [
    {
     "name": "stdout",
     "output_type": "stream",
     "text": [
      "TC1_Mariner :  1848\n",
      "P_Element :  775\n",
      "HAT :  9131\n",
      "PiggyBac :  757\n",
      "Mutator/MuDR :  614\n",
      "Merlin :  2085\n",
      "CACTA :  488\n"
     ]
    }
   ],
   "source": [
    "filtered_data = eliminateDataless(afterdropdup)"
   ]
  },
  {
   "cell_type": "code",
   "execution_count": 95,
   "metadata": {
    "execution": {
     "iopub.execute_input": "2024-08-07T19:43:07.922764Z",
     "iopub.status.busy": "2024-08-07T19:43:07.922216Z",
     "iopub.status.idle": "2024-08-07T19:43:07.933063Z",
     "shell.execute_reply": "2024-08-07T19:43:07.931669Z",
     "shell.execute_reply.started": "2024-08-07T19:43:07.922728Z"
    },
    "id": "poGfxVIxtCx3",
    "outputId": "865fd79f-a70f-4803-9180-ed21875a4ce5"
   },
   "outputs": [
    {
     "data": {
      "text/plain": [
       "(604783, 5)"
      ]
     },
     "execution_count": 95,
     "metadata": {},
     "output_type": "execute_result"
    }
   ],
   "source": [
    "EnT_totalData.shape"
   ]
  },
  {
   "cell_type": "code",
   "execution_count": 96,
   "metadata": {
    "execution": {
     "iopub.execute_input": "2024-08-07T19:43:10.660307Z",
     "iopub.status.busy": "2024-08-07T19:43:10.659156Z",
     "iopub.status.idle": "2024-08-07T19:43:10.675955Z",
     "shell.execute_reply": "2024-08-07T19:43:10.674568Z",
     "shell.execute_reply.started": "2024-08-07T19:43:10.660256Z"
    },
    "id": "64Pqnub41U6w",
    "outputId": "b7095576-2796-4271-846e-c3ec844b2680"
   },
   "outputs": [
    {
     "data": {
      "text/plain": [
       "(15698, 6)"
      ]
     },
     "execution_count": 96,
     "metadata": {},
     "output_type": "execute_result"
    }
   ],
   "source": [
    "filtered_data.shape"
   ]
  },
  {
   "cell_type": "code",
   "execution_count": 97,
   "metadata": {
    "execution": {
     "iopub.execute_input": "2024-08-07T19:43:14.119550Z",
     "iopub.status.busy": "2024-08-07T19:43:14.118179Z",
     "iopub.status.idle": "2024-08-07T19:43:14.157614Z",
     "shell.execute_reply": "2024-08-07T19:43:14.156365Z",
     "shell.execute_reply.started": "2024-08-07T19:43:14.119505Z"
    },
    "id": "b2C3gbn_c7-1"
   },
   "outputs": [],
   "source": [
    "ET_d_=filtered_data.iloc[:,1:]\n",
    "EnT_d_=EnT_totalData.iloc[:,1:]"
   ]
  },
  {
   "cell_type": "code",
   "execution_count": 98,
   "metadata": {
    "execution": {
     "iopub.execute_input": "2024-08-07T19:43:15.978291Z",
     "iopub.status.busy": "2024-08-07T19:43:15.977146Z",
     "iopub.status.idle": "2024-08-07T19:43:16.221342Z",
     "shell.execute_reply": "2024-08-07T19:43:16.220395Z",
     "shell.execute_reply.started": "2024-08-07T19:43:15.978243Z"
    },
    "id": "ZjWk_uLEFFmB"
   },
   "outputs": [],
   "source": [
    "ET_d_=ET_d_.sample(frac=1)\n",
    "EnT_d_=EnT_d_.sample(frac=1)"
   ]
  },
  {
   "cell_type": "code",
   "execution_count": 99,
   "metadata": {
    "execution": {
     "iopub.execute_input": "2024-08-07T19:43:18.505078Z",
     "iopub.status.busy": "2024-08-07T19:43:18.504684Z",
     "iopub.status.idle": "2024-08-07T19:43:18.520841Z",
     "shell.execute_reply": "2024-08-07T19:43:18.519631Z",
     "shell.execute_reply.started": "2024-08-07T19:43:18.505049Z"
    },
    "id": "ph4JvCCiuV3t",
    "outputId": "b1446056-8729-429c-bfc2-1294977fe2eb"
   },
   "outputs": [
    {
     "data": {
      "text/plain": [
       "Category\n",
       "HAT            9131\n",
       "Merlin         2085\n",
       "TC1_Mariner    1848\n",
       "P_Element       775\n",
       "PiggyBac        757\n",
       "MuDR            614\n",
       "CACTA           488\n",
       "Name: count, dtype: int64"
      ]
     },
     "execution_count": 99,
     "metadata": {},
     "output_type": "execute_result"
    }
   ],
   "source": [
    "ET_d_['Category'].value_counts()"
   ]
  },
  {
   "cell_type": "code",
   "execution_count": 100,
   "metadata": {
    "execution": {
     "iopub.execute_input": "2024-08-07T19:43:45.970162Z",
     "iopub.status.busy": "2024-08-07T19:43:45.969720Z",
     "iopub.status.idle": "2024-08-07T19:43:46.059157Z",
     "shell.execute_reply": "2024-08-07T19:43:46.057859Z",
     "shell.execute_reply.started": "2024-08-07T19:43:45.970131Z"
    },
    "id": "-qQrW_i0KV5T",
    "outputId": "beea5627-8c59-43b2-8f61-4449c4a091da"
   },
   "outputs": [
    {
     "name": "stdout",
     "output_type": "stream",
     "text": [
      "Category\n",
      "TC1_Mariner    488\n",
      "HAT            488\n",
      "PiggyBac       488\n",
      "MuDR           488\n",
      "CACTA          488\n",
      "P_Element      488\n",
      "Merlin         488\n",
      "Name: count, dtype: int64\n",
      "Total count: 3416\n"
     ]
    }
   ],
   "source": [
    "# Step 1: Extract all rows for 'P' and 'Merlin'\n",
    "# p_merlin_data = ET_d_[ET_d_['Category'].isin(['P', 'Merlin'])]\n",
    "\n",
    "# Step 2: Define the desired number of samples for each category\n",
    "desired_counts = {\n",
    "    \"TC1_Mariner\": 488,\n",
    "#     650,\n",
    "    \"HAT\":  488,\n",
    "#     600,\n",
    "    \"PiggyBac\":  488,\n",
    "#     757,\n",
    "    \"MuDR\":  488,\n",
    "#     614,\n",
    "    \"CACTA\":  488,\n",
    "#     488,\n",
    "    \"P_Element\": 488,\n",
    "    \"Merlin\": 488,\n",
    "#     700\n",
    "}\n",
    "\n",
    "# Step 3: Sample the rows for each of the specified categories, with checks\n",
    "sampled_data_list = []\n",
    "\n",
    "for category, count in desired_counts.items():\n",
    "    available_count = ET_d_[ET_d_['Category'] == category].shape[0]\n",
    "    if available_count >= count:\n",
    "        sampled_data = ET_d_[ET_d_['Category'] == category].sample(n=count, random_state=42)\n",
    "        sampled_data_list.append(sampled_data)\n",
    "    else:\n",
    "        print(f\"Not enough data to sample {count} rows from category {category}. Available: {available_count}\")\n",
    "\n",
    "# Combine all sampled data\n",
    "sampled_data = pd.concat(sampled_data_list)\n",
    "\n",
    "# Combine the data\n",
    "# final_data = pd.concat([p_merlin_data, sampled_data])\n",
    "\n",
    "# Verify the counts\n",
    "final_class_counts = sampled_data['Category'].value_counts()\n",
    "\n",
    "print(final_class_counts)\n",
    "print(\"Total count:\", sampled_data.shape[0])"
   ]
  },
  {
   "cell_type": "code",
   "execution_count": 101,
   "metadata": {
    "execution": {
     "iopub.execute_input": "2024-08-07T19:43:51.841988Z",
     "iopub.status.busy": "2024-08-07T19:43:51.841516Z",
     "iopub.status.idle": "2024-08-07T19:43:52.281884Z",
     "shell.execute_reply": "2024-08-07T19:43:52.280457Z",
     "shell.execute_reply.started": "2024-08-07T19:43:51.841952Z"
    },
    "id": "q1_2qner_Vs8",
    "outputId": "e20e2e4e-74aa-4b5b-d7bc-2f1dfe2b044e"
   },
   "outputs": [
    {
     "data": {
      "image/png": "[encoded data removed]",
      "text/plain": [
       "<Figure size 1000x600 with 1 Axes>"
      ]
     },
     "metadata": {},
     "output_type": "display_data"
    }
   ],
   "source": [
    "import matplotlib.pyplot as plt\n",
    "\n",
    "# Plot the class counts\n",
    "final_class_counts.plot(kind='bar', figsize=(10, 6))\n",
    "plt.xlabel('Category')\n",
    "plt.ylabel('Count')\n",
    "plt.title('Quantity of Classes in Category Column')\n",
    "plt.show()\n"
   ]
  },
  {
   "cell_type": "code",
   "execution_count": 102,
   "metadata": {
    "execution": {
     "iopub.execute_input": "2024-08-07T19:43:56.369599Z",
     "iopub.status.busy": "2024-08-07T19:43:56.369121Z",
     "iopub.status.idle": "2024-08-07T19:43:56.382809Z",
     "shell.execute_reply": "2024-08-07T19:43:56.381523Z",
     "shell.execute_reply.started": "2024-08-07T19:43:56.369561Z"
    },
    "id": "25dlf-QR2iMI"
   },
   "outputs": [],
   "source": [
    "Labled_data = pd.concat([sampled_data, EnT_d_[:sampled_data.shape[0]]],ignore_index=True, axis = 0 )\n",
    "Labled_data['Category'].fillna('EnT', inplace=True)"
   ]
  },
  {
   "cell_type": "code",
   "execution_count": 103,
   "metadata": {
    "execution": {
     "iopub.execute_input": "2024-08-07T19:43:58.250973Z",
     "iopub.status.busy": "2024-08-07T19:43:58.250534Z",
     "iopub.status.idle": "2024-08-07T19:43:58.258655Z",
     "shell.execute_reply": "2024-08-07T19:43:58.257493Z",
     "shell.execute_reply.started": "2024-08-07T19:43:58.250941Z"
    },
    "id": "dOhcalnnpWWZ",
    "outputId": "d4dbf19e-4bd1-493c-e22a-e79a1847eeea"
   },
   "outputs": [
    {
     "data": {
      "text/plain": [
       "(6832, 5)"
      ]
     },
     "execution_count": 103,
     "metadata": {},
     "output_type": "execute_result"
    }
   ],
   "source": [
    "Labled_data.shape"
   ]
  },
  {
   "cell_type": "code",
   "execution_count": 105,
   "metadata": {
    "execution": {
     "iopub.execute_input": "2024-08-07T19:44:04.759830Z",
     "iopub.status.busy": "2024-08-07T19:44:04.759156Z",
     "iopub.status.idle": "2024-08-07T19:44:04.780123Z",
     "shell.execute_reply": "2024-08-07T19:44:04.778965Z",
     "shell.execute_reply.started": "2024-08-07T19:44:04.759779Z"
    },
    "id": "cWmajr_jGI5S",
    "outputId": "2507a331-666d-494e-9e7a-dd524e54de0e"
   },
   "outputs": [
    {
     "data": {
      "text/html": [
       "<div>\n",
       "<style scoped>\n",
       "    .dataframe tbody tr th:only-of-type {\n",
       "        vertical-align: middle;\n",
       "    }\n",
       "\n",
       "    .dataframe tbody tr th {\n",
       "        vertical-align: top;\n",
       "    }\n",
       "\n",
       "    .dataframe thead th {\n",
       "        text-align: right;\n",
       "    }\n",
       "</style>\n",
       "<table border=\"1\" class=\"dataframe\">\n",
       "  <thead>\n",
       "    <tr style=\"text-align: right;\">\n",
       "      <th></th>\n",
       "      <th>Sequence</th>\n",
       "      <th>Label</th>\n",
       "      <th>Classname</th>\n",
       "      <th>Sequence Length</th>\n",
       "      <th>Category</th>\n",
       "    </tr>\n",
       "  </thead>\n",
       "  <tbody>\n",
       "    <tr>\n",
       "      <th>6714</th>\n",
       "      <td>atgcccatccctgtcggcttacgcaagtcccagatgattcctccca...</td>\n",
       "      <td>0</td>\n",
       "      <td>EnT</td>\n",
       "      <td>1062</td>\n",
       "      <td>EnT</td>\n",
       "    </tr>\n",
       "    <tr>\n",
       "      <th>3154</th>\n",
       "      <td>gtattacaataaaggtcaattcggggactgtctgtgtattttaatt...</td>\n",
       "      <td>1</td>\n",
       "      <td>ET</td>\n",
       "      <td>1816</td>\n",
       "      <td>Merlin</td>\n",
       "    </tr>\n",
       "    <tr>\n",
       "      <th>1615</th>\n",
       "      <td>gggaaaaatgcccatacaccccttaaacttttaactactggtcaaa...</td>\n",
       "      <td>1</td>\n",
       "      <td>ET</td>\n",
       "      <td>5854</td>\n",
       "      <td>MuDR</td>\n",
       "    </tr>\n",
       "    <tr>\n",
       "      <th>3601</th>\n",
       "      <td>atggatagtttttacgacggtgatttgaaggatatctgggattcag...</td>\n",
       "      <td>0</td>\n",
       "      <td>EnT</td>\n",
       "      <td>1560</td>\n",
       "      <td>EnT</td>\n",
       "    </tr>\n",
       "    <tr>\n",
       "      <th>714</th>\n",
       "      <td>tttttttnataaaatgctttttgaggaaaaaacctatctaaagata...</td>\n",
       "      <td>1</td>\n",
       "      <td>ET</td>\n",
       "      <td>3468</td>\n",
       "      <td>HAT</td>\n",
       "    </tr>\n",
       "  </tbody>\n",
       "</table>\n",
       "</div>"
      ],
      "text/plain": [
       "                                               Sequence  Label Classname  \\\n",
       "6714  atgcccatccctgtcggcttacgcaagtcccagatgattcctccca...      0       EnT   \n",
       "3154  gtattacaataaaggtcaattcggggactgtctgtgtattttaatt...      1        ET   \n",
       "1615  gggaaaaatgcccatacaccccttaaacttttaactactggtcaaa...      1        ET   \n",
       "3601  atggatagtttttacgacggtgatttgaaggatatctgggattcag...      0       EnT   \n",
       "714   tttttttnataaaatgctttttgaggaaaaaacctatctaaagata...      1        ET   \n",
       "\n",
       "      Sequence Length Category  \n",
       "6714             1062      EnT  \n",
       "3154             1816   Merlin  \n",
       "1615             5854     MuDR  \n",
       "3601             1560      EnT  \n",
       "714              3468      HAT  "
      ]
     },
     "execution_count": 105,
     "metadata": {},
     "output_type": "execute_result"
    }
   ],
   "source": [
    "Labled_data=Labled_data.sample(frac=1)\n",
    "Labled_data.head()"
   ]
  },
  {
   "cell_type": "code",
   "execution_count": 106,
   "metadata": {
    "execution": {
     "iopub.execute_input": "2024-08-07T19:44:07.861888Z",
     "iopub.status.busy": "2024-08-07T19:44:07.860750Z",
     "iopub.status.idle": "2024-08-07T19:44:07.874285Z",
     "shell.execute_reply": "2024-08-07T19:44:07.872919Z",
     "shell.execute_reply.started": "2024-08-07T19:44:07.861840Z"
    },
    "id": "ROPWfN2RCaEC",
    "outputId": "a140c40c-898c-4544-cb9c-ab8fd5b39981"
   },
   "outputs": [
    {
     "data": {
      "text/plain": [
       "{0: 3416, 1: 3416}"
      ]
     },
     "execution_count": 106,
     "metadata": {},
     "output_type": "execute_result"
    }
   ],
   "source": [
    "counts = Labled_data['Label'].value_counts()\n",
    "counts_dict = counts.to_dict()\n",
    "counts_dict"
   ]
  },
  {
   "cell_type": "code",
   "execution_count": 107,
   "metadata": {
    "execution": {
     "iopub.execute_input": "2024-08-07T19:44:10.944395Z",
     "iopub.status.busy": "2024-08-07T19:44:10.943938Z",
     "iopub.status.idle": "2024-08-07T19:44:10.950057Z",
     "shell.execute_reply": "2024-08-07T19:44:10.948732Z",
     "shell.execute_reply.started": "2024-08-07T19:44:10.944350Z"
    },
    "id": "JSFqIYsPsWau"
   },
   "outputs": [],
   "source": [
    "labels = list(counts_dict.keys())\n",
    "values = list(counts_dict.values())"
   ]
  },
  {
   "cell_type": "code",
   "execution_count": 108,
   "metadata": {
    "execution": {
     "iopub.execute_input": "2024-08-07T19:44:13.716360Z",
     "iopub.status.busy": "2024-08-07T19:44:13.715912Z",
     "iopub.status.idle": "2024-08-07T19:44:14.039223Z",
     "shell.execute_reply": "2024-08-07T19:44:14.037971Z",
     "shell.execute_reply.started": "2024-08-07T19:44:13.716326Z"
    },
    "id": "xp9jQk6PJuZV",
    "outputId": "c3786413-a688-4ccd-ee64-4294803cf9b7"
   },
   "outputs": [
    {
     "data": {
      "image/png": "[encoded data removed]",
      "text/plain": [
       "<Figure size 1000x600 with 1 Axes>"
      ]
     },
     "metadata": {},
     "output_type": "display_data"
    }
   ],
   "source": [
    "plt.figure(figsize=(10, 6))\n",
    "plt.bar(labels, values, color=['red', 'green'])\n",
    "plt.xlabel('Labels')\n",
    "plt.ylabel('Counts')\n",
    "plt.title('Number of transposable and non transposable elements')\n",
    "plt.xticks(labels)\n",
    "plt.ylim(0, max(values) + 100)\n",
    "lab=[\"ET\",\"EnT\"]\n",
    "n=0\n",
    "# Adding the counts on top of the bars\n",
    "for i in range(len(labels)):\n",
    "    plt.text(labels[i], values[i] + 10, str(values[i])+\"==>\"+lab[i], ha='center', fontsize=12)\n",
    "    n+=1\n",
    "\n",
    "plt.show()"
   ]
  },
  {
   "cell_type": "code",
   "execution_count": 109,
   "metadata": {
    "execution": {
     "iopub.execute_input": "2024-08-07T19:44:52.745214Z",
     "iopub.status.busy": "2024-08-07T19:44:52.744188Z",
     "iopub.status.idle": "2024-08-07T19:44:52.759822Z",
     "shell.execute_reply": "2024-08-07T19:44:52.758547Z",
     "shell.execute_reply.started": "2024-08-07T19:44:52.745131Z"
    }
   },
   "outputs": [],
   "source": [
    "for seq in Labled_data['Sequence']:\n",
    "    if 'z' in seq:\n",
    "        display(Labled_data.loc[Labled_data['Sequence'] == seq])"
   ]
  },
  {
   "cell_type": "markdown",
   "metadata": {
    "id": "W80fLAIktavg",
    "jp-MarkdownHeadingCollapsed": true
   },
   "source": [
    "### save data after pre-pro\n"
   ]
  },
  {
   "cell_type": "code",
   "execution_count": null,
   "metadata": {
    "id": "aATkaNnjB4TB",
    "jupyter": {
     "source_hidden": true
    }
   },
   "outputs": [],
   "source": [
    "def save_dataframe_to_fasta(df, output_filename):\n",
    "    with open(output_filename, 'w') as fasta_file:\n",
    "        for index, row in df.iterrows():\n",
    "            fasta_file.write(f\">{row['Category']},{row['Sequence_ID']}\\n\")\n",
    "            fasta_file.write(f\"{row['Sequence']}\\n\")\n",
    "def save_dataframe_to_fasta2(df, output_filename):\n",
    "    with open(output_filename, 'w') as fasta_file:\n",
    "        for index, row in df.iterrows():\n",
    "            fasta_file.write(f\">{row['Classname']},{row['Sequence_ID']}\\n\")\n",
    "            fasta_file.write(f\"{row['Sequence']}\\n\")"
   ]
  },
  {
   "cell_type": "code",
   "execution_count": null,
   "metadata": {
    "id": "jvbN0omWB7KB",
    "jupyter": {
     "source_hidden": true
    }
   },
   "outputs": [],
   "source": [
    "save_dataframe_to_fasta(filtered_data.sample(frac=1), path+'ET_d_.fasta')\n",
    "save_dataframe_to_fasta2(EnT_totalData.sample(frac=1), path+'EnT_d_.fasta')"
   ]
  },
  {
   "cell_type": "code",
   "execution_count": null,
   "metadata": {
    "id": "11FNeu5MvAs3"
   },
   "outputs": [],
   "source": [
    "# X = [seq for seq in Labled_data['Sequence']]"
   ]
  },
  {
   "cell_type": "code",
   "execution_count": null,
   "metadata": {
    "id": "MzVh4Y2zCkMj"
   },
   "outputs": [],
   "source": [
    "# len(X)"
   ]
  },
  {
   "cell_type": "code",
   "execution_count": null,
   "metadata": {
    "id": "kJ2mTXkkuph2"
   },
   "outputs": [],
   "source": [
    "# X = substituer_nucl(X)"
   ]
  },
  {
   "cell_type": "code",
   "execution_count": null,
   "metadata": {
    "id": "nHdPbAq6BlIH"
   },
   "outputs": [],
   "source": [
    "# X  = [Kmers_funct(i, 6) for i in X ]"
   ]
  },
  {
   "cell_type": "code",
   "execution_count": null,
   "metadata": {
    "id": "lFNhp4vowE0V"
   },
   "outputs": [],
   "source": [
    "# X  = join_kmers(X)"
   ]
  },
  {
   "cell_type": "markdown",
   "metadata": {
    "id": "rfo3z3d0aIqp"
   },
   "source": [
    "## Knowledge discovery"
   ]
  },
  {
   "cell_type": "markdown",
   "metadata": {
    "id": "2-K6goHjlTOE"
   },
   "source": [
    "### split data"
   ]
  },
  {
   "cell_type": "code",
   "execution_count": 110,
   "metadata": {
    "execution": {
     "iopub.execute_input": "2024-08-07T19:46:05.701170Z",
     "iopub.status.busy": "2024-08-07T19:46:05.700641Z",
     "iopub.status.idle": "2024-08-07T19:46:05.719239Z",
     "shell.execute_reply": "2024-08-07T19:46:05.717966Z",
     "shell.execute_reply.started": "2024-08-07T19:46:05.701124Z"
    },
    "id": "9sLztNWKy2dw"
   },
   "outputs": [],
   "source": [
    "X_train, X_test, y_train, y_test = train_test_split(\n",
    "    Labled_data[['Sequence', 'Category']], Labled_data['Label'], test_size=0.2, random_state=42\n",
    ")\n",
    "X_train, X_val, y_train, y_val = train_test_split(\n",
    "    X_train, y_train, test_size = 0.2, random_state=42)\n",
    "\n"
   ]
  },
  {
   "cell_type": "markdown",
   "metadata": {},
   "source": [
    "### data vectorisation"
   ]
  },
  {
   "cell_type": "code",
   "execution_count": 61,
   "metadata": {
    "execution": {
     "iopub.execute_input": "2024-08-02T22:35:13.258233Z",
     "iopub.status.busy": "2024-08-02T22:35:13.257821Z",
     "iopub.status.idle": "2024-08-02T22:35:13.278637Z",
     "shell.execute_reply": "2024-08-02T22:35:13.277337Z",
     "shell.execute_reply.started": "2024-08-02T22:35:13.258199Z"
    }
   },
   "outputs": [],
   "source": [
    "\n",
    "with open(\"/kaggle/input/k6/other/default/2/features_to_keep_tfidf_k6.pkl\", 'rb') as file:\n",
    "    features_to_keep = pickle.load(file)"
   ]
  },
  {
   "cell_type": "code",
   "execution_count": 111,
   "metadata": {
    "execution": {
     "iopub.execute_input": "2024-08-07T19:46:27.543092Z",
     "iopub.status.busy": "2024-08-07T19:46:27.541787Z",
     "iopub.status.idle": "2024-08-07T19:46:27.548905Z",
     "shell.execute_reply": "2024-08-07T19:46:27.547534Z",
     "shell.execute_reply.started": "2024-08-07T19:46:27.543050Z"
    }
   },
   "outputs": [],
   "source": [
    "\n",
    "k=7\n",
    "# vectorizer=CountVectorizer()\n",
    "# vecto=\"CountVectorizer\"\n",
    "vectorizer= TfidfVectorizer()\n",
    "vecto=\"TfidfVectorizer\"\n",
    "# vectorizer=load(\"/kaggle/input/k6/other/default/2/tfidf_vectorizer_k6.joblib\")"
   ]
  },
  {
   "cell_type": "code",
   "execution_count": 63,
   "metadata": {
    "execution": {
     "iopub.execute_input": "2024-08-02T22:35:33.058289Z",
     "iopub.status.busy": "2024-08-02T22:35:33.057761Z",
     "iopub.status.idle": "2024-08-02T22:35:33.080138Z",
     "shell.execute_reply": "2024-08-02T22:35:33.078499Z",
     "shell.execute_reply.started": "2024-08-02T22:35:33.058247Z"
    },
    "jupyter": {
     "source_hidden": true
    }
   },
   "outputs": [],
   "source": [
    "\n",
    "def select_features_and_to_dense(sequences_df, features_to_keep):\n",
    "    features_to_keep=list(features_to_keep)\n",
    "    return sequences_df[features_to_keep].values\n"
   ]
  },
  {
   "cell_type": "markdown",
   "metadata": {},
   "source": [
    "#### train"
   ]
  },
  {
   "cell_type": "code",
   "execution_count": 112,
   "metadata": {
    "execution": {
     "iopub.execute_input": "2024-08-07T19:46:34.150700Z",
     "iopub.status.busy": "2024-08-07T19:46:34.150247Z",
     "iopub.status.idle": "2024-08-07T19:47:01.486369Z",
     "shell.execute_reply": "2024-08-07T19:47:01.485329Z",
     "shell.execute_reply.started": "2024-08-07T19:46:34.150665Z"
    }
   },
   "outputs": [],
   "source": [
    "sequences_train = [seq for seq in X_train['Sequence']]\n",
    "sequences_train = substituer_nucl(sequences_train)\n",
    "sequences_train = [Kmers_funct(i, size=k) for i in sequences_train]\n",
    "sequences_train = join_kmers(sequences_train)\n",
    "sequences_train = vectorizer.fit_transform(sequences_train)\n"
   ]
  },
  {
   "cell_type": "code",
   "execution_count": 113,
   "metadata": {
    "execution": {
     "iopub.execute_input": "2024-08-07T19:47:01.492272Z",
     "iopub.status.busy": "2024-08-07T19:47:01.491845Z",
     "iopub.status.idle": "2024-08-07T19:47:01.500684Z",
     "shell.execute_reply": "2024-08-07T19:47:01.499118Z",
     "shell.execute_reply.started": "2024-08-07T19:47:01.492238Z"
    }
   },
   "outputs": [
    {
     "data": {
      "text/plain": [
       "(4372, 54126)"
      ]
     },
     "execution_count": 113,
     "metadata": {},
     "output_type": "execute_result"
    }
   ],
   "source": [
    "sequences_train.shape"
   ]
  },
  {
   "cell_type": "code",
   "execution_count": 65,
   "metadata": {
    "execution": {
     "iopub.execute_input": "2024-08-02T22:35:40.020948Z",
     "iopub.status.busy": "2024-08-02T22:35:40.020584Z",
     "iopub.status.idle": "2024-08-02T22:35:40.236001Z",
     "shell.execute_reply": "2024-08-02T22:35:40.234455Z",
     "shell.execute_reply.started": "2024-08-02T22:35:40.020918Z"
    },
    "jupyter": {
     "source_hidden": true
    }
   },
   "outputs": [],
   "source": [
    "sequences_train_dense = sequences_train.todense()\n",
    "# Create a DataFrame from the dense matrix\n",
    "sequences_train_df = pd.DataFrame(sequences_train_dense)\n"
   ]
  },
  {
   "cell_type": "code",
   "execution_count": null,
   "metadata": {
    "jupyter": {
     "source_hidden": true
    },
    "scrolled": true
   },
   "outputs": [],
   "source": [
    "# with tf.device('/GPU:0'):\n",
    "\n",
    "# Compute the correlation matrix\n",
    "correlationMatrix = sequences_train_df.corr()\n",
    "\n",
    "# Plot the heatmap\n",
    "# plt.figure(figsize=(20,20))\n",
    "# sns.heatmap(correlationMatrix, annot=True, cmap=\"PiYG\", fmt=\".2f\", linewidths=.5)\n",
    "# plt.show()"
   ]
  },
  {
   "cell_type": "code",
   "execution_count": 51,
   "metadata": {
    "jupyter": {
     "source_hidden": true
    }
   },
   "outputs": [],
   "source": [
    "threshold = 0.8\n",
    "\n",
    "# Dictionary to hold highly correlated feature pairs\n",
    "highly_correlated_pairs = []\n",
    "\n",
    "# Identify highly correlated pairs\n",
    "for i in range(len(correlationMatrix.columns)):\n",
    "    for j in range(i):\n",
    "        if abs(correlationMatrix.iloc[i, j]) > threshold:\n",
    "            highly_correlated_pairs.append((correlationMatrix.columns[i], correlationMatrix.columns[j]))\n",
    "\n",
    "# Set to hold features to keep\n",
    "features_to_keep = set(correlationMatrix.columns)\n",
    "\n",
    "# Remove one feature from each highly correlated pair\n",
    "for feature1, feature2 in highly_correlated_pairs:\n",
    "    if feature1 in features_to_keep and feature2 in features_to_keep:\n",
    "        # Use domain knowledge or other criteria here to decide which to keep\n",
    "        # For simplicity, let's keep the feature with the lower index\n",
    "        features_to_keep.remove(feature2 if feature1 < feature2 else feature1)\n",
    "\n",
    "# Final features to keep\n",
    "# print(\"Features to keep:\", features_to_keep)\n",
    "\n",
    "# Filter the dataset to keep only the selected features\n",
    "sequences_train_final = sequences_train_df[list(features_to_keep)]"
   ]
  },
  {
   "cell_type": "code",
   "execution_count": 66,
   "metadata": {
    "execution": {
     "iopub.execute_input": "2024-08-02T22:35:57.343972Z",
     "iopub.status.busy": "2024-08-02T22:35:57.342984Z",
     "iopub.status.idle": "2024-08-02T22:35:57.416566Z",
     "shell.execute_reply": "2024-08-02T22:35:57.415370Z",
     "shell.execute_reply.started": "2024-08-02T22:35:57.343936Z"
    },
    "jupyter": {
     "source_hidden": true
    }
   },
   "outputs": [],
   "source": [
    "# Filter the dataset to keep only the selected features\n",
    "sequences_train_final = select_features_and_to_dense(sequences_train_df, features_to_keep)\n"
   ]
  },
  {
   "cell_type": "code",
   "execution_count": 90,
   "metadata": {
    "collapsed": true,
    "jupyter": {
     "outputs_hidden": true,
     "source_hidden": true
    }
   },
   "outputs": [
    {
     "data": {
      "text/plain": [
       "(1639, 11689)"
      ]
     },
     "execution_count": 90,
     "metadata": {},
     "output_type": "execute_result"
    }
   ],
   "source": [
    "sequences_train.shape"
   ]
  },
  {
   "cell_type": "code",
   "execution_count": 57,
   "metadata": {
    "collapsed": true,
    "jupyter": {
     "outputs_hidden": true,
     "source_hidden": true
    }
   },
   "outputs": [
    {
     "data": {
      "text/plain": [
       "(1639, 6983)"
      ]
     },
     "execution_count": 57,
     "metadata": {},
     "output_type": "execute_result"
    }
   ],
   "source": [
    "sequences_train_final.shape"
   ]
  },
  {
   "cell_type": "code",
   "execution_count": 58,
   "metadata": {
    "collapsed": true,
    "jupyter": {
     "outputs_hidden": true,
     "source_hidden": true
    }
   },
   "outputs": [
    {
     "data": {
      "text/plain": [
       "numpy.ndarray"
      ]
     },
     "execution_count": 58,
     "metadata": {},
     "output_type": "execute_result"
    }
   ],
   "source": [
    "type(sequences_train_final)"
   ]
  },
  {
   "cell_type": "markdown",
   "metadata": {
    "jp-MarkdownHeadingCollapsed": true
   },
   "source": [
    "#### corre 2"
   ]
  },
  {
   "cell_type": "code",
   "execution_count": 72,
   "metadata": {
    "jupyter": {
     "source_hidden": true
    }
   },
   "outputs": [
    {
     "data": {
      "text/plain": [
       "numpy.ndarray"
      ]
     },
     "execution_count": 72,
     "metadata": {},
     "output_type": "execute_result"
    }
   ],
   "source": [
    "type(sequences_train_final)"
   ]
  },
  {
   "cell_type": "code",
   "execution_count": 73,
   "metadata": {
    "jupyter": {
     "source_hidden": true
    }
   },
   "outputs": [],
   "source": [
    "\n",
    "sequences_train_final_df = pd.DataFrame(sequences_train_final)\n",
    "correlationMatrix = sequences_train_final_df.corr()\n"
   ]
  },
  {
   "cell_type": "code",
   "execution_count": 74,
   "metadata": {
    "jupyter": {
     "source_hidden": true
    }
   },
   "outputs": [],
   "source": [
    "threshold = 0.8\n",
    "\n",
    "# Dictionary to hold highly correlated feature pairs\n",
    "highly_correlated_pairs = []\n",
    "\n",
    "# Identify highly correlated pairs\n",
    "for i in range(len(correlationMatrix.columns)):\n",
    "    for j in range(i):\n",
    "        if abs(correlationMatrix.iloc[i, j]) > threshold:\n",
    "            highly_correlated_pairs.append((correlationMatrix.columns[i], correlationMatrix.columns[j]))\n",
    "\n",
    "# Set to hold features to keep\n",
    "features_to_keep_2 = set(correlationMatrix.columns)\n",
    "\n",
    "# Remove one feature from each highly correlated pair\n",
    "for feature1, feature2 in highly_correlated_pairs:\n",
    "    if feature1 in features_to_keep_2 and feature2 in features_to_keep_2:\n",
    "        # Use domain knowledge or other criteria here to decide which to keep\n",
    "        # For simplicity, let's keep the feature with the lower index\n",
    "        features_to_keep_2.remove(feature2 if feature1 < feature2 else feature1)\n"
   ]
  },
  {
   "cell_type": "code",
   "execution_count": 75,
   "metadata": {
    "jupyter": {
     "source_hidden": true
    }
   },
   "outputs": [],
   "source": [
    "# train\n",
    "sequences_train_final =select_features_and_to_dense( sequences_train_final_df,features_to_keep_2)\n",
    "\n",
    "# test\n",
    "sequences_test_final_df = pd.DataFrame(sequences_test_final)\n",
    "sequences_test_final = select_features_and_to_dense(sequences_test_final_df, features_to_keep_2)\n",
    "\n",
    "# val\n",
    "sequences_val_final_df = pd.DataFrame(sequences_val_final)\n",
    "sequences_val_final = select_features_and_to_dense(sequences_val_final_df, features_to_keep_2)\n"
   ]
  },
  {
   "cell_type": "code",
   "execution_count": 76,
   "metadata": {
    "jupyter": {
     "source_hidden": true
    }
   },
   "outputs": [
    {
     "data": {
      "text/plain": [
       "(1639, 6121)"
      ]
     },
     "execution_count": 76,
     "metadata": {},
     "output_type": "execute_result"
    }
   ],
   "source": [
    "sequences_train_final.shape"
   ]
  },
  {
   "cell_type": "markdown",
   "metadata": {
    "jp-MarkdownHeadingCollapsed": true
   },
   "source": [
    "#### save vectorizer & features to keep"
   ]
  },
  {
   "cell_type": "code",
   "execution_count": 54,
   "metadata": {
    "jupyter": {
     "source_hidden": true
    }
   },
   "outputs": [],
   "source": [
    "with open(path+'models/features_to_keep_CountVectorizer_k='+str(k)+'.pkl', 'wb') as file:\n",
    "    pickle.dump(features_to_keep, file)"
   ]
  },
  {
   "cell_type": "code",
   "execution_count": 55,
   "metadata": {
    "collapsed": true,
    "jupyter": {
     "outputs_hidden": true
    }
   },
   "outputs": [
    {
     "data": {
      "text/plain": [
       "['data/models/CountVectorizer_vectorizer_k=6.joblib']"
      ]
     },
     "execution_count": 55,
     "metadata": {},
     "output_type": "execute_result"
    }
   ],
   "source": [
    "dump(vectorizer, f\"{path}models/CountVectorizer_vectorizer_k={k}.joblib\")"
   ]
  },
  {
   "cell_type": "markdown",
   "metadata": {},
   "source": [
    "#### test"
   ]
  },
  {
   "cell_type": "code",
   "execution_count": 99,
   "metadata": {
    "execution": {
     "iopub.execute_input": "2024-08-03T13:51:32.419778Z",
     "iopub.status.busy": "2024-08-03T13:51:32.419416Z",
     "iopub.status.idle": "2024-08-03T13:51:33.986235Z",
     "shell.execute_reply": "2024-08-03T13:51:33.985171Z",
     "shell.execute_reply.started": "2024-08-03T13:51:32.419748Z"
    }
   },
   "outputs": [],
   "source": [
    "sequences_test = [seq for seq in X_test['Sequence']]\n",
    "sequences_test = substituer_nucl(sequences_test)\n",
    "sequences_test = [Kmers_funct(i, size=k) for i in sequences_test]\n",
    "sequences_test = join_kmers(sequences_test)\n",
    "sequences_test = vectorizer.transform(sequences_test)"
   ]
  },
  {
   "cell_type": "code",
   "execution_count": 68,
   "metadata": {
    "execution": {
     "iopub.execute_input": "2024-08-02T22:36:05.739286Z",
     "iopub.status.busy": "2024-08-02T22:36:05.738792Z",
     "iopub.status.idle": "2024-08-02T22:36:05.826009Z",
     "shell.execute_reply": "2024-08-02T22:36:05.824831Z",
     "shell.execute_reply.started": "2024-08-02T22:36:05.739252Z"
    }
   },
   "outputs": [],
   "source": [
    "\n",
    "sequences_test_dense = sequences_test.todense()\n",
    "\n",
    "# Create a DataFrame from the dense matrix\n",
    "sequences_test_df = pd.DataFrame(sequences_test_dense)\n",
    "\n",
    "# sequences_test_final = sequences_test_df[list(features_to_keep)]\n",
    "sequences_test_final = select_features_and_to_dense(sequences_test_df, features_to_keep)\n"
   ]
  },
  {
   "cell_type": "markdown",
   "metadata": {},
   "source": [
    "#### validation"
   ]
  },
  {
   "cell_type": "code",
   "execution_count": 100,
   "metadata": {
    "execution": {
     "iopub.execute_input": "2024-08-03T13:51:33.988407Z",
     "iopub.status.busy": "2024-08-03T13:51:33.988003Z",
     "iopub.status.idle": "2024-08-03T13:51:35.321607Z",
     "shell.execute_reply": "2024-08-03T13:51:35.320509Z",
     "shell.execute_reply.started": "2024-08-03T13:51:33.988371Z"
    }
   },
   "outputs": [],
   "source": [
    "sequences_val = [seq for seq in X_val['Sequence']]\n",
    "sequences_val = substituer_nucl(sequences_val)\n",
    "sequences_val = [Kmers_funct(i, size=k) for i in sequences_val]\n",
    "sequences_val = join_kmers(sequences_val)\n",
    "sequences_val = vectorizer.transform(sequences_val)"
   ]
  },
  {
   "cell_type": "code",
   "execution_count": 70,
   "metadata": {
    "execution": {
     "iopub.execute_input": "2024-08-02T22:36:10.115760Z",
     "iopub.status.busy": "2024-08-02T22:36:10.115348Z",
     "iopub.status.idle": "2024-08-02T22:36:10.182726Z",
     "shell.execute_reply": "2024-08-02T22:36:10.181289Z",
     "shell.execute_reply.started": "2024-08-02T22:36:10.115729Z"
    }
   },
   "outputs": [],
   "source": [
    "\n",
    "sequences_val_dense = sequences_val.todense()\n",
    "\n",
    "# Create a DataFrame from the dense matrix\n",
    "sequences_val_df = pd.DataFrame(sequences_val_dense)\n",
    "\n",
    "# sequences_val_final = sequences_val_df[list(features_to_keep)]\n",
    "sequences_val_final = select_features_and_to_dense(sequences_val_df, features_to_keep)\n"
   ]
  },
  {
   "cell_type": "markdown",
   "metadata": {
    "id": "4d3YjvKU6CmZ",
    "jp-MarkdownHeadingCollapsed": true
   },
   "source": [
    "### save test data"
   ]
  },
  {
   "cell_type": "code",
   "execution_count": null,
   "metadata": {
    "collapsed": true,
    "id": "hxih-1wQzOEy",
    "jupyter": {
     "outputs_hidden": true,
     "source_hidden": true
    },
    "outputId": "ab872ede-153c-4890-ac9a-a1be26120587"
   },
   "outputs": [],
   "source": [
    "X_test_np = X_test.to_numpy()\n",
    "\n",
    "# Reshape y_test to be 2D array with one column\n",
    "y_test_np = y_test.to_numpy().reshape(-1, 1)\n",
    "\n",
    "# Vertically stack X_test and y_test\n",
    "stacked_test_data = np.hstack((X_test_np, y_test_np))\n",
    "\n",
    "# Convert back to DataFrame for easier handling\n",
    "stacked_test_df = pd.DataFrame(stacked_test_data, columns=['Sequence', 'Category', 'Label'])\n",
    "\n"
   ]
  },
  {
   "cell_type": "code",
   "execution_count": null,
   "metadata": {
    "id": "_WHfPvIp0c9Z",
    "jupyter": {
     "source_hidden": true
    }
   },
   "outputs": [],
   "source": [
    "def save_dataframe_to_fasta3(df, output_filename):\n",
    "    with open(output_filename, 'w') as fasta_file:\n",
    "        for index, row in df.iterrows():\n",
    "            fasta_file.write(f\">{row['Category']},label={row['Label']}\\n\")\n",
    "            fasta_file.write(f\"{row['Sequence']}\\n\")"
   ]
  },
  {
   "cell_type": "code",
   "execution_count": null,
   "metadata": {
    "id": "dkR7aRq71y8h",
    "jupyter": {
     "source_hidden": true
    }
   },
   "outputs": [],
   "source": [
    "save_dataframe_to_fasta3(stacked_test_df,path+\"dataTest.fasta\")"
   ]
  },
  {
   "cell_type": "markdown",
   "metadata": {
    "id": "giSJUyt5ymho",
    "jp-MarkdownHeadingCollapsed": true
   },
   "source": [
    "### Kmeans"
   ]
  },
  {
   "cell_type": "code",
   "execution_count": null,
   "metadata": {
    "collapsed": true,
    "id": "TSY86ma6kbsM",
    "jupyter": {
     "outputs_hidden": true,
     "source_hidden": true
    },
    "outputId": "12b95ecd-07e7-453f-b890-356a5760db41"
   },
   "outputs": [],
   "source": [
    "model = KMeans()\n",
    "visualizer = KElbowVisualizer(\n",
    "    model, k=(2,12), metric='calinski_harabasz', timings=False\n",
    ")\n",
    "\n",
    "visualizer.fit(res) # Fit the data to the visualizer\n",
    "visualizer.show()    # Finalize and render the figure\n",
    "\n"
   ]
  },
  {
   "cell_type": "code",
   "execution_count": null,
   "metadata": {
    "collapsed": true,
    "id": "qHKNOaDwC7fj",
    "jupyter": {
     "outputs_hidden": true,
     "source_hidden": true
    },
    "outputId": "fdb2a4c3-70aa-416e-d7ec-b0d713bf1991"
   },
   "outputs": [],
   "source": [
    "visualizer.elbow_value_"
   ]
  },
  {
   "cell_type": "code",
   "execution_count": null,
   "metadata": {
    "collapsed": true,
    "id": "q_F1xEFdRK0G",
    "jupyter": {
     "outputs_hidden": true,
     "source_hidden": true
    },
    "outputId": "9c390c6d-b0b4-41d1-93d4-3d517e9f6aff"
   },
   "outputs": [],
   "source": [
    "Kmean = KMeans(n_clusters=visualizer.elbow_value_)\n",
    "Kmean.fit(res)"
   ]
  },
  {
   "cell_type": "code",
   "execution_count": null,
   "metadata": {
    "id": "RENxpyHcqfYU",
    "jupyter": {
     "source_hidden": true
    },
    "outputId": "cbb75c72-394f-4000-d914-ac46ad46f85e"
   },
   "outputs": [],
   "source": [
    "dump(Kmean, path+'models/kmeans_model_s4.joblib')"
   ]
  },
  {
   "cell_type": "code",
   "execution_count": null,
   "metadata": {
    "collapsed": true,
    "id": "HETaO3-COTc4",
    "jupyter": {
     "outputs_hidden": true,
     "source_hidden": true
    },
    "outputId": "2b3b0eac-7754-4c93-f82f-826238819d92"
   },
   "outputs": [],
   "source": [
    "centroids = Kmean.cluster_centers_\n",
    "centroids"
   ]
  },
  {
   "cell_type": "code",
   "execution_count": null,
   "metadata": {
    "id": "a83N6DNpOTc6",
    "jupyter": {
     "source_hidden": true
    }
   },
   "outputs": [],
   "source": [
    "data = np.concatenate((res, centroids))"
   ]
  },
  {
   "cell_type": "code",
   "execution_count": null,
   "metadata": {
    "collapsed": true,
    "id": "6yo5Gl7cOTc8",
    "jupyter": {
     "outputs_hidden": true,
     "source_hidden": true
    },
    "outputId": "8bf76281-a50a-4a50-ac83-b1f19a3eda4e"
   },
   "outputs": [],
   "source": [
    "data.shape\n",
    "#(8650, 4588)"
   ]
  },
  {
   "cell_type": "code",
   "execution_count": null,
   "metadata": {
    "id": "EahJpj4wOTdj",
    "jupyter": {
     "source_hidden": true
    }
   },
   "outputs": [],
   "source": [
    "from sklearn.manifold import TSNE\n",
    "\n",
    "m = TSNE(learning_rate=50)\n",
    "tsne_features = m.fit_transform(data)"
   ]
  },
  {
   "cell_type": "code",
   "execution_count": null,
   "metadata": {
    "id": "ZsU85xupOTdy",
    "jupyter": {
     "source_hidden": true
    }
   },
   "outputs": [],
   "source": [
    "dfPlot = pd.DataFrame()\n",
    "dfPlot['x'] = tsne_features[0:1910,0]\n",
    "dfPlot['y'] = tsne_features[0:1910,1]"
   ]
  },
  {
   "cell_type": "code",
   "execution_count": null,
   "metadata": {
    "collapsed": true,
    "id": "9V-iSJTrOTd0",
    "jupyter": {
     "outputs_hidden": true,
     "source_hidden": true
    },
    "outputId": "ff69e006-9906-41a6-9fb2-989669a23c03"
   },
   "outputs": [],
   "source": [
    "len(dfPlot)"
   ]
  },
  {
   "cell_type": "code",
   "execution_count": null,
   "metadata": {
    "collapsed": true,
    "id": "xM910zm5OTd2",
    "jupyter": {
     "outputs_hidden": true,
     "source_hidden": true
    },
    "outputId": "ac9ed5b7-8814-4163-954b-70eff488569c"
   },
   "outputs": [],
   "source": [
    "import seaborn as sns\n",
    "\n",
    "sns.boxplot(data=dfPlot)\n",
    "plt.show()"
   ]
  },
  {
   "cell_type": "code",
   "execution_count": null,
   "metadata": {
    "collapsed": true,
    "id": "PtQhXwy9OTd4",
    "jupyter": {
     "outputs_hidden": true,
     "source_hidden": true
    },
    "outputId": "385107dd-1030-4fd7-e84b-9a15069a5c7e"
   },
   "outputs": [],
   "source": [
    "import seaborn as sns\n",
    "\n",
    "sns.scatterplot(x='x', y='y', data=dfPlot)\n",
    "plt.scatter(tsne_features[1910:1911,0], tsne_features[1910:1911,1], marker='*', s=200, color='red')\n",
    "plt.scatter(tsne_features[1911:1912,0], tsne_features[1911:1912,1], marker='*', s=200, color='red')\n",
    "plt.show()"
   ]
  },
  {
   "cell_type": "code",
   "execution_count": null,
   "metadata": {
    "collapsed": true,
    "id": "C5E4puIWOTd4",
    "jupyter": {
     "outputs_hidden": true,
     "source_hidden": true
    },
    "outputId": "86b346d2-0c5f-4ae6-eb9c-976dbf589732"
   },
   "outputs": [],
   "source": [
    "label = Kmean.predict(res)\n",
    "label"
   ]
  },
  {
   "cell_type": "code",
   "execution_count": null,
   "metadata": {
    "id": "gNKw50OXv2SV",
    "jupyter": {
     "source_hidden": true
    }
   },
   "outputs": [],
   "source": [
    "df2 = pd.DataFrame(label, columns=['C'])"
   ]
  },
  {
   "cell_type": "code",
   "execution_count": null,
   "metadata": {
    "id": "1XelydEWwMHJ",
    "jupyter": {
     "source_hidden": true
    }
   },
   "outputs": [],
   "source": [
    "result = pd.concat([Labled_data, df2], axis=1)"
   ]
  },
  {
   "cell_type": "code",
   "execution_count": null,
   "metadata": {
    "id": "DfmpbtQLwS9p",
    "jupyter": {
     "source_hidden": true
    }
   },
   "outputs": [],
   "source": [
    "result.to_excel(path+'dataafter.xlsx', index=False)"
   ]
  },
  {
   "cell_type": "code",
   "execution_count": null,
   "metadata": {
    "collapsed": true,
    "id": "DhzAKSdfA71l",
    "jupyter": {
     "outputs_hidden": true,
     "source_hidden": true
    },
    "outputId": "e1593654-dee7-4b53-ac35-34777f9d5889"
   },
   "outputs": [],
   "source": [
    "np.unique(label, return_counts=True)\n"
   ]
  },
  {
   "cell_type": "code",
   "execution_count": null,
   "metadata": {
    "collapsed": true,
    "id": "tuLroutsOTd6",
    "jupyter": {
     "outputs_hidden": true,
     "source_hidden": true
    },
    "outputId": "a2f7dd96-bed4-4832-f0ab-b0ce1c98c0a9"
   },
   "outputs": [],
   "source": [
    "ress=np.unique(label,return_index=False,return_inverse=False,return_counts=True,axis=None)\n",
    "ress[1][0]"
   ]
  },
  {
   "cell_type": "code",
   "execution_count": null,
   "metadata": {
    "collapsed": true,
    "id": "NIknG_KjOTd-",
    "jupyter": {
     "outputs_hidden": true,
     "source_hidden": true
    },
    "outputId": "f4c1efba-fd7f-4709-d1ec-96421c9046fd"
   },
   "outputs": [],
   "source": [
    "A=Kmean.inertia_\n",
    "print(A)"
   ]
  },
  {
   "cell_type": "code",
   "execution_count": null,
   "metadata": {
    "id": "e-2Zk7xq71OT",
    "jupyter": {
     "source_hidden": true
    }
   },
   "outputs": [],
   "source": [
    "sequ=['aagggtgtctcaaaaagaacgccggatttgaaaaggctgctatcctaacctcgatcttgcgacttgacgccgtgtgattttttcttatggggatacactaagtcacgagtttaccagaacaaagtccgaaacgtcttggaacttaagcaagaaattcgtcgtgtcctcaacgaacttgatggggcaatgtgtgatcgagtgatggtaagaataatcgcctgtagggctagtagggggggggtcatatgcccgatgttgtttttcactgttaaacctcaatttatcctgaagagaatgatatatttgtaatgtttttttaagaaaaataaatttaatgtatagcagatttaaatccggcgttctttttgagacaccctt']"
   ]
  },
  {
   "cell_type": "code",
   "execution_count": null,
   "metadata": {
    "id": "d4pJUbjf71Oa",
    "jupyter": {
     "source_hidden": true
    }
   },
   "outputs": [],
   "source": [
    "sequ= [seq for seq in Labled_data['Sequence']]"
   ]
  },
  {
   "cell_type": "code",
   "execution_count": null,
   "metadata": {
    "id": "bdkzqI2671Ob",
    "jupyter": {
     "source_hidden": true
    }
   },
   "outputs": [],
   "source": [
    "t = substituer_nucl(sequ)"
   ]
  },
  {
   "cell_type": "code",
   "execution_count": null,
   "metadata": {
    "id": "XcS8d78j71Od",
    "jupyter": {
     "source_hidden": true
    }
   },
   "outputs": [],
   "source": [
    "t  = [Kmers_funct(i, 6) for i in t ]"
   ]
  },
  {
   "cell_type": "code",
   "execution_count": null,
   "metadata": {
    "id": "HP9zjJep71Of",
    "jupyter": {
     "source_hidden": true
    }
   },
   "outputs": [],
   "source": [
    "t  = join_kmers(t)"
   ]
  },
  {
   "cell_type": "code",
   "execution_count": null,
   "metadata": {
    "id": "6D3gEX8-71Og",
    "jupyter": {
     "source_hidden": true
    }
   },
   "outputs": [],
   "source": [
    "\n",
    "resu=tfidf_vectorizer.transform(t)"
   ]
  },
  {
   "cell_type": "code",
   "execution_count": null,
   "metadata": {
    "id": "JKjoBTeNHH1z",
    "jupyter": {
     "source_hidden": true
    }
   },
   "outputs": [],
   "source": [
    "df = pd.DataFrame(res[0])\n",
    "df.to_excel(path+'elemtran.xlsx', index=False)"
   ]
  },
  {
   "cell_type": "code",
   "execution_count": null,
   "metadata": {
    "collapsed": true,
    "id": "byJynK-C71Oi",
    "jupyter": {
     "outputs_hidden": true,
     "source_hidden": true
    },
    "outputId": "53f81926-21d8-4364-ecd3-f9860e95b61e"
   },
   "outputs": [],
   "source": [
    "label = Kmean.predict(res[0].reshape(1,res[0].shape[0]))\n",
    "label"
   ]
  },
  {
   "cell_type": "code",
   "execution_count": null,
   "metadata": {
    "collapsed": true,
    "id": "O1MWS22YIyoy",
    "jupyter": {
     "outputs_hidden": true,
     "source_hidden": true
    },
    "outputId": "dd642b4f-355a-4857-f3b3-5035f9602d2a"
   },
   "outputs": [],
   "source": [
    "label = Kmean.predict(resu)\n",
    "label"
   ]
  },
  {
   "cell_type": "code",
   "execution_count": null,
   "metadata": {
    "collapsed": true,
    "id": "jL3KQKeoDZWA",
    "jupyter": {
     "outputs_hidden": true,
     "source_hidden": true
    },
    "outputId": "fabeab83-25d8-4dc6-f5e2-da3e2c86fd39"
   },
   "outputs": [],
   "source": [
    "np.unique(label, return_counts=True)\n"
   ]
  },
  {
   "cell_type": "markdown",
   "metadata": {
    "jp-MarkdownHeadingCollapsed": true
   },
   "source": [
    "### Machine learning"
   ]
  },
  {
   "cell_type": "markdown",
   "metadata": {},
   "source": [
    "#### Random Forest"
   ]
  },
  {
   "cell_type": "code",
   "execution_count": 60,
   "metadata": {
    "collapsed": true,
    "jupyter": {
     "outputs_hidden": true,
     "source_hidden": true
    }
   },
   "outputs": [
    {
     "name": "stdout",
     "output_type": "stream",
     "text": [
      "===============================================================\n",
      "\n",
      "Evaluating k=6\n",
      "\n",
      "Fitting 5 folds for each of 576 candidates, totalling 2880 fits\n",
      "\n",
      "Best parameters found: {'bootstrap': False, 'max_depth': 10, 'max_features': 'sqrt', 'min_samples_leaf': 2, 'min_samples_split': 20, 'n_estimators': 100}\n",
      "\n",
      "\t=======================================================================\n",
      "\n",
      "\tTrain model\n",
      "\n",
      "Epoch 1/30\n",
      "\n",
      "\tTraining Accuracy: 0.9990928, Validation Accuracy: 0.9966415, Training Error: 0.0071417, Validation Error: 0.0128209\n",
      "\n",
      "Epoch 2/30\n",
      "\n",
      "\tTraining Accuracy: 0.9990928, Validation Accuracy: 0.9966415, Training Error: 0.0071417, Validation Error: 0.0128209\n",
      "\n",
      "Epoch 3/30\n",
      "\n",
      "\tTraining Accuracy: 0.9990928, Validation Accuracy: 0.9966415, Training Error: 0.0071417, Validation Error: 0.0128209\n",
      "\n",
      "Epoch 4/30\n",
      "\n",
      "\tTraining Accuracy: 0.9990928, Validation Accuracy: 0.9966415, Training Error: 0.0071417, Validation Error: 0.0128209\n",
      "\n",
      "\tEarly stopping at epoch 4\n"
     ]
    },
    {
     "data": {
      "image/png": "[encoded data removed]",
      "text/plain": [
       "<Figure size 1200x600 with 2 Axes>"
      ]
     },
     "metadata": {},
     "output_type": "display_data"
    },
    {
     "name": "stdout",
     "output_type": "stream",
     "text": [
      "accuracy :  0.9961013645224172\n",
      "\n",
      "              precision    recall  f1-score   support\n",
      "\n",
      "\n",
      "\n",
      "           0       0.99      1.00      1.00       273\n",
      "\n",
      "           1       1.00      0.99      1.00       240\n",
      "\n",
      "\n",
      "\n",
      "    accuracy                           1.00       513\n",
      "\n",
      "   macro avg       1.00      1.00      1.00       513\n",
      "\n",
      "weighted avg       1.00      1.00      1.00       513\n",
      "\n",
      "\n",
      "\n",
      "\t========================================================================\n",
      "\n",
      "\tConfusion Matrix:\n"
     ]
    },
    {
     "data": {
      "image/png": "[encoded data removed]",
      "text/plain": [
       "<Figure size 1000x700 with 2 Axes>"
      ]
     },
     "metadata": {},
     "output_type": "display_data"
    },
    {
     "name": "stdout",
     "output_type": "stream",
     "text": [
      "\t========================================================================\n",
      "\n",
      "\tSave model and vectorizer\n"
     ]
    }
   ],
   "source": [
    "def evaluate_kmers_RF(X_train, X_test, y_train, y_test, epochs, patience=3):\n",
    "    smote = SMOTE(random_state=42)\n",
    "    X_train, y_train = smote.fit_resample(X_train, y_train)\n",
    "# def evaluate_kmers_RF( X_train, X_test, y_train, y_test, X_val, y_val, vectorizer,epochs,patience=3):\n",
    "    print(f\"===============================================================\\nEvaluating k={k}\")\n",
    "    param_grid = {\n",
    "        'n_estimators': [100, 300, 500],\n",
    "        'max_features': ['sqrt', 'log2'],\n",
    "        'max_depth' : [3,6,10],\n",
    "        'min_samples_split': [6, 8, 10, 20],\n",
    "        'min_samples_leaf': [2, 4, 12, 15],\n",
    "        'bootstrap': [True, False]\n",
    "    }\n",
    "    model = RandomForestClassifier(random_state=42)\n",
    "\n",
    "    # Initialize GridSearchCV\n",
    "    grid_search = GridSearchCV(estimator=model, param_grid=param_grid, cv=5, n_jobs=-1, verbose=2, scoring='neg_log_loss')\n",
    "\n",
    "    # Fit the model\n",
    "    grid_search.fit(X_train, y_train)\n",
    "\n",
    "    print(f\"Best parameters found: {grid_search.best_params_}\")\n",
    "    best_params = grid_search.best_params_\n",
    "\n",
    "    # Initialize the model with best parameters\n",
    "    model = RandomForestClassifier(**best_params, random_state=42)\n",
    "\n",
    "    train_accuracy = []\n",
    "    val_accuracy = []\n",
    "    train_loss = []\n",
    "    val_loss = []\n",
    "    best_val_acc = 0\n",
    "    patience_counter = 0\n",
    "    \n",
    "    print(\"\\t=======================================================================\\n\\tTrain model\")\n",
    "\n",
    "\n",
    "# Cross-validation setup\n",
    "    skf = StratifiedKFold(n_splits=10, shuffle=True, random_state=42)\n",
    "    train_accuracy = []\n",
    "    val_accuracy = []\n",
    "    train_loss = []\n",
    "    val_loss = []\n",
    "    best_val_acc = 0\n",
    "    patience_counter = 0\n",
    "\n",
    "    for e in range(epochs):\n",
    "        print(f\"Epoch {e+1}/{epochs}\")\n",
    "        fold_train_acc = []\n",
    "        fold_val_acc = []\n",
    "        fold_train_loss = []\n",
    "        fold_val_loss = []\n",
    "\n",
    "        for train_index, val_index in skf.split(X_train, y_train):\n",
    "            X_train_fold, X_val_fold = X_train.iloc[train_index], X_train.iloc[val_index]\n",
    "            y_train_fold, y_val_fold = y_train.iloc[train_index], y_train.iloc[val_index]\n",
    "\n",
    "            model.fit(X_train_fold, y_train_fold)\n",
    "            y_train_pred = model.predict(X_train_fold)\n",
    "            y_val_pred = model.predict(X_val_fold)\n",
    "\n",
    "            train_acc = accuracy_score(y_train_fold, y_train_pred)\n",
    "            val_acc = accuracy_score(y_val_fold, y_val_pred)\n",
    "\n",
    "            fold_train_acc.append(train_acc)\n",
    "            fold_val_acc.append(val_acc)\n",
    "\n",
    "            y_train_pred_proba = model.predict_proba(X_train_fold)\n",
    "            y_val_pred_proba = model.predict_proba(X_val_fold)\n",
    "\n",
    "            train_lo = log_loss(y_train_fold, y_train_pred_proba)\n",
    "            val_lo = log_loss(y_val_fold, y_val_pred_proba)\n",
    "\n",
    "            fold_train_loss.append(train_lo)\n",
    "            fold_val_loss.append(val_lo)\n",
    "\n",
    "        train_accuracy.append(np.mean(fold_train_acc))\n",
    "        val_accuracy.append(np.mean(fold_val_acc))\n",
    "        train_loss.append(np.mean(fold_train_loss))\n",
    "        val_loss.append(np.mean(fold_val_loss))\n",
    "\n",
    "        print(f\"\\tTraining Accuracy: {train_accuracy[-1]:.7f}, Validation Accuracy: {val_accuracy[-1]:.7f}, Training Error: {train_loss[-1]:.7f}, Validation Error: {val_loss[-1]:.7f}\")\n",
    "\n",
    "        # Early Stopping Logic\n",
    "        if val_accuracy[-1] > best_val_acc:\n",
    "            best_val_acc = val_accuracy[-1]\n",
    "            patience_counter = 0\n",
    "        else:\n",
    "            patience_counter += 1\n",
    "\n",
    "        if patience_counter >= patience:\n",
    "            print(f\"\\tEarly stopping at epoch {e+1}\")\n",
    "            break\n",
    "    # Ensure same lengths for plotting\n",
    "    epochs = range(1, len(train_accuracy) + 1)\n",
    "    if len(train_accuracy) != len(val_accuracy):\n",
    "        print(f\"Warning: Length mismatch between train and validation accuracy: {len(train_accuracy)} vs {len(val_accuracy)}\")\n",
    "    if len(train_loss) != len(val_loss):\n",
    "        print(f\"Warning: Length mismatch between train and validation loss: {len(train_loss)} vs {len(val_loss)}\")\n",
    "\n",
    "    # Plot training and validation accuracy & loss\n",
    "    plt.figure(figsize=(12, 6))\n",
    "    plt.subplot(1, 2, 1)\n",
    "    plt.plot(epochs, train_accuracy, label='Training Accuracy')\n",
    "    plt.plot(epochs, val_accuracy, label='Validation Accuracy')\n",
    "    plt.xlabel('Epochs')\n",
    "    plt.ylabel('Accuracy')\n",
    "    plt.title(f'Training and Validation Accuracy for k={k}')\n",
    "    plt.legend()\n",
    "\n",
    "    plt.subplot(1, 2, 2)\n",
    "    plt.plot(epochs, train_loss, label='Training Error')\n",
    "    plt.plot(epochs, val_loss, label='Validation Error')\n",
    "    plt.xlabel('Epochs')\n",
    "    plt.ylabel('Error')\n",
    "    plt.title(f'Training and Validation Error for k={k}')\n",
    "    plt.legend()\n",
    "\n",
    "    plt.show()\n",
    "    y_test_pred = model.predict(X_test)\n",
    "    final_score = accuracy_score(y_test, y_test_pred)\n",
    "    print(\"accuracy : \",final_score)\n",
    "    print(classification_report(y_test, y_test_pred))\n",
    "\n",
    "    # Confusion Matrix\n",
    "    print(\"\\t========================================================================\\n\\tConfusion Matrix:\")\n",
    "\n",
    "    cm = confusion_matrix(y_test, y_test_pred)\n",
    "    plt.figure(figsize=(10, 7))\n",
    "    sns.heatmap(cm, annot=True, fmt='d', cmap='Blues')\n",
    "    plt.xlabel('Predicted')\n",
    "    plt.ylabel('True')\n",
    "    plt.title(f'Confusion Matrix for k={k}')\n",
    "    plt.show()\n",
    "\n",
    "    print(\"\\t========================================================================\\n\\tSave model and vectorizer\")\n",
    "\n",
    "    # dump(model, f\"{path}models/classifierRF_tfidf_k={k}.joblib\")\n",
    "    dump(model, f\"{path}models/classifierRF_CV_2_k={k}.joblib\")\n",
    "\n",
    "    # dump(vectorizer, f\"{path}models/tfidf_vectorizer_k={5}.joblib\")\n",
    "    # return best_k, best_score, scores\n",
    "\n",
    "\n",
    "\n",
    "# evaluate_kmers_RF( sequences_train_final, sequences_test_final, y_train, y_test, sequences_val_final, y_val,tfidf_vectorizer,10)\n",
    "\n",
    "X_train_concat = pd.concat([sequences_train_final, sequences_val_final])\n",
    "y_train_concat = pd.concat([y_train, y_val])\n",
    "evaluate_kmers_RF(X_train_concat, sequences_test_final, y_train_concat, y_test, epochs=30)\n"
   ]
  },
  {
   "cell_type": "markdown",
   "metadata": {
    "jp-MarkdownHeadingCollapsed": true
   },
   "source": [
    "#### ExtraTreesClassifier"
   ]
  },
  {
   "cell_type": "code",
   "execution_count": 61,
   "metadata": {
    "collapsed": true,
    "jupyter": {
     "outputs_hidden": true,
     "source_hidden": true
    }
   },
   "outputs": [
    {
     "name": "stdout",
     "output_type": "stream",
     "text": [
      "Fitting 5 folds for each of 36 candidates, totalling 180 fits\n",
      "\n",
      "Best parameters found: {'bootstrap': True, 'max_features': 'sqrt', 'min_samples_leaf': 2, 'min_samples_split': 6, 'n_estimators': 100}\n",
      "\n",
      "Epoch 1/30\n",
      "\n",
      "\tTraining Accuracy: 1.0000000, Validation Accuracy: 0.9966404, Training Error: 0.0058090, Validation Error: 0.0132158\n",
      "\n",
      "Epoch 2/30\n",
      "\n",
      "\tTraining Accuracy: 1.0000000, Validation Accuracy: 0.9976008, Training Error: 0.0055469, Validation Error: 0.0123953\n",
      "\n",
      "Epoch 3/30\n",
      "\n",
      "\tTraining Accuracy: 0.9998799, Validation Accuracy: 0.9966404, Training Error: 0.0060226, Validation Error: 0.0131666\n",
      "\n",
      "Epoch 4/30\n",
      "\n",
      "\tTraining Accuracy: 1.0000000, Validation Accuracy: 0.9976019, Training Error: 0.0057970, Validation Error: 0.0128287\n",
      "\n",
      "Epoch 5/30\n",
      "\n",
      "\tTraining Accuracy: 1.0000000, Validation Accuracy: 0.9976008, Training Error: 0.0060117, Validation Error: 0.0126173\n",
      "\n",
      "Epoch 6/30\n",
      "\n",
      "\tTraining Accuracy: 1.0000000, Validation Accuracy: 0.9966392, Training Error: 0.0056971, Validation Error: 0.0125934\n",
      "\n",
      "Epoch 7/30\n",
      "\n",
      "\tTraining Accuracy: 1.0000000, Validation Accuracy: 0.9971200, Training Error: 0.0058900, Validation Error: 0.0129145\n",
      "\n",
      "\tEarly stopping at epoch 7\n"
     ]
    },
    {
     "data": {
      "image/png": "[encoded data removed]",
      "text/plain": [
       "<Figure size 1200x600 with 2 Axes>"
      ]
     },
     "metadata": {},
     "output_type": "display_data"
    },
    {
     "name": "stdout",
     "output_type": "stream",
     "text": [
      "accuracy :  0.9980506822612085\n",
      "\n",
      "              precision    recall  f1-score   support\n",
      "\n",
      "\n",
      "\n",
      "           0       1.00      1.00      1.00       273\n",
      "\n",
      "           1       1.00      1.00      1.00       240\n",
      "\n",
      "\n",
      "\n",
      "    accuracy                           1.00       513\n",
      "\n",
      "   macro avg       1.00      1.00      1.00       513\n",
      "\n",
      "weighted avg       1.00      1.00      1.00       513\n",
      "\n",
      "\n",
      "\n",
      "========================================================================\n",
      "\n",
      "\tConfusion Matrix:\n"
     ]
    },
    {
     "data": {
      "image/png": "[encoded data removed]",
      "text/plain": [
       "<Figure size 1000x700 with 2 Axes>"
      ]
     },
     "metadata": {},
     "output_type": "display_data"
    },
    {
     "name": "stdout",
     "output_type": "stream",
     "text": [
      "========================================================================\n",
      "\n",
      "\tSave model and vectorizer\n"
     ]
    }
   ],
   "source": [
    "def evaluate_kmers_ETC(X_train, X_test, y_train, y_test, epochs, patience=3):\n",
    "    smote = SMOTE(random_state=42)\n",
    "    X_train, y_train = smote.fit_resample(X_train, y_train)\n",
    "    \n",
    "    # Initialize the ExtraTreesClassifier\n",
    "    etc = ExtraTreesClassifier(random_state=42)\n",
    "\n",
    "    # Define the parameter grid with more focus on regularization\n",
    "    param_grid = {\n",
    "        'n_estimators': [100, 200],\n",
    "        'max_features': ['sqrt', 'log2'],\n",
    "        'min_samples_split': [4, 6, 8],\n",
    "        'min_samples_leaf': [2, 3, 4],\n",
    "        'bootstrap': [True]\n",
    "    }\n",
    "\n",
    "    # Initialize GridSearchCV\n",
    "    grid_search = GridSearchCV(estimator=etc, param_grid=param_grid, cv=5, n_jobs=-1, verbose=2, scoring='neg_log_loss')\n",
    "\n",
    "    # Fit the model\n",
    "    grid_search.fit(X_train, y_train)\n",
    "\n",
    "    print(f\"Best parameters found: {grid_search.best_params_}\")\n",
    "    best_params = grid_search.best_params_\n",
    "\n",
    "    # Initialize the model with best parameters\n",
    "    model = ExtraTreesClassifier(**best_params)\n",
    "\n",
    "    # Cross-validation setup\n",
    "    skf = StratifiedKFold(n_splits=5, shuffle=True, random_state=42)\n",
    "    train_accuracy = []\n",
    "    val_accuracy = []\n",
    "    train_loss = []\n",
    "    val_loss = []\n",
    "    best_val_acc = 0\n",
    "    patience_counter = 0\n",
    "\n",
    "    for e in range(epochs):\n",
    "        print(f\"Epoch {e+1}/{epochs}\")\n",
    "        fold_train_acc = []\n",
    "        fold_val_acc = []\n",
    "        fold_train_loss = []\n",
    "        fold_val_loss = []\n",
    "\n",
    "        for train_index, val_index in skf.split(X_train, y_train):\n",
    "            X_train_fold, X_val_fold = X_train.iloc[train_index], X_train.iloc[val_index]\n",
    "            y_train_fold, y_val_fold = y_train.iloc[train_index], y_train.iloc[val_index]\n",
    "\n",
    "            model.fit(X_train_fold, y_train_fold)\n",
    "            y_train_pred = model.predict(X_train_fold)\n",
    "            y_val_pred = model.predict(X_val_fold)\n",
    "\n",
    "            train_acc = accuracy_score(y_train_fold, y_train_pred)\n",
    "            val_acc = accuracy_score(y_val_fold, y_val_pred)\n",
    "\n",
    "            fold_train_acc.append(train_acc)\n",
    "            fold_val_acc.append(val_acc)\n",
    "\n",
    "            y_train_pred_proba = model.predict_proba(X_train_fold)\n",
    "            y_val_pred_proba = model.predict_proba(X_val_fold)\n",
    "\n",
    "            train_lo = log_loss(y_train_fold, y_train_pred_proba)\n",
    "            val_lo = log_loss(y_val_fold, y_val_pred_proba)\n",
    "\n",
    "            fold_train_loss.append(train_lo)\n",
    "            fold_val_loss.append(val_lo)\n",
    "\n",
    "        train_accuracy.append(np.mean(fold_train_acc))\n",
    "        val_accuracy.append(np.mean(fold_val_acc))\n",
    "        train_loss.append(np.mean(fold_train_loss))\n",
    "        val_loss.append(np.mean(fold_val_loss))\n",
    "\n",
    "        print(f\"\\tTraining Accuracy: {train_accuracy[-1]:.7f}, Validation Accuracy: {val_accuracy[-1]:.7f}, Training Error: {train_loss[-1]:.7f}, Validation Error: {val_loss[-1]:.7f}\")\n",
    "\n",
    "        # Early Stopping Logic\n",
    "        if val_accuracy[-1] > best_val_acc:\n",
    "            best_val_acc = val_accuracy[-1]\n",
    "            patience_counter = 0\n",
    "        else:\n",
    "            patience_counter += 1\n",
    "\n",
    "        if patience_counter >= patience:\n",
    "            print(f\"\\tEarly stopping at epoch {e+1}\")\n",
    "            break\n",
    "\n",
    "    # Ensure same lengths for plotting\n",
    "    epoch_range = range(1, len(train_accuracy) + 1)\n",
    "\n",
    "    # Plot training and validation accuracy & loss\n",
    "    plt.figure(figsize=(12, 6))\n",
    "    plt.subplot(1, 2, 1)\n",
    "    plt.plot(epoch_range, train_accuracy, label='Training Accuracy')\n",
    "    plt.plot(epoch_range, val_accuracy, label='Validation Accuracy')\n",
    "    plt.xlabel('Epochs')\n",
    "    plt.ylabel('Accuracy')\n",
    "    plt.title(f'Training and Validation Accuracy for k={k}')\n",
    "    plt.legend()\n",
    "\n",
    "    plt.subplot(1, 2, 2)\n",
    "    plt.plot(epoch_range, train_loss, label='Training Error')\n",
    "    plt.plot(epoch_range, val_loss, label='Validation Error')\n",
    "    plt.xlabel('Epochs')\n",
    "    plt.ylabel('Error')\n",
    "    plt.title(f'Training and Validation Error for k={k}')\n",
    "    plt.legend()\n",
    "\n",
    "    plt.show()\n",
    "\n",
    "    y_test_pred = model.predict(X_test)\n",
    "    final_score = accuracy_score(y_test, y_test_pred)\n",
    "    print(\"accuracy : \", final_score)\n",
    "    print(classification_report(y_test, y_test_pred))\n",
    "\n",
    "    # Confusion Matrix\n",
    "    print(\"========================================================================\\n\\tConfusion Matrix:\")\n",
    "\n",
    "    cm = confusion_matrix(y_test, y_test_pred)\n",
    "    plt.figure(figsize=(10, 7))\n",
    "    sns.heatmap(cm, annot=True, fmt='d', cmap='Blues')\n",
    "    plt.xlabel('Predicted')\n",
    "    plt.ylabel('True')\n",
    "    plt.title(f'Confusion Matrix for k={k}')\n",
    "    plt.show()\n",
    "\n",
    "    print(\"========================================================================\\n\\tSave model and vectorizer\")\n",
    "\n",
    "    dump(model, f\"{path}models/classifierETC_tfidf_k={k}.joblib\")\n",
    "    # dump(model, f\"{path}models/classifierETC_CV_k={k}.joblib\")\n",
    "\n",
    "\n",
    "# Example usage:\n",
    "X_train_concat = pd.concat([sequences_train_final, sequences_val_final])\n",
    "y_train_concat = pd.concat([y_train, y_val])\n",
    "evaluate_kmers_ETC(X_train_concat, sequences_test_final, y_train_concat, y_test, epochs=30)"
   ]
  },
  {
   "cell_type": "markdown",
   "metadata": {
    "jp-MarkdownHeadingCollapsed": true
   },
   "source": [
    "#### NB"
   ]
  },
  {
   "cell_type": "code",
   "execution_count": 62,
   "metadata": {
    "collapsed": true,
    "jupyter": {
     "outputs_hidden": true,
     "source_hidden": true
    },
    "scrolled": true
   },
   "outputs": [
    {
     "name": "stdout",
     "output_type": "stream",
     "text": [
      "Fitting 5 folds for each of 6 candidates, totalling 30 fits\n",
      "\n",
      "Best parameters found: {'alpha': 0.001}\n",
      "\n",
      "Epoch 1/30\n",
      "\n",
      "\tTraining Accuracy: 1.0000000, Validation Accuracy: 1.0000000, Training Error: 0.0000000, Validation Error: 0.0000000\n",
      "\n",
      "Epoch 2/30\n",
      "\n",
      "\tTraining Accuracy: 1.0000000, Validation Accuracy: 1.0000000, Training Error: 0.0000000, Validation Error: 0.0000000\n",
      "\n",
      "Epoch 3/30\n",
      "\n",
      "\tTraining Accuracy: 1.0000000, Validation Accuracy: 1.0000000, Training Error: 0.0000000, Validation Error: 0.0000000\n",
      "\n",
      "Epoch 4/30\n",
      "\n",
      "\tTraining Accuracy: 1.0000000, Validation Accuracy: 1.0000000, Training Error: 0.0000000, Validation Error: 0.0000000\n",
      "\n",
      "Epoch 5/30\n",
      "\n",
      "\tTraining Accuracy: 1.0000000, Validation Accuracy: 1.0000000, Training Error: 0.0000000, Validation Error: 0.0000000\n",
      "\n",
      "Epoch 6/30\n",
      "\n",
      "\tTraining Accuracy: 1.0000000, Validation Accuracy: 1.0000000, Training Error: 0.0000000, Validation Error: 0.0000000\n",
      "\n",
      "Epoch 7/30\n",
      "\n",
      "\tTraining Accuracy: 1.0000000, Validation Accuracy: 1.0000000, Training Error: 0.0000000, Validation Error: 0.0000000\n",
      "\n",
      "Epoch 8/30\n",
      "\n",
      "\tTraining Accuracy: 1.0000000, Validation Accuracy: 1.0000000, Training Error: 0.0000000, Validation Error: 0.0000000\n",
      "\n",
      "Epoch 9/30\n",
      "\n",
      "\tTraining Accuracy: 1.0000000, Validation Accuracy: 1.0000000, Training Error: 0.0000000, Validation Error: 0.0000000\n",
      "\n",
      "Epoch 10/30\n",
      "\n",
      "\tTraining Accuracy: 1.0000000, Validation Accuracy: 1.0000000, Training Error: 0.0000000, Validation Error: 0.0000000\n",
      "\n",
      "Epoch 11/30\n",
      "\n",
      "\tTraining Accuracy: 1.0000000, Validation Accuracy: 1.0000000, Training Error: 0.0000000, Validation Error: 0.0000000\n",
      "\n",
      "Epoch 12/30\n",
      "\n",
      "\tTraining Accuracy: 1.0000000, Validation Accuracy: 1.0000000, Training Error: 0.0000000, Validation Error: 0.0000000\n",
      "\n",
      "Epoch 13/30\n",
      "\n",
      "\tTraining Accuracy: 1.0000000, Validation Accuracy: 1.0000000, Training Error: 0.0000000, Validation Error: 0.0000000\n",
      "\n",
      "Epoch 14/30\n",
      "\n",
      "\tTraining Accuracy: 1.0000000, Validation Accuracy: 1.0000000, Training Error: 0.0000000, Validation Error: 0.0000000\n",
      "\n",
      "Epoch 15/30\n",
      "\n",
      "\tTraining Accuracy: 1.0000000, Validation Accuracy: 1.0000000, Training Error: 0.0000000, Validation Error: 0.0000000\n",
      "\n",
      "Epoch 16/30\n",
      "\n",
      "\tTraining Accuracy: 1.0000000, Validation Accuracy: 1.0000000, Training Error: 0.0000000, Validation Error: 0.0000000\n",
      "\n",
      "Epoch 17/30\n",
      "\n",
      "\tTraining Accuracy: 1.0000000, Validation Accuracy: 1.0000000, Training Error: 0.0000000, Validation Error: 0.0000000\n",
      "\n",
      "Epoch 18/30\n",
      "\n",
      "\tTraining Accuracy: 1.0000000, Validation Accuracy: 1.0000000, Training Error: 0.0000000, Validation Error: 0.0000000\n",
      "\n",
      "Epoch 19/30\n",
      "\n",
      "\tTraining Accuracy: 1.0000000, Validation Accuracy: 1.0000000, Training Error: 0.0000000, Validation Error: 0.0000000\n",
      "\n",
      "Epoch 20/30\n",
      "\n",
      "\tTraining Accuracy: 1.0000000, Validation Accuracy: 1.0000000, Training Error: 0.0000000, Validation Error: 0.0000000\n",
      "\n",
      "Epoch 21/30\n",
      "\n",
      "\tTraining Accuracy: 1.0000000, Validation Accuracy: 1.0000000, Training Error: 0.0000000, Validation Error: 0.0000000\n",
      "\n",
      "Epoch 22/30\n",
      "\n",
      "\tTraining Accuracy: 1.0000000, Validation Accuracy: 1.0000000, Training Error: 0.0000000, Validation Error: 0.0000000\n",
      "\n",
      "Epoch 23/30\n",
      "\n",
      "\tTraining Accuracy: 1.0000000, Validation Accuracy: 1.0000000, Training Error: 0.0000000, Validation Error: 0.0000000\n",
      "\n",
      "Epoch 24/30\n",
      "\n",
      "\tTraining Accuracy: 1.0000000, Validation Accuracy: 1.0000000, Training Error: 0.0000000, Validation Error: 0.0000000\n",
      "\n",
      "Epoch 25/30\n",
      "\n",
      "\tTraining Accuracy: 1.0000000, Validation Accuracy: 1.0000000, Training Error: 0.0000000, Validation Error: 0.0000000\n",
      "\n",
      "Epoch 26/30\n",
      "\n",
      "\tTraining Accuracy: 1.0000000, Validation Accuracy: 1.0000000, Training Error: 0.0000000, Validation Error: 0.0000000\n",
      "\n",
      "Epoch 27/30\n",
      "\n",
      "\tTraining Accuracy: 1.0000000, Validation Accuracy: 1.0000000, Training Error: 0.0000000, Validation Error: 0.0000000\n",
      "\n",
      "Epoch 28/30\n",
      "\n",
      "\tTraining Accuracy: 1.0000000, Validation Accuracy: 1.0000000, Training Error: 0.0000000, Validation Error: 0.0000000\n",
      "\n",
      "Epoch 29/30\n",
      "\n",
      "\tTraining Accuracy: 1.0000000, Validation Accuracy: 1.0000000, Training Error: 0.0000000, Validation Error: 0.0000000\n",
      "\n",
      "Epoch 30/30\n",
      "\n",
      "\tTraining Accuracy: 1.0000000, Validation Accuracy: 1.0000000, Training Error: 0.0000000, Validation Error: 0.0000000\n"
     ]
    },
    {
     "data": {
      "image/png": "[encoded data removed]",
      "text/plain": [
       "<Figure size 1200x600 with 2 Axes>"
      ]
     },
     "metadata": {},
     "output_type": "display_data"
    },
    {
     "name": "stdout",
     "output_type": "stream",
     "text": [
      "accuracy :  1.0\n",
      "\n",
      "              precision    recall  f1-score   support\n",
      "\n",
      "\n",
      "\n",
      "           0       1.00      1.00      1.00       273\n",
      "\n",
      "           1       1.00      1.00      1.00       240\n",
      "\n",
      "\n",
      "\n",
      "    accuracy                           1.00       513\n",
      "\n",
      "   macro avg       1.00      1.00      1.00       513\n",
      "\n",
      "weighted avg       1.00      1.00      1.00       513\n",
      "\n",
      "\n",
      "\n",
      "========================================================================\n",
      "\n",
      "\tConfusion Matrix:\n"
     ]
    },
    {
     "data": {
      "image/png": "[encoded data removed]",
      "text/plain": [
       "<Figure size 1000x700 with 2 Axes>"
      ]
     },
     "metadata": {},
     "output_type": "display_data"
    },
    {
     "name": "stdout",
     "output_type": "stream",
     "text": [
      "========================================================================\n",
      "\n",
      "\tSave model and vectorizer\n"
     ]
    }
   ],
   "source": [
    "def evaluate_kmers_NB(X_train, X_test, y_train, y_test, epochs, patience=3):\n",
    "    smote = SMOTE(random_state=42)\n",
    "    X_train, y_train = smote.fit_resample(X_train, y_train)\n",
    "    \n",
    "    model = MultinomialNB()\n",
    "    param_grid = {'alpha': [0.001, 0.01, 0.1, 1.0, 2,10.0]}  # You can add more hyperparameters here\n",
    "    \n",
    "\n",
    "\n",
    "    # Initialize GridSearchCV\n",
    "    grid_search = GridSearchCV(estimator=model, param_grid=param_grid, cv=5, n_jobs=-1, verbose=2, scoring='neg_log_loss')\n",
    "\n",
    "    # Fit the model\n",
    "    grid_search.fit(X_train, y_train)\n",
    "\n",
    "    print(f\"Best parameters found: {grid_search.best_params_}\")\n",
    "    best_params = grid_search.best_params_\n",
    "\n",
    "    # Initialize the model with best parameters\n",
    "    model = MultinomialNB(**best_params)\n",
    "\n",
    "    # Cross-validation setup\n",
    "    skf = StratifiedKFold(n_splits=5, shuffle=True, random_state=42)\n",
    "    train_accuracy = []\n",
    "    val_accuracy = []\n",
    "    train_loss = []\n",
    "    val_loss = []\n",
    "    best_val_acc = 0\n",
    "    patience_counter = 0\n",
    "\n",
    "    for e in range(epochs):\n",
    "        print(f\"Epoch {e+1}/{epochs}\")\n",
    "        fold_train_acc = []\n",
    "        fold_val_acc = []\n",
    "        fold_train_loss = []\n",
    "        fold_val_loss = []\n",
    "\n",
    "        for train_index, val_index in skf.split(X_train, y_train):\n",
    "            X_train_fold, X_val_fold = X_train.iloc[train_index], X_train.iloc[val_index]\n",
    "            y_train_fold, y_val_fold = y_train.iloc[train_index], y_train.iloc[val_index]\n",
    "\n",
    "            model.fit(X_train_fold, y_train_fold)\n",
    "            y_train_pred = model.predict(X_train_fold)\n",
    "            y_val_pred = model.predict(X_val_fold)\n",
    "\n",
    "            train_acc = accuracy_score(y_train_fold, y_train_pred)\n",
    "            val_acc = accuracy_score(y_val_fold, y_val_pred)\n",
    "\n",
    "            fold_train_acc.append(train_acc)\n",
    "            fold_val_acc.append(val_acc)\n",
    "\n",
    "            y_train_pred_proba = model.predict_proba(X_train_fold)\n",
    "            y_val_pred_proba = model.predict_proba(X_val_fold)\n",
    "\n",
    "            train_lo = log_loss(y_train_fold, y_train_pred_proba)\n",
    "            val_lo = log_loss(y_val_fold, y_val_pred_proba)\n",
    "\n",
    "            fold_train_loss.append(train_lo)\n",
    "            fold_val_loss.append(val_lo)\n",
    "\n",
    "        train_accuracy.append(np.mean(fold_train_acc))\n",
    "        val_accuracy.append(np.mean(fold_val_acc))\n",
    "        train_loss.append(np.mean(fold_train_loss))\n",
    "        val_loss.append(np.mean(fold_val_loss))\n",
    "\n",
    "        print(f\"\\tTraining Accuracy: {train_accuracy[-1]:.7f}, Validation Accuracy: {val_accuracy[-1]:.7f}, Training Error: {train_loss[-1]:.7f}, Validation Error: {val_loss[-1]:.7f}\")\n",
    "\n",
    "        # Early Stopping Logic\n",
    "        if val_accuracy[-1] > best_val_acc:\n",
    "            best_val_acc = val_accuracy[-1]\n",
    "            patience_counter = 0\n",
    "        else:\n",
    "            patience_counter += 1\n",
    "\n",
    "        if patience_counter >= patience:\n",
    "            print(f\"\\tEarly stopping at epoch {e+1}\")\n",
    "            break\n",
    "\n",
    "    # Ensure same lengths for plotting\n",
    "    epoch_range = range(1, len(train_accuracy) + 1)\n",
    "\n",
    "    # Plot training and validation accuracy & loss\n",
    "    plt.figure(figsize=(12, 6))\n",
    "    plt.subplot(1, 2, 1)\n",
    "    plt.plot(epoch_range, train_accuracy, label='Training Accuracy')\n",
    "    plt.plot(epoch_range, val_accuracy, label='Validation Accuracy')\n",
    "    plt.xlabel('Epochs')\n",
    "    plt.ylabel('Accuracy')\n",
    "    plt.title(f'Training and Validation Accuracy for k={k}')\n",
    "    plt.legend()\n",
    "\n",
    "    plt.subplot(1, 2, 2)\n",
    "    plt.plot(epoch_range, train_loss, label='Training Error')\n",
    "    plt.plot(epoch_range, val_loss, label='Validation Error')\n",
    "    plt.xlabel('Epochs')\n",
    "    plt.ylabel('Error')\n",
    "    plt.title(f'Training and Validation Error for k={k}')\n",
    "    plt.legend()\n",
    "\n",
    "    plt.show()\n",
    "\n",
    "    y_test_pred = model.predict(X_test)\n",
    "    final_score = accuracy_score(y_test, y_test_pred)\n",
    "    print(\"accuracy : \", final_score)\n",
    "    print(classification_report(y_test, y_test_pred))\n",
    "\n",
    "    # Confusion Matrix\n",
    "    print(\"========================================================================\\n\\tConfusion Matrix:\")\n",
    "\n",
    "    cm = confusion_matrix(y_test, y_test_pred)\n",
    "    plt.figure(figsize=(10, 7))\n",
    "    sns.heatmap(cm, annot=True, fmt='d', cmap='Blues')\n",
    "    plt.xlabel('Predicted')\n",
    "    plt.ylabel('True')\n",
    "    plt.title(f'Confusion Matrix for k={k}')\n",
    "    plt.show()\n",
    "\n",
    "    print(\"========================================================================\\n\\tSave model and vectorizer\")\n",
    "\n",
    "    dump(model, f\"{path}models/classifierNB_tfidf_k={k}.joblib\")\n",
    "    # dump(model, f\"{path}models/classifierNB_CV_k={k}.joblib\")\n",
    "\n",
    "\n",
    "# Example usage:\n",
    "X_train_concat = pd.concat([sequences_train_final, sequences_val_final])\n",
    "y_train_concat = pd.concat([y_train, y_val])\n",
    "evaluate_kmers_NB(X_train_concat, sequences_test_final, y_train_concat, y_test, epochs=30)"
   ]
  },
  {
   "cell_type": "markdown",
   "metadata": {
    "id": "0LH6Vue6yrxc",
    "jp-MarkdownHeadingCollapsed": true
   },
   "source": [
    "#### SVM"
   ]
  },
  {
   "cell_type": "code",
   "execution_count": 65,
   "metadata": {
    "collapsed": true,
    "jupyter": {
     "outputs_hidden": true,
     "source_hidden": true
    }
   },
   "outputs": [
    {
     "name": "stdout",
     "output_type": "stream",
     "text": [
      "Epoch 1/30\n",
      "\n",
      "\tTraining Accuracy: 0.8513453, Validation Accuracy: 0.8419687, Training Error: 0.2418671, Validation Error: 0.2474655\n",
      "\n",
      "Epoch 2/30\n"
     ]
    },
    {
     "ename": "KeyboardInterrupt",
     "evalue": "",
     "output_type": "error",
     "traceback": [
      "\u001b[1;31m---------------------------------------------------------------------------\u001b[0m",
      "\u001b[1;31mKeyboardInterrupt\u001b[0m                         Traceback (most recent call last)",
      "Cell \u001b[1;32mIn[65], line 129\u001b[0m\n\u001b[0;32m    127\u001b[0m X_train_concat \u001b[38;5;241m=\u001b[39m pd\u001b[38;5;241m.\u001b[39mconcat([sequences_train_final, sequences_val_final])\n\u001b[0;32m    128\u001b[0m y_train_concat \u001b[38;5;241m=\u001b[39m pd\u001b[38;5;241m.\u001b[39mconcat([y_train, y_val])\n\u001b[1;32m--> 129\u001b[0m evaluate_kmers_SVM(X_train_concat, sequences_test_final, y_train_concat, y_test, epochs\u001b[38;5;241m=\u001b[39m\u001b[38;5;241m30\u001b[39m)\n",
      "Cell \u001b[1;32mIn[65], line 46\u001b[0m, in \u001b[0;36mevaluate_kmers_SVM\u001b[1;34m(X_train, X_test, y_train, y_test, epochs, patience)\u001b[0m\n\u001b[0;32m     44\u001b[0m model\u001b[38;5;241m.\u001b[39mfit(X_train_fold, y_train_fold)\n\u001b[0;32m     45\u001b[0m y_train_pred \u001b[38;5;241m=\u001b[39m model\u001b[38;5;241m.\u001b[39mpredict(X_train_fold)\n\u001b[1;32m---> 46\u001b[0m y_val_pred \u001b[38;5;241m=\u001b[39m model\u001b[38;5;241m.\u001b[39mpredict(X_val_fold)\n\u001b[0;32m     48\u001b[0m train_acc \u001b[38;5;241m=\u001b[39m accuracy_score(y_train_fold, y_train_pred)\n\u001b[0;32m     49\u001b[0m val_acc \u001b[38;5;241m=\u001b[39m accuracy_score(y_val_fold, y_val_pred)\n",
      "File \u001b[1;32m~\\anaconda3\\Lib\\site-packages\\sklearn\\svm\\_base.py:820\u001b[0m, in \u001b[0;36mBaseSVC.predict\u001b[1;34m(self, X)\u001b[0m\n\u001b[0;32m    818\u001b[0m     y \u001b[38;5;241m=\u001b[39m np\u001b[38;5;241m.\u001b[39margmax(\u001b[38;5;28mself\u001b[39m\u001b[38;5;241m.\u001b[39mdecision_function(X), axis\u001b[38;5;241m=\u001b[39m\u001b[38;5;241m1\u001b[39m)\n\u001b[0;32m    819\u001b[0m \u001b[38;5;28;01melse\u001b[39;00m:\n\u001b[1;32m--> 820\u001b[0m     y \u001b[38;5;241m=\u001b[39m \u001b[38;5;28msuper\u001b[39m()\u001b[38;5;241m.\u001b[39mpredict(X)\n\u001b[0;32m    821\u001b[0m \u001b[38;5;28;01mreturn\u001b[39;00m \u001b[38;5;28mself\u001b[39m\u001b[38;5;241m.\u001b[39mclasses_\u001b[38;5;241m.\u001b[39mtake(np\u001b[38;5;241m.\u001b[39masarray(y, dtype\u001b[38;5;241m=\u001b[39mnp\u001b[38;5;241m.\u001b[39mintp))\n",
      "File \u001b[1;32m~\\anaconda3\\Lib\\site-packages\\sklearn\\svm\\_base.py:435\u001b[0m, in \u001b[0;36mBaseLibSVM.predict\u001b[1;34m(self, X)\u001b[0m\n\u001b[0;32m    433\u001b[0m X \u001b[38;5;241m=\u001b[39m \u001b[38;5;28mself\u001b[39m\u001b[38;5;241m.\u001b[39m_validate_for_predict(X)\n\u001b[0;32m    434\u001b[0m predict \u001b[38;5;241m=\u001b[39m \u001b[38;5;28mself\u001b[39m\u001b[38;5;241m.\u001b[39m_sparse_predict \u001b[38;5;28;01mif\u001b[39;00m \u001b[38;5;28mself\u001b[39m\u001b[38;5;241m.\u001b[39m_sparse \u001b[38;5;28;01melse\u001b[39;00m \u001b[38;5;28mself\u001b[39m\u001b[38;5;241m.\u001b[39m_dense_predict\n\u001b[1;32m--> 435\u001b[0m \u001b[38;5;28;01mreturn\u001b[39;00m predict(X)\n",
      "File \u001b[1;32m~\\anaconda3\\Lib\\site-packages\\sklearn\\svm\\_base.py:454\u001b[0m, in \u001b[0;36mBaseLibSVM._dense_predict\u001b[1;34m(self, X)\u001b[0m\n\u001b[0;32m    446\u001b[0m         \u001b[38;5;28;01mraise\u001b[39;00m \u001b[38;5;167;01mValueError\u001b[39;00m(\n\u001b[0;32m    447\u001b[0m             \u001b[38;5;124m\"\u001b[39m\u001b[38;5;124mX.shape[1] = \u001b[39m\u001b[38;5;132;01m%d\u001b[39;00m\u001b[38;5;124m should be equal to \u001b[39m\u001b[38;5;132;01m%d\u001b[39;00m\u001b[38;5;124m, \u001b[39m\u001b[38;5;124m\"\u001b[39m\n\u001b[0;32m    448\u001b[0m             \u001b[38;5;124m\"\u001b[39m\u001b[38;5;124mthe number of samples at training time\u001b[39m\u001b[38;5;124m\"\u001b[39m\n\u001b[0;32m    449\u001b[0m             \u001b[38;5;241m%\u001b[39m (X\u001b[38;5;241m.\u001b[39mshape[\u001b[38;5;241m1\u001b[39m], \u001b[38;5;28mself\u001b[39m\u001b[38;5;241m.\u001b[39mshape_fit_[\u001b[38;5;241m0\u001b[39m])\n\u001b[0;32m    450\u001b[0m         )\n\u001b[0;32m    452\u001b[0m svm_type \u001b[38;5;241m=\u001b[39m LIBSVM_IMPL\u001b[38;5;241m.\u001b[39mindex(\u001b[38;5;28mself\u001b[39m\u001b[38;5;241m.\u001b[39m_impl)\n\u001b[1;32m--> 454\u001b[0m \u001b[38;5;28;01mreturn\u001b[39;00m libsvm\u001b[38;5;241m.\u001b[39mpredict(\n\u001b[0;32m    455\u001b[0m     X,\n\u001b[0;32m    456\u001b[0m     \u001b[38;5;28mself\u001b[39m\u001b[38;5;241m.\u001b[39msupport_,\n\u001b[0;32m    457\u001b[0m     \u001b[38;5;28mself\u001b[39m\u001b[38;5;241m.\u001b[39msupport_vectors_,\n\u001b[0;32m    458\u001b[0m     \u001b[38;5;28mself\u001b[39m\u001b[38;5;241m.\u001b[39m_n_support,\n\u001b[0;32m    459\u001b[0m     \u001b[38;5;28mself\u001b[39m\u001b[38;5;241m.\u001b[39m_dual_coef_,\n\u001b[0;32m    460\u001b[0m     \u001b[38;5;28mself\u001b[39m\u001b[38;5;241m.\u001b[39m_intercept_,\n\u001b[0;32m    461\u001b[0m     \u001b[38;5;28mself\u001b[39m\u001b[38;5;241m.\u001b[39m_probA,\n\u001b[0;32m    462\u001b[0m     \u001b[38;5;28mself\u001b[39m\u001b[38;5;241m.\u001b[39m_probB,\n\u001b[0;32m    463\u001b[0m     svm_type\u001b[38;5;241m=\u001b[39msvm_type,\n\u001b[0;32m    464\u001b[0m     kernel\u001b[38;5;241m=\u001b[39mkernel,\n\u001b[0;32m    465\u001b[0m     degree\u001b[38;5;241m=\u001b[39m\u001b[38;5;28mself\u001b[39m\u001b[38;5;241m.\u001b[39mdegree,\n\u001b[0;32m    466\u001b[0m     coef0\u001b[38;5;241m=\u001b[39m\u001b[38;5;28mself\u001b[39m\u001b[38;5;241m.\u001b[39mcoef0,\n\u001b[0;32m    467\u001b[0m     gamma\u001b[38;5;241m=\u001b[39m\u001b[38;5;28mself\u001b[39m\u001b[38;5;241m.\u001b[39m_gamma,\n\u001b[0;32m    468\u001b[0m     cache_size\u001b[38;5;241m=\u001b[39m\u001b[38;5;28mself\u001b[39m\u001b[38;5;241m.\u001b[39mcache_size,\n\u001b[0;32m    469\u001b[0m )\n",
      "\u001b[1;31mKeyboardInterrupt\u001b[0m: "
     ]
    }
   ],
   "source": [
    "def evaluate_kmers_SVM(X_train, X_test, y_train, y_test, epochs, patience=3):\n",
    "    smote = SMOTE(random_state=42)\n",
    "    X_train, y_train = smote.fit_resample(X_train, y_train)\n",
    "\n",
    "    param_grid = {\n",
    "    'C': [0.1, 1, 10, 100, 1000],\n",
    "    'gamma': [1, 0.1, 0.01, 0.001, 0.0001],\n",
    "    'kernel': ['rbf','poly','linear']\n",
    "    }\n",
    "    model = SVC()\n",
    "    # Initialize GridSearchCV\n",
    "    grid_search = GridSearchCV(estimator=model, param_grid=param_grid, cv=5, n_jobs=-1, verbose=2, scoring='neg_log_loss')\n",
    "\n",
    "    # Fit the model\n",
    "    grid_search.fit(X_train, y_train)\n",
    "\n",
    "    print(f\"Best parameters found: {grid_search.best_params_}\")\n",
    "    best_params = grid_search.best_params_\n",
    "    # Initialize the model with best parameters\n",
    "    model = SVC(**best_params,probability=True)\n",
    "\n",
    "    # Cross-validation setup\n",
    "    skf = StratifiedKFold(n_splits=5, shuffle=True, random_state=42)\n",
    "    train_accuracy = []\n",
    "    val_accuracy = []\n",
    "    train_loss = []\n",
    "    val_loss = []\n",
    "    best_val_acc = 0\n",
    "    patience_counter = 0\n",
    "\n",
    "    for e in range(epochs):\n",
    "        print(f\"Epoch {e+1}/{epochs}\")\n",
    "        fold_train_acc = []\n",
    "        fold_val_acc = []\n",
    "        fold_train_loss = []\n",
    "        fold_val_loss = []\n",
    "\n",
    "        for train_index, val_index in skf.split(X_train, y_train):\n",
    "            X_train_fold, X_val_fold = X_train.iloc[train_index], X_train.iloc[val_index]\n",
    "            y_train_fold, y_val_fold = y_train.iloc[train_index], y_train.iloc[val_index]\n",
    "\n",
    "            model.fit(X_train_fold, y_train_fold)\n",
    "            y_train_pred = model.predict(X_train_fold)\n",
    "            y_val_pred = model.predict(X_val_fold)\n",
    "\n",
    "            train_acc = accuracy_score(y_train_fold, y_train_pred)\n",
    "            val_acc = accuracy_score(y_val_fold, y_val_pred)\n",
    "\n",
    "            fold_train_acc.append(train_acc)\n",
    "            fold_val_acc.append(val_acc)\n",
    "\n",
    "            y_train_pred_proba = model.predict_proba(X_train_fold)\n",
    "            y_val_pred_proba = model.predict_proba(X_val_fold)\n",
    "\n",
    "            train_lo = log_loss(y_train_fold, y_train_pred_proba)\n",
    "            val_lo = log_loss(y_val_fold, y_val_pred_proba)\n",
    "\n",
    "            fold_train_loss.append(train_lo)\n",
    "            fold_val_loss.append(val_lo)\n",
    "\n",
    "        train_accuracy.append(np.mean(fold_train_acc))\n",
    "        val_accuracy.append(np.mean(fold_val_acc))\n",
    "        train_loss.append(np.mean(fold_train_loss))\n",
    "        val_loss.append(np.mean(fold_val_loss))\n",
    "\n",
    "        print(f\"\\tTraining Accuracy: {train_accuracy[-1]:.7f}, Validation Accuracy: {val_accuracy[-1]:.7f}, Training Error: {train_loss[-1]:.7f}, Validation Error: {val_loss[-1]:.7f}\")\n",
    "\n",
    "        # Early Stopping Logic\n",
    "        if val_accuracy[-1] > best_val_acc:\n",
    "            best_val_acc = val_accuracy[-1]\n",
    "            patience_counter = 0\n",
    "        else:\n",
    "            patience_counter += 1\n",
    "\n",
    "        if patience_counter >= patience:\n",
    "            print(f\"\\tEarly stopping at epoch {e+1}\")\n",
    "            break\n",
    "\n",
    "    # Ensure same lengths for plotting\n",
    "    epoch_range = range(1, len(train_accuracy) + 1)\n",
    "\n",
    "    # Plot training and validation accuracy & loss\n",
    "    plt.figure(figsize=(12, 6))\n",
    "    plt.subplot(1, 2, 1)\n",
    "    plt.plot(epoch_range, train_accuracy, label='Training Accuracy')\n",
    "    plt.plot(epoch_range, val_accuracy, label='Validation Accuracy')\n",
    "    plt.xlabel('Epochs')\n",
    "    plt.ylabel('Accuracy')\n",
    "    plt.title(f'Training and Validation Accuracy for k={k}')\n",
    "    plt.legend()\n",
    "\n",
    "    plt.subplot(1, 2, 2)\n",
    "    plt.plot(epoch_range, train_loss, label='Training Error')\n",
    "    plt.plot(epoch_range, val_loss, label='Validation Error')\n",
    "    plt.xlabel('Epochs')\n",
    "    plt.ylabel('Error')\n",
    "    plt.title(f'Training and Validation Error for k={k}')\n",
    "    plt.legend()\n",
    "\n",
    "    plt.show()\n",
    "\n",
    "    y_test_pred = model.predict(X_test)\n",
    "    final_score = accuracy_score(y_test, y_test_pred)\n",
    "    print(\"accuracy : \", final_score)\n",
    "    print(classification_report(y_test, y_test_pred))\n",
    "\n",
    "    # Confusion Matrix\n",
    "    print(\"========================================================================\\n\\tConfusion Matrix:\")\n",
    "\n",
    "    cm = confusion_matrix(y_test, y_test_pred)\n",
    "    plt.figure(figsize=(10, 7))\n",
    "    sns.heatmap(cm, annot=True, fmt='d', cmap='Blues')\n",
    "    plt.xlabel('Predicted')\n",
    "    plt.ylabel('True')\n",
    "    plt.title(f'Confusion Matrix for k={k}')\n",
    "    plt.show()\n",
    "\n",
    "    print(\"========================================================================\\n\\tSave model and vectorizer\")\n",
    "\n",
    "    dump(model, f\"{path}models/classifierSVM_tfidf_k={k}.joblib\")\n",
    "    # dump(model, f\"{path}models/classifierSVM_CV_k={k}.joblib\")\n",
    "\n",
    "\n",
    "# Example usage:\n",
    "X_train_concat = pd.concat([sequences_train_final, sequences_val_final])\n",
    "y_train_concat = pd.concat([y_train, y_val])\n",
    "evaluate_kmers_SVM(X_train_concat, sequences_test_final, y_train_concat, y_test, epochs=30)"
   ]
  },
  {
   "cell_type": "markdown",
   "metadata": {
    "jp-MarkdownHeadingCollapsed": true
   },
   "source": [
    "##### SVM test"
   ]
  },
  {
   "cell_type": "code",
   "execution_count": null,
   "metadata": {
    "id": "5oTa4qz85Tvq",
    "jupyter": {
     "source_hidden": true
    }
   },
   "outputs": [],
   "source": [
    "svmmodel=load(path+\"models/SVM_classifier_poly_k=5.joblib\")\n",
    "tfidfvectorizer=load(path+\"models/vectorizer_k=5.joblib\")"
   ]
  },
  {
   "cell_type": "code",
   "execution_count": null,
   "metadata": {
    "id": "z6WejgE45WJr",
    "jupyter": {
     "source_hidden": true
    }
   },
   "outputs": [],
   "source": [
    "tfidfvectorizer.vocabulary_"
   ]
  },
  {
   "cell_type": "code",
   "execution_count": null,
   "metadata": {
    "id": "z_ySaYou5Ygh",
    "jupyter": {
     "source_hidden": true
    }
   },
   "outputs": [],
   "source": [
    "tfidfvectorizer.get_feature_names_out()[:10]"
   ]
  },
  {
   "cell_type": "code",
   "execution_count": null,
   "metadata": {
    "id": "cULkkR3p5ao5"
   },
   "outputs": [],
   "source": [
    "tfidfvectorizer.idf_[:10]"
   ]
  },
  {
   "cell_type": "code",
   "execution_count": null,
   "metadata": {
    "id": "YfHeP6Af5dgs"
   },
   "outputs": [],
   "source": [
    "seq=['atgagcttcaccgacgaggccgtgagcatcctgaccagcagcagcctgctggccaggagcctgctgggcaggaccagcgccctgaagaggaaggacgtgagccccagcagcatcagcagcgccaggaggaagagggagttcatcccccacgagaagaaggacgacggctactgggacaagaggaagaagaacaacgaggccgccaagaggagcagggagaagaggagggtgaacgacatggtgctggagaacagggtgctgaccctgctggaggagaacgccaggctgagggccgagctgctggccctgaagttcaggttcggcctgatcaaggaccccagcaacgccagcatcctgcccctgaccaccggcagctgcgtgccccagcccagcgcccagcactactacctgcccaggggcgacggcgcccaccacaccggccccatgcccagcaaccagagccccacccagagcgccccccccagcagcaggagcatcagggacaccagcagcatgagcgaggacagcggcttcagcacccccggcggcagcagcgtgggcagccccgtgttcttcgaggacaggctgagcgaccacggcaagctgagcccccacagggccgacgagctgtgctacgagagccaccacagccccagcgacctgctggccgtgggcaaccacaacatgcccagcaccaggctggagagcatggacggcatgaagagcctgccccacaagctgaggttcaagagccccggcggcggcgactgcgagaacctgggcgagaggcagagcgccgccatccccatggccaacgccagggtgcacagctacacccacgagggcgccggctactggaccccccacgacggcgaggacgccaggaaggtgatccagcagcagcacgtgaactacagccacaacgtgaacgccaacgagagccagtaccaggccgagaacagcatgctgaagagccagctgagcagcctgagcgaggaggtggcccagctgaagaagctgttcagcgagcagctgctgaccaagaccaac']"
   ]
  },
  {
   "cell_type": "code",
   "execution_count": null,
   "metadata": {
    "id": "-Ha6Dw0Z5fwa",
    "jupyter": {
     "source_hidden": true
    }
   },
   "outputs": [],
   "source": [
    "seq= [seq for seq in Labled_data['Sequence']]\n",
    "t = substituer_nucl(seq)\n",
    "t  = [Kmers_funct(i, 5) for i in t ]\n",
    "t  = join_kmers(t)\n",
    "resu=tfidfvectorizer.transform(t)\n",
    "svmmodel.predict(resu.toarray())"
   ]
  },
  {
   "cell_type": "code",
   "execution_count": null,
   "metadata": {
    "id": "4DoxawLt5rbS",
    "jupyter": {
     "source_hidden": true
    }
   },
   "outputs": [],
   "source": [
    "label = svmmodel.predict_proba(resu)\n",
    "label"
   ]
  },
  {
   "cell_type": "code",
   "execution_count": null,
   "metadata": {
    "id": "Zyb0dd995vtM",
    "jupyter": {
     "source_hidden": true
    }
   },
   "outputs": [],
   "source": [
    "[[f\"{prob:.3f}%\" for prob in sample] for sample in (label * 100)]"
   ]
  },
  {
   "cell_type": "markdown",
   "metadata": {
    "id": "0LH6Vue6yrxc",
    "jp-MarkdownHeadingCollapsed": true
   },
   "source": [
    "#### Decesion Tree"
   ]
  },
  {
   "cell_type": "code",
   "execution_count": 128,
   "metadata": {
    "collapsed": true,
    "jupyter": {
     "outputs_hidden": true,
     "source_hidden": true
    },
    "scrolled": true
   },
   "outputs": [
    {
     "name": "stdout",
     "output_type": "stream",
     "text": [
      "Epoch 1/30\n",
      "\n",
      "\tTraining Accuracy: 0.9955314, Validation Accuracy: 0.9869565, Training Error: 0.0086841, Validation Error: 0.1898840\n",
      "\n",
      "Epoch 2/30\n",
      "\n",
      "\tTraining Accuracy: 0.9973430, Validation Accuracy: 0.9903382, Training Error: 0.0056307, Validation Error: 0.3344128\n",
      "\n",
      "Epoch 3/30\n",
      "\n",
      "\tTraining Accuracy: 0.9962560, Validation Accuracy: 0.9874396, Training Error: 0.0065655, Validation Error: 0.2689884\n",
      "\n",
      "Epoch 4/30\n",
      "\n",
      "\tTraining Accuracy: 0.9969807, Validation Accuracy: 0.9888889, Training Error: 0.0072742, Validation Error: 0.2708970\n",
      "\n",
      "Epoch 5/30\n",
      "\n",
      "\tTraining Accuracy: 0.9969807, Validation Accuracy: 0.9850242, Training Error: 0.0073418, Validation Error: 0.2466130\n",
      "\n",
      "\tEarly stopping at epoch 5\n"
     ]
    },
    {
     "data": {
      "image/png": "[encoded data removed]",
      "text/plain": [
       "<Figure size 1200x600 with 2 Axes>"
      ]
     },
     "metadata": {},
     "output_type": "display_data"
    },
    {
     "name": "stdout",
     "output_type": "stream",
     "text": [
      "accuracy :  0.9824561403508771\n",
      "\n",
      "              precision    recall  f1-score   support\n",
      "\n",
      "\n",
      "\n",
      "           0       0.96      1.00      0.98       246\n",
      "\n",
      "           1       1.00      0.97      0.98       267\n",
      "\n",
      "\n",
      "\n",
      "    accuracy                           0.98       513\n",
      "\n",
      "   macro avg       0.98      0.98      0.98       513\n",
      "\n",
      "weighted avg       0.98      0.98      0.98       513\n",
      "\n",
      "\n",
      "\n",
      "========================================================================\n",
      "\n",
      "\tConfusion Matrix:\n"
     ]
    },
    {
     "data": {
      "image/png": "[encoded data removed]",
      "text/plain": [
       "<Figure size 1000x700 with 2 Axes>"
      ]
     },
     "metadata": {},
     "output_type": "display_data"
    },
    {
     "name": "stdout",
     "output_type": "stream",
     "text": [
      "========================================================================\n",
      "\n",
      "\tSave model and vectorizer\n"
     ]
    }
   ],
   "source": [
    "def evaluate_kmers_DT(X_train, X_test, y_train, y_test, epochs, patience=3):\n",
    "    smote = SMOTE(random_state=42)\n",
    "    X_train, y_train = smote.fit_resample(X_train, y_train)\n",
    "\n",
    "    param_grid = {\n",
    "        'criterion': ['gini', 'entropy'],            # Measure used to split the data\n",
    "        'splitter': ['best', 'random'],              # Strategy used to choose the split at each node\n",
    "        'max_depth': [None, 10, 20, 30, 40, 50],     # Maximum depth of the tree\n",
    "        'min_samples_split': [2, 5, 10],             # Minimum number of samples required to split an internal node\n",
    "        'min_samples_leaf': [1, 2, 5, 10],           # Minimum number of samples required to be at a leaf node\n",
    "        'max_features': [None, 'sqrt', 'log2'],      # Number of features to consider when looking for the best split\n",
    "        'class_weight': [None, 'balanced']           # Weights associated with classes\n",
    "    }\n",
    "    model = DecisionTreeClassifier(random_state=42)    # Initialize GridSearchCV\n",
    "    grid_search = GridSearchCV(estimator=model, param_grid=param_grid, cv=5, n_jobs=-1, verbose=2, scoring='neg_log_loss')\n",
    "\n",
    "    # Fit the model\n",
    "    grid_search.fit(X_train, y_train)\n",
    "\n",
    "    print(f\"Best parameters found: {grid_search.best_params_}\")\n",
    "    best_params = grid_search.best_params_\n",
    "\n",
    "    # Initialize the model with best parameters\n",
    "    model = DecisionTreeClassifier(**best_params)\n",
    "\n",
    "    # Cross-validation setup\n",
    "    skf = StratifiedKFold(n_splits=5, shuffle=True, random_state=42)\n",
    "    train_accuracy = []\n",
    "    val_accuracy = []\n",
    "    train_loss = []\n",
    "    val_loss = []\n",
    "    best_val_acc = 0\n",
    "    patience_counter = 0\n",
    "\n",
    "    for e in range(epochs):\n",
    "        print(f\"Epoch {e+1}/{epochs}\")\n",
    "        fold_train_acc = []\n",
    "        fold_val_acc = []\n",
    "        fold_train_loss = []\n",
    "        fold_val_loss = []\n",
    "\n",
    "        for train_index, val_index in skf.split(X_train, y_train):\n",
    "            X_train_fold, X_val_fold = X_train.iloc[train_index], X_train.iloc[val_index]\n",
    "            y_train_fold, y_val_fold = y_train.iloc[train_index], y_train.iloc[val_index]\n",
    "\n",
    "            model.fit(X_train_fold, y_train_fold)\n",
    "            y_train_pred = model.predict(X_train_fold)\n",
    "            y_val_pred = model.predict(X_val_fold)\n",
    "\n",
    "            train_acc = accuracy_score(y_train_fold, y_train_pred)\n",
    "            val_acc = accuracy_score(y_val_fold, y_val_pred)\n",
    "\n",
    "            fold_train_acc.append(train_acc)\n",
    "            fold_val_acc.append(val_acc)\n",
    "\n",
    "            y_train_pred_proba = model.predict_proba(X_train_fold)\n",
    "            y_val_pred_proba = model.predict_proba(X_val_fold)\n",
    "\n",
    "            train_lo = log_loss(y_train_fold, y_train_pred_proba)\n",
    "            val_lo = log_loss(y_val_fold, y_val_pred_proba)\n",
    "\n",
    "            fold_train_loss.append(train_lo)\n",
    "            fold_val_loss.append(val_lo)\n",
    "\n",
    "        train_accuracy.append(np.mean(fold_train_acc))\n",
    "        val_accuracy.append(np.mean(fold_val_acc))\n",
    "        train_loss.append(np.mean(fold_train_loss))\n",
    "        val_loss.append(np.mean(fold_val_loss))\n",
    "\n",
    "        print(f\"\\tTraining Accuracy: {train_accuracy[-1]:.7f}, Validation Accuracy: {val_accuracy[-1]:.7f}, Training Error: {train_loss[-1]:.7f}, Validation Error: {val_loss[-1]:.7f}\")\n",
    "\n",
    "        # Early Stopping Logic\n",
    "        if val_accuracy[-1] > best_val_acc:\n",
    "            best_val_acc = val_accuracy[-1]\n",
    "            patience_counter = 0\n",
    "        else:\n",
    "            patience_counter += 1\n",
    "\n",
    "        if patience_counter >= patience:\n",
    "            print(f\"\\tEarly stopping at epoch {e+1}\")\n",
    "            break\n",
    "\n",
    "    # Ensure same lengths for plotting\n",
    "    epoch_range = range(1, len(train_accuracy) + 1)\n",
    "\n",
    "    # Plot training and validation accuracy & loss\n",
    "    plt.figure(figsize=(12, 6))\n",
    "    plt.subplot(1, 2, 1)\n",
    "    plt.plot(epoch_range, train_accuracy, label='Training Accuracy')\n",
    "    plt.plot(epoch_range, val_accuracy, label='Validation Accuracy')\n",
    "    plt.xlabel('Epochs')\n",
    "    plt.ylabel('Accuracy')\n",
    "    plt.title(f'Training and Validation Accuracy for k={k}')\n",
    "    plt.legend()\n",
    "\n",
    "    plt.subplot(1, 2, 2)\n",
    "    plt.plot(epoch_range, train_loss, label='Training Error')\n",
    "    plt.plot(epoch_range, val_loss, label='Validation Error')\n",
    "    plt.xlabel('Epochs')\n",
    "    plt.ylabel('Error')\n",
    "    plt.title(f'Training and Validation Error for k={k}')\n",
    "    plt.legend()\n",
    "\n",
    "    plt.show()\n",
    "\n",
    "    y_test_pred = model.predict(X_test)\n",
    "    final_score = accuracy_score(y_test, y_test_pred)\n",
    "    print(\"accuracy : \", final_score)\n",
    "    print(classification_report(y_test, y_test_pred))\n",
    "\n",
    "    # Confusion Matrix\n",
    "    print(\"========================================================================\\n\\tConfusion Matrix:\")\n",
    "\n",
    "    cm = confusion_matrix(y_test, y_test_pred)\n",
    "    plt.figure(figsize=(10, 7))\n",
    "    sns.heatmap(cm, annot=True, fmt='d', cmap='Blues')\n",
    "    plt.xlabel('Predicted')\n",
    "    plt.ylabel('True')\n",
    "    plt.title(f'Confusion Matrix for k={k}')\n",
    "    plt.show()\n",
    "\n",
    "    print(\"========================================================================\\n\\tSave model and vectorizer\")\n",
    "\n",
    "    dump(model, f\"{path}models/classifierDT_tfidf_k={k}.joblib\")\n",
    "    # dump(model, f\"{path}models/classifierSVM_CV_k={k}.joblib\")\n",
    "\n",
    "\n",
    "# Example usage:\n",
    "X_train_concat = pd.concat([sequences_train_final, sequences_val_final])\n",
    "y_train_concat = pd.concat([y_train, y_val])\n",
    "evaluate_kmers_DT(X_train_concat, sequences_test_final, y_train_concat, y_test, epochs=30)"
   ]
  },
  {
   "cell_type": "markdown",
   "metadata": {
    "id": "0LH6Vue6yrxc"
   },
   "source": [
    "#### LazzyClassifier"
   ]
  },
  {
   "cell_type": "code",
   "execution_count": 123,
   "metadata": {
    "collapsed": true,
    "jupyter": {
     "outputs_hidden": true,
     "source_hidden": true
    }
   },
   "outputs": [
    {
     "name": "stdout",
     "output_type": "stream",
     "text": [
      "===============================================================\n",
      "\n",
      "Evaluating model performance\n",
      "\n",
      "========================================================================\n",
      "\n",
      "=> Fit the models and get predictions\n"
     ]
    },
    {
     "name": "stderr",
     "output_type": "stream",
     "text": [
      " 97%|█████████▋| 28/29 [04:21<00:08,  8.41s/it]"
     ]
    },
    {
     "name": "stdout",
     "output_type": "stream",
     "text": [
      "[LightGBM] [Info] Number of positive: 1014, number of negative: 1035\n",
      "\n",
      "[LightGBM] [Info] Auto-choosing col-wise multi-threading, the overhead of testing was 0.532295 seconds.\n",
      "\n",
      "You can set `force_col_wise=true` to remove the overhead.\n",
      "\n",
      "[LightGBM] [Info] Total Bins 742372\n",
      "\n",
      "[LightGBM] [Info] Number of data points in the train set: 2049, number of used features: 4089\n",
      "\n",
      "[LightGBM] [Info] [binary:BoostFromScore]: pavg=0.494876 -> initscore=-0.020499\n",
      "\n",
      "[LightGBM] [Info] Start training from score -0.020499\n",
      "\n",
      "[LightGBM] [Warning] No further splits with positive gain, best gain: -inf\n",
      "\n",
      "[LightGBM] [Warning] No further splits with positive gain, best gain: -inf\n",
      "\n",
      "[LightGBM] [Warning] No further splits with positive gain, best gain: -inf\n"
     ]
    },
    {
     "name": "stderr",
     "output_type": "stream",
     "text": [
      "100%|██████████| 29/29 [04:45<00:00,  9.86s/it]"
     ]
    },
    {
     "name": "stdout",
     "output_type": "stream",
     "text": [
      "========================================================================\n",
      "\n",
      "=> Print the model performance\n",
      "\n",
      "                               Accuracy  Balanced Accuracy  ROC AUC  F1 Score  \\\n",
      "\n",
      "Model                                                                           \n",
      "\n",
      "ExtraTreesClassifier               1.00               1.00     1.00      1.00   \n",
      "\n",
      "PassiveAggressiveClassifier        1.00               1.00     1.00      1.00   \n",
      "\n",
      "LinearSVC                          1.00               1.00     1.00      1.00   \n",
      "\n",
      "CalibratedClassifierCV             1.00               1.00     1.00      1.00   \n",
      "\n",
      "SGDClassifier                      1.00               1.00     1.00      1.00   \n",
      "\n",
      "Perceptron                         1.00               1.00     1.00      1.00   \n",
      "\n",
      "LogisticRegression                 1.00               1.00     1.00      1.00   \n",
      "\n",
      "BaggingClassifier                  1.00               1.00     1.00      1.00   \n",
      "\n",
      "XGBClassifier                      1.00               1.00     1.00      1.00   \n",
      "\n",
      "RandomForestClassifier             1.00               1.00     1.00      1.00   \n",
      "\n",
      "AdaBoostClassifier                 1.00               1.00     1.00      1.00   \n",
      "\n",
      "KNeighborsClassifier               1.00               1.00     1.00      1.00   \n",
      "\n",
      "GaussianNB                         1.00               1.00     1.00      1.00   \n",
      "\n",
      "SVC                                0.99               0.99     0.99      0.99   \n",
      "\n",
      "DecisionTreeClassifier             0.99               0.99     0.99      0.99   \n",
      "\n",
      "NuSVC                              0.99               0.99     0.99      0.99   \n",
      "\n",
      "LGBMClassifier                     0.99               0.99     0.99      0.99   \n",
      "\n",
      "NearestCentroid                    0.99               0.99     0.99      0.99   \n",
      "\n",
      "ExtraTreeClassifier                0.98               0.99     0.99      0.98   \n",
      "\n",
      "BernoulliNB                        0.96               0.96     0.96      0.96   \n",
      "\n",
      "RidgeClassifierCV                  0.96               0.96     0.96      0.96   \n",
      "\n",
      "LinearDiscriminantAnalysis         0.94               0.94     0.94      0.94   \n",
      "\n",
      "RidgeClassifier                    0.94               0.94     0.94      0.94   \n",
      "\n",
      "QuadraticDiscriminantAnalysis      0.49               0.51     0.51      0.34   \n",
      "\n",
      "LabelSpreading                     0.49               0.51     0.51      0.33   \n",
      "\n",
      "LabelPropagation                   0.49               0.51     0.51      0.33   \n",
      "\n",
      "DummyClassifier                    0.48               0.50     0.50      0.31   \n",
      "\n",
      "\n",
      "\n",
      "                               Time Taken  \n",
      "\n",
      "Model                                      \n",
      "\n",
      "ExtraTreesClassifier                 4.72  \n",
      "\n",
      "PassiveAggressiveClassifier          2.34  \n",
      "\n",
      "LinearSVC                            2.15  \n",
      "\n",
      "CalibratedClassifierCV               7.03  \n",
      "\n",
      "SGDClassifier                        1.48  \n",
      "\n",
      "Perceptron                           2.18  \n",
      "\n",
      "LogisticRegression                   2.63  \n",
      "\n",
      "BaggingClassifier                   12.86  \n",
      "\n",
      "XGBClassifier                       21.89  \n",
      "\n",
      "RandomForestClassifier               4.88  \n",
      "\n",
      "AdaBoostClassifier                  65.72  \n",
      "\n",
      "KNeighborsClassifier                 1.93  \n",
      "\n",
      "GaussianNB                           1.64  \n",
      "\n",
      "SVC                                  6.91  \n",
      "\n",
      "DecisionTreeClassifier               2.52  \n",
      "\n",
      "NuSVC                               33.33  \n",
      "\n",
      "LGBMClassifier                      24.99  \n",
      "\n",
      "NearestCentroid                      1.59  \n",
      "\n",
      "ExtraTreeClassifier                  1.53  \n",
      "\n",
      "BernoulliNB                          1.86  \n",
      "\n",
      "RidgeClassifierCV                    5.65  \n",
      "\n",
      "LinearDiscriminantAnalysis          35.85  \n",
      "\n",
      "RidgeClassifier                      3.41  \n",
      "\n",
      "QuadraticDiscriminantAnalysis       26.97  \n",
      "\n",
      "LabelSpreading                       3.04  \n",
      "\n",
      "LabelPropagation                     2.65  \n",
      "\n",
      "DummyClassifier                      1.39  \n",
      "\n",
      "                               Accuracy  Balanced Accuracy  ROC AUC  F1 Score  \\\n",
      "\n",
      "Model                                                                           \n",
      "\n",
      "ExtraTreesClassifier               1.00               1.00     1.00      1.00   \n",
      "\n",
      "PassiveAggressiveClassifier        1.00               1.00     1.00      1.00   \n",
      "\n",
      "LinearSVC                          1.00               1.00     1.00      1.00   \n",
      "\n",
      "CalibratedClassifierCV             1.00               1.00     1.00      1.00   \n",
      "\n",
      "SGDClassifier                      1.00               1.00     1.00      1.00   \n",
      "\n",
      "Perceptron                         1.00               1.00     1.00      1.00   \n",
      "\n",
      "LogisticRegression                 1.00               1.00     1.00      1.00   \n",
      "\n",
      "BaggingClassifier                  1.00               1.00     1.00      1.00   \n",
      "\n",
      "XGBClassifier                      1.00               1.00     1.00      1.00   \n",
      "\n",
      "RandomForestClassifier             1.00               1.00     1.00      1.00   \n",
      "\n",
      "AdaBoostClassifier                 1.00               1.00     1.00      1.00   \n",
      "\n",
      "KNeighborsClassifier               1.00               1.00     1.00      1.00   \n",
      "\n",
      "GaussianNB                         1.00               1.00     1.00      1.00   \n",
      "\n",
      "SVC                                0.99               0.99     0.99      0.99   \n",
      "\n",
      "DecisionTreeClassifier             0.99               0.99     0.99      0.99   \n",
      "\n",
      "NuSVC                              0.99               0.99     0.99      0.99   \n",
      "\n",
      "LGBMClassifier                     0.99               0.99     0.99      0.99   \n",
      "\n",
      "NearestCentroid                    0.99               0.99     0.99      0.99   \n",
      "\n",
      "ExtraTreeClassifier                0.98               0.99     0.99      0.98   \n",
      "\n",
      "BernoulliNB                        0.96               0.96     0.96      0.96   \n",
      "\n",
      "RidgeClassifierCV                  0.96               0.96     0.96      0.96   \n",
      "\n",
      "LinearDiscriminantAnalysis         0.94               0.94     0.94      0.94   \n",
      "\n",
      "RidgeClassifier                    0.94               0.94     0.94      0.94   \n",
      "\n",
      "QuadraticDiscriminantAnalysis      0.49               0.51     0.51      0.34   \n",
      "\n",
      "LabelSpreading                     0.49               0.51     0.51      0.33   \n",
      "\n",
      "LabelPropagation                   0.49               0.51     0.51      0.33   \n",
      "\n",
      "DummyClassifier                    0.48               0.50     0.50      0.31   \n",
      "\n",
      "\n",
      "\n",
      "                               Time Taken  \n",
      "\n",
      "Model                                      \n",
      "\n",
      "ExtraTreesClassifier                 4.72  \n",
      "\n",
      "PassiveAggressiveClassifier          2.34  \n",
      "\n",
      "LinearSVC                            2.15  \n",
      "\n",
      "CalibratedClassifierCV               7.03  \n",
      "\n",
      "SGDClassifier                        1.48  \n",
      "\n",
      "Perceptron                           2.18  \n",
      "\n",
      "LogisticRegression                   2.63  \n",
      "\n",
      "BaggingClassifier                   12.86  \n",
      "\n",
      "XGBClassifier                       21.89  \n",
      "\n",
      "RandomForestClassifier               4.88  \n",
      "\n",
      "AdaBoostClassifier                  65.72  \n",
      "\n",
      "KNeighborsClassifier                 1.93  \n",
      "\n",
      "GaussianNB                           1.64  \n",
      "\n",
      "SVC                                  6.91  \n",
      "\n",
      "DecisionTreeClassifier               2.52  \n",
      "\n",
      "NuSVC                               33.33  \n",
      "\n",
      "LGBMClassifier                      24.99  \n",
      "\n",
      "NearestCentroid                      1.59  \n",
      "\n",
      "ExtraTreeClassifier                  1.53  \n",
      "\n",
      "BernoulliNB                          1.86  \n",
      "\n",
      "RidgeClassifierCV                    5.65  \n",
      "\n",
      "LinearDiscriminantAnalysis          35.85  \n",
      "\n",
      "RidgeClassifier                      3.41  \n",
      "\n",
      "QuadraticDiscriminantAnalysis       26.97  \n",
      "\n",
      "LabelSpreading                       3.04  \n",
      "\n",
      "LabelPropagation                     2.65  \n",
      "\n",
      "DummyClassifier                      1.39  \n"
     ]
    },
    {
     "name": "stderr",
     "output_type": "stream",
     "text": [
      "\n"
     ]
    }
   ],
   "source": [
    "import pandas as pd\n",
    "from lazypredict.Supervised import LazyClassifier\n",
    "\n",
    "# Define the function to evaluate k-mers\n",
    "def evaluate_kmers_LC(X_train, X_test, y_train, y_test):\n",
    "    print(\"===============================================================\\nEvaluating model performance\")\n",
    "    \n",
    "    # Fit the models and get predictions\n",
    "    print(\"========================================================================\\n=> Fit the models and get predictions\")\n",
    "    classifier = LazyClassifier(verbose=0, ignore_warnings=True, custom_metric=None)\n",
    "    models, predictions = classifier.fit(X_train, X_test, y_train, y_test)\n",
    "\n",
    "    # Print the model performance\n",
    "    print(\"========================================================================\\n=> Print the model performance\")\n",
    "    print(models)\n",
    "    print(predictions)\n",
    "\n",
    "# Assume sequences_train_final, sequences_val_final, y_train, y_val, sequences_test_final, and y_test are already defined\n",
    "\n",
    "# Concatenate training and validation data\n",
    "X_train_concat = pd.concat([sequences_train_final, sequences_val_final])\n",
    "y_train_concat = pd.concat([y_train, y_val])\n",
    "X_train_concat1 = X_train_concat.values\n",
    "y_train_concat1 = y_train_concat.values\n",
    "sequences_test_final1 = sequences_test_final.values\n",
    "y_test1 = y_test.values\n",
    "\n",
    "# Evaluate the models\n",
    "evaluate_kmers_LC(X_train_concat1, sequences_test_final1, y_train_concat1, y_test1)\n"
   ]
  },
  {
   "cell_type": "markdown",
   "metadata": {
    "id": "0LH6Vue6yrxc"
   },
   "source": [
    "### Deep learning"
   ]
  },
  {
   "cell_type": "markdown",
   "metadata": {
    "id": "0LH6Vue6yrxc"
   },
   "source": [
    "#### LSTM"
   ]
  },
  {
   "cell_type": "markdown",
   "metadata": {},
   "source": [
    "##### with Embedding layer "
   ]
  },
  {
   "cell_type": "code",
   "execution_count": 66,
   "metadata": {
    "_kg_hide-output": false,
    "collapsed": true,
    "execution": {
     "iopub.execute_input": "2024-08-02T18:35:27.877670Z",
     "iopub.status.busy": "2024-08-02T18:35:27.877032Z",
     "iopub.status.idle": "2024-08-02T19:33:32.515358Z",
     "shell.execute_reply": "2024-08-02T19:33:32.514301Z",
     "shell.execute_reply.started": "2024-08-02T18:35:27.877615Z"
    },
    "jupyter": {
     "outputs_hidden": true,
     "source_hidden": true
    }
   },
   "outputs": [
    {
     "name": "stdout",
     "output_type": "stream",
     "text": [
      "Epoch 1/30\n",
      "26/26 - 338s - 13s/step - accuracy: 0.8096 - loss: 0.4048 - val_accuracy: 0.9927 - val_loss: 0.0450\n",
      "Epoch 2/30\n",
      "26/26 - 378s - 15s/step - accuracy: 0.9841 - loss: 0.0663 - val_accuracy: 0.9951 - val_loss: 0.0321\n",
      "Epoch 3/30\n",
      "26/26 - 384s - 15s/step - accuracy: 0.9927 - loss: 0.0392 - val_accuracy: 0.9951 - val_loss: 0.0228\n",
      "Epoch 4/30\n",
      "26/26 - 382s - 15s/step - accuracy: 0.9555 - loss: 0.1753 - val_accuracy: 0.8976 - val_loss: 0.2522\n",
      "Epoch 5/30\n",
      "26/26 - 378s - 15s/step - accuracy: 0.9671 - loss: 0.1190 - val_accuracy: 0.9951 - val_loss: 0.0332\n",
      "Epoch 6/30\n",
      "26/26 - 382s - 15s/step - accuracy: 0.9939 - loss: 0.0276 - val_accuracy: 0.9976 - val_loss: 0.0179\n",
      "Epoch 7/30\n",
      "26/26 - 384s - 15s/step - accuracy: 0.9945 - loss: 0.0240 - val_accuracy: 0.9951 - val_loss: 0.0311\n",
      "Epoch 8/30\n",
      "26/26 - 383s - 15s/step - accuracy: 0.9963 - loss: 0.0203 - val_accuracy: 0.9951 - val_loss: 0.0304\n",
      "Epoch 9/30\n",
      "26/26 - 382s - 15s/step - accuracy: 0.9969 - loss: 0.0175 - val_accuracy: 0.9951 - val_loss: 0.0293\n"
     ]
    },
    {
     "data": {
      "image/png": "[encoded data removed]",
      "text/plain": [
       "<Figure size 1200x600 with 2 Axes>"
      ]
     },
     "metadata": {},
     "output_type": "display_data"
    },
    {
     "name": "stdout",
     "output_type": "stream",
     "text": [
      "\u001b[1m17/17\u001b[0m \u001b[32m━━━━━━━━━━━━━━━━━━━━\u001b[0m\u001b[37m\u001b[0m \u001b[1m21s\u001b[0m 1s/step\n",
      "Predictions shape: (513, 1), Expected: (513,)\n",
      "Test accuracy:  0.9961013645224172\n",
      "              precision    recall  f1-score   support\n",
      "\n",
      "           0       0.99      1.00      1.00       252\n",
      "           1       1.00      0.99      1.00       261\n",
      "\n",
      "    accuracy                           1.00       513\n",
      "   macro avg       1.00      1.00      1.00       513\n",
      "weighted avg       1.00      1.00      1.00       513\n",
      "\n",
      "[[252   0]\n",
      " [  2 259]]\n"
     ]
    },
    {
     "data": {
      "image/png": "[encoded data removed]",
      "text/plain": [
       "<Figure size 1000x700 with 2 Axes>"
      ]
     },
     "metadata": {},
     "output_type": "display_data"
    }
   ],
   "source": [
    "\n",
    "def evaluate_kmers_LSTM(X_train, X_test,X_val, y_train, y_test,y_val, epochs, patience=3, max_features=500, max_len=6094):\n",
    "    # Tokenize the sequences\n",
    "    tokenizer = Tokenizer(char_level=True, num_words=max_features)\n",
    "    tokenizer.fit_on_texts(X_train)\n",
    "\n",
    "    X_train_seq = tokenizer.texts_to_sequences(X_train)\n",
    "    X_train_pad = pad_sequences(X_train_seq, maxlen=max_len)\n",
    "\n",
    "    X_test_seq = tokenizer.texts_to_sequences(X_test)\n",
    "    X_test_pad = pad_sequences(X_test_seq, maxlen=max_len)\n",
    "    \n",
    "    X_val = tokenizer.texts_to_sequences(X_val)\n",
    "    X_val = pad_sequences(X_val, maxlen=max_len)\n",
    "    \n",
    "    # save tokenizer\n",
    "    with open(f\"/kaggle/working/tokenizer.pkl\", \"wb\") as file:\n",
    "        pickle.dump(tokenizer, file)\n",
    "    \n",
    "    # Build LSTM model\n",
    "    model = Sequential()\n",
    "    model.add(Embedding(input_dim=max_features, output_dim=128))\n",
    "    model.add(LSTM(100, input_shape=(max_len, 128), dropout=0.2, recurrent_dropout=0.2))\n",
    "    model.add(Dense(1, activation='sigmoid'))\n",
    "\n",
    "    model.compile(loss='binary_crossentropy', optimizer='adam', metrics=['accuracy'])\n",
    "\n",
    "    # Early stopping\n",
    "    early_stopping = EarlyStopping(monitor='val_loss', patience=patience, restore_best_weights=True)\n",
    "\n",
    "    # Train the model\n",
    "    history = model.fit(X_train_pad, y_train, epochs=epochs, batch_size=64, validation_data=(X_val,y_val), callbacks=[early_stopping], verbose=2)\n",
    "\n",
    "    # Plot training & validation accuracy and loss\n",
    "    plt.figure(figsize=(12, 6))\n",
    "    plt.subplot(1, 2, 1)\n",
    "    plt.plot(history.history['accuracy'], label='Training Accuracy')\n",
    "    plt.plot(history.history['val_accuracy'], label='Validation Accuracy')\n",
    "    plt.xlabel('Epochs')\n",
    "    plt.ylabel('Accuracy')\n",
    "    plt.title('Training and Validation Accuracy')\n",
    "    plt.legend()\n",
    "\n",
    "    plt.subplot(1, 2, 2)\n",
    "    plt.plot(history.history['loss'], label='Training Loss')\n",
    "    plt.plot(history.history['val_loss'], label='Validation Loss')\n",
    "    plt.xlabel('Epochs')\n",
    "    plt.ylabel('Loss')\n",
    "    plt.title('Training and Validation Loss')\n",
    "    plt.legend()\n",
    "\n",
    "    plt.show()\n",
    "\n",
    "    y_test_pred = model.predict(X_test_pad)\n",
    "\n",
    "    # Check the shape of the predictions\n",
    "    print(f\"Predictions shape: {y_test_pred.shape}, Expected: {y_test.shape}\")\n",
    "    \n",
    "    # Apply thresholding for binary classification\n",
    "    y_test_pred = (y_test_pred > 0.5).astype(int)\n",
    "    \n",
    "    # Flatten the predictions if necessary\n",
    "    if len(y_test_pred.shape) > 1:\n",
    "        y_test_pred = y_test_pred.flatten()\n",
    "    \n",
    "    # Now calculate accuracy\n",
    "    final_score = accuracy_score(y_test, y_test_pred)\n",
    "    print(\"Test accuracy: \", final_score)\n",
    "    print(classification_report(y_test, y_test_pred))\n",
    "\n",
    "    # Confusion Matrix\n",
    "    cm = confusion_matrix(y_test, y_test_pred)\n",
    "    print(cm)\n",
    "    plt.figure(figsize=(10, 7))\n",
    "    sns.heatmap(cm, annot=True, fmt='d', cmap='Blues')\n",
    "    plt.xlabel('Predicted')\n",
    "    plt.ylabel('True')\n",
    "    plt.title('Confusion Matrix')\n",
    "\n",
    "    plt.show()\n",
    "\n",
    "    # Save the model\n",
    "    model.save(f\"/kaggle/working/lstm_model_tokenizer.h5\")\n",
    "evaluate_kmers_LSTM(X_train['Sequence'], X_test['Sequence'],X_val['Sequence'], y_train, y_test, y_val,epochs=30)"
   ]
  },
  {
   "cell_type": "markdown",
   "metadata": {},
   "source": [
    "##### without Embedding layer : with CV and TFiDF"
   ]
  },
  {
   "cell_type": "code",
   "execution_count": null,
   "metadata": {
    "execution": {
     "iopub.execute_input": "2024-08-03T13:51:40.970423Z",
     "iopub.status.busy": "2024-08-03T13:51:40.969237Z"
    }
   },
   "outputs": [
    {
     "name": "stdout",
     "output_type": "stream",
     "text": [
      "=========================k=7\n",
      "========================================================================\n",
      "model.summary\n"
     ]
    },
    {
     "data": {
      "text/html": [
       "<pre style=\"white-space:pre;overflow-x:auto;line-height:normal;font-family:Menlo,'DejaVu Sans Mono',consolas,'Courier New',monospace\"><span style=\"font-weight: bold\">Model: \"sequential_8\"</span>\n",
       "</pre>\n"
      ],
      "text/plain": [
       "\u001b[1mModel: \"sequential_8\"\u001b[0m\n"
      ]
     },
     "metadata": {},
     "output_type": "display_data"
    },
    {
     "data": {
      "text/html": [
       "<pre style=\"white-space:pre;overflow-x:auto;line-height:normal;font-family:Menlo,'DejaVu Sans Mono',consolas,'Courier New',monospace\">┏━━━━━━━━━━━━━━━━━━━━━━━━━━━━━━━━━┳━━━━━━━━━━━━━━━━━━━━━━━━┳━━━━━━━━━━━━━━━┓\n",
       "┃<span style=\"font-weight: bold\"> Layer (type)                    </span>┃<span style=\"font-weight: bold\"> Output Shape           </span>┃<span style=\"font-weight: bold\">       Param # </span>┃\n",
       "┡━━━━━━━━━━━━━━━━━━━━━━━━━━━━━━━━━╇━━━━━━━━━━━━━━━━━━━━━━━━╇━━━━━━━━━━━━━━━┩\n",
       "│ lstm_16 (<span style=\"color: #0087ff; text-decoration-color: #0087ff\">LSTM</span>)                  │ (<span style=\"color: #00d7ff; text-decoration-color: #00d7ff\">None</span>, <span style=\"color: #00af00; text-decoration-color: #00af00\">30364</span>, <span style=\"color: #00af00; text-decoration-color: #00af00\">100</span>)     │        <span style=\"color: #00af00; text-decoration-color: #00af00\">40,800</span> │\n",
       "├─────────────────────────────────┼────────────────────────┼───────────────┤\n",
       "│ dropout_24 (<span style=\"color: #0087ff; text-decoration-color: #0087ff\">Dropout</span>)            │ (<span style=\"color: #00d7ff; text-decoration-color: #00d7ff\">None</span>, <span style=\"color: #00af00; text-decoration-color: #00af00\">30364</span>, <span style=\"color: #00af00; text-decoration-color: #00af00\">100</span>)     │             <span style=\"color: #00af00; text-decoration-color: #00af00\">0</span> │\n",
       "├─────────────────────────────────┼────────────────────────┼───────────────┤\n",
       "│ lstm_17 (<span style=\"color: #0087ff; text-decoration-color: #0087ff\">LSTM</span>)                  │ (<span style=\"color: #00d7ff; text-decoration-color: #00d7ff\">None</span>, <span style=\"color: #00af00; text-decoration-color: #00af00\">50</span>)             │        <span style=\"color: #00af00; text-decoration-color: #00af00\">30,200</span> │\n",
       "├─────────────────────────────────┼────────────────────────┼───────────────┤\n",
       "│ dropout_25 (<span style=\"color: #0087ff; text-decoration-color: #0087ff\">Dropout</span>)            │ (<span style=\"color: #00d7ff; text-decoration-color: #00d7ff\">None</span>, <span style=\"color: #00af00; text-decoration-color: #00af00\">50</span>)             │             <span style=\"color: #00af00; text-decoration-color: #00af00\">0</span> │\n",
       "├─────────────────────────────────┼────────────────────────┼───────────────┤\n",
       "│ dense_16 (<span style=\"color: #0087ff; text-decoration-color: #0087ff\">Dense</span>)                │ (<span style=\"color: #00d7ff; text-decoration-color: #00d7ff\">None</span>, <span style=\"color: #00af00; text-decoration-color: #00af00\">50</span>)             │         <span style=\"color: #00af00; text-decoration-color: #00af00\">2,550</span> │\n",
       "├─────────────────────────────────┼────────────────────────┼───────────────┤\n",
       "│ dropout_26 (<span style=\"color: #0087ff; text-decoration-color: #0087ff\">Dropout</span>)            │ (<span style=\"color: #00d7ff; text-decoration-color: #00d7ff\">None</span>, <span style=\"color: #00af00; text-decoration-color: #00af00\">50</span>)             │             <span style=\"color: #00af00; text-decoration-color: #00af00\">0</span> │\n",
       "├─────────────────────────────────┼────────────────────────┼───────────────┤\n",
       "│ dense_17 (<span style=\"color: #0087ff; text-decoration-color: #0087ff\">Dense</span>)                │ (<span style=\"color: #00d7ff; text-decoration-color: #00d7ff\">None</span>, <span style=\"color: #00af00; text-decoration-color: #00af00\">1</span>)              │            <span style=\"color: #00af00; text-decoration-color: #00af00\">51</span> │\n",
       "└─────────────────────────────────┴────────────────────────┴───────────────┘\n",
       "</pre>\n"
      ],
      "text/plain": [
       "┏━━━━━━━━━━━━━━━━━━━━━━━━━━━━━━━━━┳━━━━━━━━━━━━━━━━━━━━━━━━┳━━━━━━━━━━━━━━━┓\n",
       "┃\u001b[1m \u001b[0m\u001b[1mLayer (type)                   \u001b[0m\u001b[1m \u001b[0m┃\u001b[1m \u001b[0m\u001b[1mOutput Shape          \u001b[0m\u001b[1m \u001b[0m┃\u001b[1m \u001b[0m\u001b[1m      Param #\u001b[0m\u001b[1m \u001b[0m┃\n",
       "┡━━━━━━━━━━━━━━━━━━━━━━━━━━━━━━━━━╇━━━━━━━━━━━━━━━━━━━━━━━━╇━━━━━━━━━━━━━━━┩\n",
       "│ lstm_16 (\u001b[38;5;33mLSTM\u001b[0m)                  │ (\u001b[38;5;45mNone\u001b[0m, \u001b[38;5;34m30364\u001b[0m, \u001b[38;5;34m100\u001b[0m)     │        \u001b[38;5;34m40,800\u001b[0m │\n",
       "├─────────────────────────────────┼────────────────────────┼───────────────┤\n",
       "│ dropout_24 (\u001b[38;5;33mDropout\u001b[0m)            │ (\u001b[38;5;45mNone\u001b[0m, \u001b[38;5;34m30364\u001b[0m, \u001b[38;5;34m100\u001b[0m)     │             \u001b[38;5;34m0\u001b[0m │\n",
       "├─────────────────────────────────┼────────────────────────┼───────────────┤\n",
       "│ lstm_17 (\u001b[38;5;33mLSTM\u001b[0m)                  │ (\u001b[38;5;45mNone\u001b[0m, \u001b[38;5;34m50\u001b[0m)             │        \u001b[38;5;34m30,200\u001b[0m │\n",
       "├─────────────────────────────────┼────────────────────────┼───────────────┤\n",
       "│ dropout_25 (\u001b[38;5;33mDropout\u001b[0m)            │ (\u001b[38;5;45mNone\u001b[0m, \u001b[38;5;34m50\u001b[0m)             │             \u001b[38;5;34m0\u001b[0m │\n",
       "├─────────────────────────────────┼────────────────────────┼───────────────┤\n",
       "│ dense_16 (\u001b[38;5;33mDense\u001b[0m)                │ (\u001b[38;5;45mNone\u001b[0m, \u001b[38;5;34m50\u001b[0m)             │         \u001b[38;5;34m2,550\u001b[0m │\n",
       "├─────────────────────────────────┼────────────────────────┼───────────────┤\n",
       "│ dropout_26 (\u001b[38;5;33mDropout\u001b[0m)            │ (\u001b[38;5;45mNone\u001b[0m, \u001b[38;5;34m50\u001b[0m)             │             \u001b[38;5;34m0\u001b[0m │\n",
       "├─────────────────────────────────┼────────────────────────┼───────────────┤\n",
       "│ dense_17 (\u001b[38;5;33mDense\u001b[0m)                │ (\u001b[38;5;45mNone\u001b[0m, \u001b[38;5;34m1\u001b[0m)              │            \u001b[38;5;34m51\u001b[0m │\n",
       "└─────────────────────────────────┴────────────────────────┴───────────────┘\n"
      ]
     },
     "metadata": {},
     "output_type": "display_data"
    },
    {
     "data": {
      "text/html": [
       "<pre style=\"white-space:pre;overflow-x:auto;line-height:normal;font-family:Menlo,'DejaVu Sans Mono',consolas,'Courier New',monospace\"><span style=\"font-weight: bold\"> Total params: </span><span style=\"color: #00af00; text-decoration-color: #00af00\">73,601</span> (287.50 KB)\n",
       "</pre>\n"
      ],
      "text/plain": [
       "\u001b[1m Total params: \u001b[0m\u001b[38;5;34m73,601\u001b[0m (287.50 KB)\n"
      ]
     },
     "metadata": {},
     "output_type": "display_data"
    },
    {
     "data": {
      "text/html": [
       "<pre style=\"white-space:pre;overflow-x:auto;line-height:normal;font-family:Menlo,'DejaVu Sans Mono',consolas,'Courier New',monospace\"><span style=\"font-weight: bold\"> Trainable params: </span><span style=\"color: #00af00; text-decoration-color: #00af00\">73,601</span> (287.50 KB)\n",
       "</pre>\n"
      ],
      "text/plain": [
       "\u001b[1m Trainable params: \u001b[0m\u001b[38;5;34m73,601\u001b[0m (287.50 KB)\n"
      ]
     },
     "metadata": {},
     "output_type": "display_data"
    },
    {
     "data": {
      "text/html": [
       "<pre style=\"white-space:pre;overflow-x:auto;line-height:normal;font-family:Menlo,'DejaVu Sans Mono',consolas,'Courier New',monospace\"><span style=\"font-weight: bold\"> Non-trainable params: </span><span style=\"color: #00af00; text-decoration-color: #00af00\">0</span> (0.00 B)\n",
       "</pre>\n"
      ],
      "text/plain": [
       "\u001b[1m Non-trainable params: \u001b[0m\u001b[38;5;34m0\u001b[0m (0.00 B)\n"
      ]
     },
     "metadata": {},
     "output_type": "display_data"
    },
    {
     "name": "stdout",
     "output_type": "stream",
     "text": [
      "None\n",
      "========================================================================\n",
      "compile/fit model\n",
      "Epoch 1/30\n",
      "26/26 - 4181s - 161s/step - accuracy: 0.4881 - loss: 0.6932 - val_accuracy: 0.5073 - val_loss: 0.6930\n",
      "Epoch 2/30\n",
      "26/26 - 4009s - 154s/step - accuracy: 0.4960 - loss: 0.6936 - val_accuracy: 0.5073 - val_loss: 0.6931\n",
      "Epoch 3/30\n",
      "26/26 - 3993s - 154s/step - accuracy: 0.4796 - loss: 0.6933 - val_accuracy: 0.4927 - val_loss: 0.6932\n",
      "Epoch 4/30\n",
      "26/26 - 4027s - 155s/step - accuracy: 0.4899 - loss: 0.6933 - val_accuracy: 0.5073 - val_loss: 0.6930\n",
      "Epoch 5/30\n",
      "26/26 - 4191s - 161s/step - accuracy: 0.5009 - loss: 0.6932 - val_accuracy: 0.5073 - val_loss: 0.6931\n",
      "Epoch 6/30\n",
      "26/26 - 4333s - 167s/step - accuracy: 0.5125 - loss: 0.6934 - val_accuracy: 0.5073 - val_loss: 0.6930\n",
      "Epoch 7/30\n",
      "26/26 - 4257s - 164s/step - accuracy: 0.5076 - loss: 0.6931 - val_accuracy: 0.5073 - val_loss: 0.6930\n",
      "Epoch 8/30\n",
      "26/26 - 4219s - 162s/step - accuracy: 0.4857 - loss: 0.6936 - val_accuracy: 0.5073 - val_loss: 0.6930\n",
      "Epoch 9/30\n"
     ]
    }
   ],
   "source": [
    "def evaluate_kmers_LSTM(X_train, X_test, X_val, y_train, y_test, y_val,epochs, patience=3):\n",
    "\n",
    "    print(f\"=========================k={k}\")\n",
    "    padded_X_train = X_train.reshape(X_train.shape[0], X_train.shape[1], 1)\n",
    "    padded_X_test = X_test.reshape(X_test.shape[0], X_test.shape[1], 1)\n",
    "\n",
    "\n",
    "    # Define LSTM model\n",
    "    model = Sequential()\n",
    "    model.add(LSTM(100, input_shape=(padded_X_train.shape[1], 1), dropout=0.2, recurrent_dropout=0.2, return_sequences=True))\n",
    "    model.add(Dropout(0.2))  # Adding a dropout layer for regularization\n",
    "\n",
    "    # Second LSTM layer without return_sequences (as it's the last LSTM layer)\n",
    "    model.add(LSTM(50, dropout=0.2, recurrent_dropout=0.2))\n",
    "    model.add(Dropout(0.2))  # Another dropout layer\n",
    "\n",
    "    # Adding a Dense hidden layer\n",
    "    model.add(Dense(50, activation='relu'))\n",
    "    model.add(Dropout(0.2))  # Dropout for regularization    \n",
    "    model.add(Dense(1, activation='sigmoid'))\n",
    "    \n",
    "    print(\"========================================================================\\nmodel.summary\")\n",
    "    print(model.summary())\n",
    "    print(\"========================================================================\\ncompile/fit model\")\n",
    "\n",
    "    # Compile the model\n",
    "    model.compile(optimizer='adam', loss='binary_crossentropy', metrics=['accuracy'])\n",
    "    \n",
    "    \n",
    "    # Early stopping\n",
    "    early_stopping = EarlyStopping(monitor='val_loss', patience=patience, restore_best_weights=True)\n",
    "\n",
    "    # Train the model\n",
    "    history = model.fit(padded_X_train, y_train, epochs=epochs, batch_size=64, validation_data=(X_val,y_val), callbacks=[early_stopping], verbose=2)\n",
    "\n",
    "    # Plot training & validation accuracy and loss\n",
    "    plt.figure(figsize=(12, 6))\n",
    "    plt.subplot(1, 2, 1)\n",
    "    plt.plot(history.history['accuracy'], label='Training Accuracy')\n",
    "    plt.plot(history.history['val_accuracy'], label='Validation Accuracy')\n",
    "    plt.xlabel('Epochs')\n",
    "    plt.ylabel('Accuracy')\n",
    "    plt.title('Training and Validation Accuracy')\n",
    "    plt.legend()\n",
    "\n",
    "    plt.subplot(1, 2, 2)\n",
    "    plt.plot(history.history['loss'], label='Training Loss')\n",
    "    plt.plot(history.history['val_loss'], label='Validation Loss')\n",
    "    plt.xlabel('Epochs')\n",
    "    plt.ylabel('Loss')\n",
    "    plt.title('Training and Validation Loss')\n",
    "    plt.legend()\n",
    "\n",
    "    plt.show()\n",
    "\n",
    "    y_test_pred = model.predict(padded_X_test)\n",
    "\n",
    "    # Check the shape of the predictions\n",
    "    print(f\"Predictions shape: {y_test_pred.shape}, Expected: {y_test.shape}\")\n",
    "    \n",
    "    # Apply thresholding for binary classification\n",
    "    y_test_pred = (y_test_pred > 0.5).astype(int)\n",
    "    \n",
    "    # Flatten the predictions if necessary\n",
    "    if len(y_test_pred.shape) > 1:\n",
    "        y_test_pred = y_test_pred.flatten()\n",
    "    \n",
    "    # Now calculate accuracy\n",
    "    final_score = accuracy_score(y_test, y_test_pred)\n",
    "    print(\"Test accuracy: \", final_score)\n",
    "    print(classification_report(y_test, y_test_pred))\n",
    "\n",
    "    # Confusion Matrix\n",
    "    cm = confusion_matrix(y_test, y_test_pred)\n",
    "    print(cm)\n",
    "    plt.figure(figsize=(10, 7))\n",
    "    sns.heatmap(cm, annot=True, fmt='d', cmap='Blues')\n",
    "    plt.xlabel('Predicted')\n",
    "    plt.ylabel('True')\n",
    "    plt.title('Confusion Matrix')\n",
    "    plt.show()\n",
    "\n",
    "    # Save the model\n",
    "    model.save(f\"/kaggle/working/lstm_model_{vecto}_k={k}.h5\")\n",
    "    dump(vectorizer, f\"/kaggle/working/{vecto}_vectorizer_lstm_k={k}.joblib\")\n",
    "    # model.save(f\"{path}models/lstm_model_CV_k={k}.h5\")\n",
    "# num_features = len(features_to_keep)\n",
    "# print(num_features)\n",
    "# X_train_concat = np.concatenate([sequences_train_final, sequences_val_final], axis=0)\n",
    "# y_train_concat = np.concatenate([y_train, y_val], axis=0)\n",
    "evaluate_kmers_LSTM(sequences_train.toarray(), sequences_test.toarray(),sequences_val.toarray(), y_train, y_test, y_val, epochs=30)"
   ]
  }
 ],
 "metadata": {
  "accelerator": "GPU",
  "colab": {
   "collapsed_sections": [
    "JYRP1ADzL8Nr",
    "aGVkMiU2JPdF",
    "v1_VisysVaMe",
    "tdneKkYQMLBL",
    "b13qPPP0MaF4",
    "bgw7eaJbaMWD",
    "Dr_4w7TnzFZg",
    "agq-sQRSMdCf",
    "3jnX4T4Zp96H",
    "2-K6goHjlTOE",
    "IZXxdSyBlfjr",
    "giSJUyt5ymho",
    "kSSkSR8kofBh",
    "wEcJbUcRXULl",
    "o2l3Jey0Sob2",
    "FrNXoagimYDV",
    "2fgT8yujES0U",
    "ZSG0KYmimEg0"
   ],
   "gpuType": "T4",
   "provenance": [],
   "toc_visible": true
  },
  "kaggle": {
   "accelerator": "none",
   "dataSources": [
    {
     "datasetId": 5412241,
     "sourceId": 8986585,
     "sourceType": "datasetVersion"
    },
    {
     "datasetId": 5415956,
     "sourceId": 8991857,
     "sourceType": "datasetVersion"
    },
    {
     "datasetId": 5417169,
     "sourceId": 8993648,
     "sourceType": "datasetVersion"
    },
    {
     "datasetId": 5417269,
     "sourceId": 8993807,
     "sourceType": "datasetVersion"
    },
    {
     "datasetId": 5446295,
     "sourceId": 9035181,
     "sourceType": "datasetVersion"
    },
    {
     "modelId": 98410,
     "modelInstanceId": 73567,
     "sourceId": 87594,
     "sourceType": "modelInstanceVersion"
    },
    {
     "isSourceIdPinned": true,
     "modelId": 98720,
     "modelInstanceId": 73897,
     "sourceId": 87990,
     "sourceType": "modelInstanceVersion"
    }
   ],
   "dockerImageVersionId": 30746,
   "isGpuEnabled": false,
   "isInternetEnabled": true,
   "language": "python",
   "sourceType": "notebook"
  },
  "kernelspec": {
   "display_name": "Python 3 (ipykernel)",
   "language": "python",
   "name": "python3"
  },
  "language_info": {
   "codemirror_mode": {
    "name": "ipython",
    "version": 3
   },
   "file_extension": ".py",
   "mimetype": "text/x-python",
   "name": "python",
   "nbconvert_exporter": "python",
   "pygments_lexer": "ipython3",
   "version": "3.11.7"
  }
 },
 "nbformat": 4,
 "nbformat_minor": 4
}
